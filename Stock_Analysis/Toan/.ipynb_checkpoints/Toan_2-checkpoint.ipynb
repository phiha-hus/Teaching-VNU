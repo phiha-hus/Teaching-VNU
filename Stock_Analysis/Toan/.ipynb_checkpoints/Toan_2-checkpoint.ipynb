{
 "cells": [
  {
   "cell_type": "code",
   "execution_count": 12,
   "metadata": {},
   "outputs": [
    {
     "name": "stdout",
     "output_type": "stream",
     "text": [
      "<class 'pandas.core.frame.DataFrame'>\n",
      "RangeIndex: 13 entries, 0 to 12\n",
      "Data columns (total 15 columns):\n",
      " #   Column          Non-Null Count  Dtype \n",
      "---  ------          --------------  ----- \n",
      " 0   age             13 non-null     int64 \n",
      " 1   workclass       13 non-null     object\n",
      " 2   fnlwgt          13 non-null     int64 \n",
      " 3   education       13 non-null     object\n",
      " 4   education-num   13 non-null     int64 \n",
      " 5   marital-status  13 non-null     object\n",
      " 6   occupation      13 non-null     object\n",
      " 7   relationship    13 non-null     object\n",
      " 8   race            13 non-null     object\n",
      " 9   sex             13 non-null     object\n",
      " 10  capital-gain    13 non-null     int64 \n",
      " 11  capital-loss    13 non-null     int64 \n",
      " 12  hours-per-week  13 non-null     int64 \n",
      " 13  native-country  13 non-null     object\n",
      " 14  class           13 non-null     object\n",
      "dtypes: int64(6), object(9)\n",
      "memory usage: 1.6+ KB\n"
     ]
    }
   ],
   "source": [
    "import pandas as pd\n",
    "\n",
    "df = pd.read_csv('adult_data_Phi.txt')\n",
    "print(df)\n",
    "\n",
    "df.info()"
   ]
  },
  {
   "cell_type": "code",
   "execution_count": null,
   "metadata": {},
   "outputs": [],
   "source": []
  }
 ],
 "metadata": {
  "kernelspec": {
   "display_name": "Python 3",
   "language": "python",
   "name": "python3"
  },
  "language_info": {
   "codemirror_mode": {
    "name": "ipython",
    "version": 3
   },
   "file_extension": ".py",
   "mimetype": "text/x-python",
   "name": "python",
   "nbconvert_exporter": "python",
   "pygments_lexer": "ipython3",
   "version": "3.8.5"
  }
 },
 "nbformat": 4,
 "nbformat_minor": 4
}
