{
 "cells": [
  {
   "cell_type": "markdown",
   "metadata": {},
   "source": [
    "# https://www.geeksforgeeks.org/working-with-missing-data-in-pandas/"
   ]
  },
  {
   "cell_type": "code",
   "execution_count": 1,
   "metadata": {},
   "outputs": [
    {
     "data": {
      "text/html": [
       "<div>\n",
       "<style scoped>\n",
       "    .dataframe tbody tr th:only-of-type {\n",
       "        vertical-align: middle;\n",
       "    }\n",
       "\n",
       "    .dataframe tbody tr th {\n",
       "        vertical-align: top;\n",
       "    }\n",
       "\n",
       "    .dataframe thead th {\n",
       "        text-align: right;\n",
       "    }\n",
       "</style>\n",
       "<table border=\"1\" class=\"dataframe\">\n",
       "  <thead>\n",
       "    <tr style=\"text-align: right;\">\n",
       "      <th></th>\n",
       "      <th>A</th>\n",
       "      <th>B</th>\n",
       "      <th>C</th>\n",
       "      <th>D</th>\n",
       "    </tr>\n",
       "  </thead>\n",
       "  <tbody>\n",
       "    <tr>\n",
       "      <th>0</th>\n",
       "      <td>12.0</td>\n",
       "      <td>NaN</td>\n",
       "      <td>20.0</td>\n",
       "      <td>14.0</td>\n",
       "    </tr>\n",
       "    <tr>\n",
       "      <th>1</th>\n",
       "      <td>4.0</td>\n",
       "      <td>2.0</td>\n",
       "      <td>16.0</td>\n",
       "      <td>3.0</td>\n",
       "    </tr>\n",
       "    <tr>\n",
       "      <th>2</th>\n",
       "      <td>5.0</td>\n",
       "      <td>54.0</td>\n",
       "      <td>NaN</td>\n",
       "      <td>NaN</td>\n",
       "    </tr>\n",
       "    <tr>\n",
       "      <th>3</th>\n",
       "      <td>NaN</td>\n",
       "      <td>3.0</td>\n",
       "      <td>3.0</td>\n",
       "      <td>NaN</td>\n",
       "    </tr>\n",
       "    <tr>\n",
       "      <th>4</th>\n",
       "      <td>1.0</td>\n",
       "      <td>NaN</td>\n",
       "      <td>8.0</td>\n",
       "      <td>6.0</td>\n",
       "    </tr>\n",
       "  </tbody>\n",
       "</table>\n",
       "</div>"
      ],
      "text/plain": [
       "      A     B     C     D\n",
       "0  12.0   NaN  20.0  14.0\n",
       "1   4.0   2.0  16.0   3.0\n",
       "2   5.0  54.0   NaN   NaN\n",
       "3   NaN   3.0   3.0   NaN\n",
       "4   1.0   NaN   8.0   6.0"
      ]
     },
     "execution_count": 1,
     "metadata": {},
     "output_type": "execute_result"
    }
   ],
   "source": [
    "# importing pandas as pd\n",
    "import pandas as pd\n",
    "  \n",
    "# Creating the dataframe \n",
    "df = pd.DataFrame({\"A\":[12, 4, 5, None, 1],\n",
    "                   \"B\":[None, 2, 54, 3, None],\n",
    "                   \"C\":[20, 16, None, 3, 8],\n",
    "                   \"D\":[14, 3, None, None, 6]})\n",
    "  \n",
    "# Print the dataframe\n",
    "df"
   ]
  },
  {
   "cell_type": "markdown",
   "metadata": {},
   "source": [
    "# Fill in missing values using interpolation in PANDAS\n",
    "# https://www.geeksforgeeks.org/python-pandas-dataframe-interpolate/"
   ]
  },
  {
   "cell_type": "code",
   "execution_count": 3,
   "metadata": {},
   "outputs": [
    {
     "data": {
      "text/html": [
       "<div>\n",
       "<style scoped>\n",
       "    .dataframe tbody tr th:only-of-type {\n",
       "        vertical-align: middle;\n",
       "    }\n",
       "\n",
       "    .dataframe tbody tr th {\n",
       "        vertical-align: top;\n",
       "    }\n",
       "\n",
       "    .dataframe thead th {\n",
       "        text-align: right;\n",
       "    }\n",
       "</style>\n",
       "<table border=\"1\" class=\"dataframe\">\n",
       "  <thead>\n",
       "    <tr style=\"text-align: right;\">\n",
       "      <th></th>\n",
       "      <th>A</th>\n",
       "      <th>B</th>\n",
       "      <th>C</th>\n",
       "      <th>D</th>\n",
       "    </tr>\n",
       "  </thead>\n",
       "  <tbody>\n",
       "    <tr>\n",
       "      <th>0</th>\n",
       "      <td>12.0</td>\n",
       "      <td>NaN</td>\n",
       "      <td>20.0</td>\n",
       "      <td>14.0</td>\n",
       "    </tr>\n",
       "    <tr>\n",
       "      <th>1</th>\n",
       "      <td>4.0</td>\n",
       "      <td>2.0</td>\n",
       "      <td>16.0</td>\n",
       "      <td>3.0</td>\n",
       "    </tr>\n",
       "    <tr>\n",
       "      <th>2</th>\n",
       "      <td>5.0</td>\n",
       "      <td>54.0</td>\n",
       "      <td>9.5</td>\n",
       "      <td>4.0</td>\n",
       "    </tr>\n",
       "    <tr>\n",
       "      <th>3</th>\n",
       "      <td>3.0</td>\n",
       "      <td>3.0</td>\n",
       "      <td>3.0</td>\n",
       "      <td>5.0</td>\n",
       "    </tr>\n",
       "    <tr>\n",
       "      <th>4</th>\n",
       "      <td>1.0</td>\n",
       "      <td>3.0</td>\n",
       "      <td>8.0</td>\n",
       "      <td>6.0</td>\n",
       "    </tr>\n",
       "  </tbody>\n",
       "</table>\n",
       "</div>"
      ],
      "text/plain": [
       "      A     B     C     D\n",
       "0  12.0   NaN  20.0  14.0\n",
       "1   4.0   2.0  16.0   3.0\n",
       "2   5.0  54.0   9.5   4.0\n",
       "3   3.0   3.0   3.0   5.0\n",
       "4   1.0   3.0   8.0   6.0"
      ]
     },
     "execution_count": 3,
     "metadata": {},
     "output_type": "execute_result"
    }
   ],
   "source": [
    "# to interpolate the missing values\n",
    "df_interp = df.interpolate(method ='linear', limit_direction ='forward')\n",
    "df_interp"
   ]
  },
  {
   "cell_type": "code",
   "execution_count": 4,
   "metadata": {},
   "outputs": [
    {
     "data": {
      "text/html": [
       "<div>\n",
       "<style scoped>\n",
       "    .dataframe tbody tr th:only-of-type {\n",
       "        vertical-align: middle;\n",
       "    }\n",
       "\n",
       "    .dataframe tbody tr th {\n",
       "        vertical-align: top;\n",
       "    }\n",
       "\n",
       "    .dataframe thead th {\n",
       "        text-align: right;\n",
       "    }\n",
       "</style>\n",
       "<table border=\"1\" class=\"dataframe\">\n",
       "  <thead>\n",
       "    <tr style=\"text-align: right;\">\n",
       "      <th></th>\n",
       "      <th>A</th>\n",
       "      <th>B</th>\n",
       "      <th>C</th>\n",
       "      <th>D</th>\n",
       "    </tr>\n",
       "  </thead>\n",
       "  <tbody>\n",
       "    <tr>\n",
       "      <th>0</th>\n",
       "      <td>12.0</td>\n",
       "      <td>2.0</td>\n",
       "      <td>20.0</td>\n",
       "      <td>14.0</td>\n",
       "    </tr>\n",
       "    <tr>\n",
       "      <th>1</th>\n",
       "      <td>4.0</td>\n",
       "      <td>2.0</td>\n",
       "      <td>16.0</td>\n",
       "      <td>3.0</td>\n",
       "    </tr>\n",
       "    <tr>\n",
       "      <th>2</th>\n",
       "      <td>5.0</td>\n",
       "      <td>54.0</td>\n",
       "      <td>9.5</td>\n",
       "      <td>NaN</td>\n",
       "    </tr>\n",
       "    <tr>\n",
       "      <th>3</th>\n",
       "      <td>3.0</td>\n",
       "      <td>3.0</td>\n",
       "      <td>3.0</td>\n",
       "      <td>5.0</td>\n",
       "    </tr>\n",
       "    <tr>\n",
       "      <th>4</th>\n",
       "      <td>1.0</td>\n",
       "      <td>NaN</td>\n",
       "      <td>8.0</td>\n",
       "      <td>6.0</td>\n",
       "    </tr>\n",
       "  </tbody>\n",
       "</table>\n",
       "</div>"
      ],
      "text/plain": [
       "      A     B     C     D\n",
       "0  12.0   2.0  20.0  14.0\n",
       "1   4.0   2.0  16.0   3.0\n",
       "2   5.0  54.0   9.5   NaN\n",
       "3   3.0   3.0   3.0   5.0\n",
       "4   1.0   NaN   8.0   6.0"
      ]
     },
     "execution_count": 4,
     "metadata": {},
     "output_type": "execute_result"
    }
   ],
   "source": [
    "# to interpolate the missing values\n",
    "df_interp_2 = df.interpolate(method ='linear', limit_direction ='backward', limit = 1)\n",
    "df_interp_2"
   ]
  },
  {
   "cell_type": "markdown",
   "metadata": {},
   "source": [
    "# https://towardsdatascience.com/implement-expectation-maximization-em-algorithm-in-python-from-scratch-f1278d1b9137"
   ]
  },
  {
   "cell_type": "code",
   "execution_count": 43,
   "metadata": {},
   "outputs": [],
   "source": [
    "import numpy as np\n",
    "import pandas as pd\n",
    "import matplotlib.pyplot as plt\n",
    "from scipy.stats import multivariate_normal\n",
    "from scipy.special import logsumexp\n",
    "\n",
    "data_unlabeled = pd.read_csv(\"data/unlabeled.csv\")\n",
    "x_unlabeled = data_unlabeled[[\"x1\", \"x2\"]].values"
   ]
  },
  {
   "cell_type": "code",
   "execution_count": 44,
   "metadata": {},
   "outputs": [],
   "source": [
    "def get_random_psd(n):\n",
    "    x = np.random.normal(0, 1, size=(n, n))\n",
    "    return np.dot(x, x.transpose())\n",
    "\n",
    "\n",
    "def initialize_random_params():\n",
    "    params = {'phi': np.random.uniform(0, 1),\n",
    "              'mu0': np.random.normal(0, 1, size=(2,)),\n",
    "              'mu1': np.random.normal(0, 1, size=(2,)),\n",
    "              'sigma0': get_random_psd(2),\n",
    "              'sigma1': get_random_psd(2)}\n",
    "    return params"
   ]
  },
  {
   "cell_type": "code",
   "execution_count": 45,
   "metadata": {},
   "outputs": [],
   "source": [
    "def e_step(x, params):\n",
    "    np.log([multivariate_normal(params[\"mu0\"], params[\"sigma0\"]).pdf(x),\n",
    "            multivariate_normal(params[\"mu1\"], params[\"sigma1\"]).pdf(x)])\n",
    "    log_p_y_x = np.log([1-params[\"phi\"], params[\"phi\"]])[np.newaxis, ...] + \\\n",
    "                np.log([multivariate_normal(params[\"mu0\"], params[\"sigma0\"]).pdf(x),\n",
    "            multivariate_normal(params[\"mu1\"], params[\"sigma1\"]).pdf(x)]).T\n",
    "    log_p_y_x_norm = logsumexp(log_p_y_x, axis=1)\n",
    "    return log_p_y_x_norm, np.exp(log_p_y_x - log_p_y_x_norm[..., np.newaxis])"
   ]
  },
  {
   "cell_type": "code",
   "execution_count": 46,
   "metadata": {},
   "outputs": [],
   "source": [
    "def m_step(x, params):\n",
    "    total_count = x.shape[0]\n",
    "    _, heuristics = e_step(x, params)\n",
    "    heuristic0 = heuristics[:, 0]\n",
    "    heuristic1 = heuristics[:, 1]\n",
    "    sum_heuristic1 = np.sum(heuristic1)\n",
    "    sum_heuristic0 = np.sum(heuristic0)\n",
    "    phi = (sum_heuristic1/total_count)\n",
    "    mu0 = (heuristic0[..., np.newaxis].T.dot(x)/sum_heuristic0).flatten()\n",
    "    mu1 = (heuristic1[..., np.newaxis].T.dot(x)/sum_heuristic1).flatten()\n",
    "    diff0 = x - mu0\n",
    "    sigma0 = diff0.T.dot(diff0 * heuristic0[..., np.newaxis]) / sum_heuristic0\n",
    "    diff1 = x - mu1\n",
    "    sigma1 = diff1.T.dot(diff1 * heuristic1[..., np.newaxis]) / sum_heuristic1\n",
    "    params = {'phi': phi, 'mu0': mu0, 'mu1': mu1, 'sigma0': sigma0, 'sigma1': sigma1}\n",
    "    return params"
   ]
  },
  {
   "cell_type": "code",
   "execution_count": 47,
   "metadata": {},
   "outputs": [],
   "source": [
    "def get_avg_log_likelihood(x, params):\n",
    "    loglikelihood, _ = e_step(x, params)\n",
    "    return np.mean(loglikelihood)\n",
    "\n",
    "\n",
    "def run_em(x, params):\n",
    "    avg_loglikelihoods = []\n",
    "    while True:\n",
    "        avg_loglikelihood = get_avg_log_likelihood(x, params)\n",
    "        avg_loglikelihoods.append(avg_loglikelihood)\n",
    "        if len(avg_loglikelihoods) > 2 and abs(avg_loglikelihoods[-1] - avg_loglikelihoods[-2]) < 0.0001:\n",
    "            break\n",
    "        params = m_step(x_unlabeled, params)\n",
    "    print(\"\\tphi: %s\\n\\tmu_0: %s\\n\\tmu_1: %s\\n\\tsigma_0: %s\\n\\tsigma_1: %s\"\n",
    "               % (params['phi'], params['mu0'], params['mu1'], params['sigma0'], params['sigma1']))\n",
    "    _, posterior = e_step(x_unlabeled, params)\n",
    "    forecasts = np.argmax(posterior, axis=1)\n",
    "    return forecasts, posterior, avg_loglikelihoods\n"
   ]
  },
  {
   "cell_type": "code",
   "execution_count": 48,
   "metadata": {},
   "outputs": [
    {
     "name": "stdout",
     "output_type": "stream",
     "text": [
      "\tphi: 0.4225810708365641\n",
      "\tmu_0: [1.00669857 1.00524928]\n",
      "\tmu_1: [-1.02855011 -0.99608097]\n",
      "\tsigma_0: [[0.70209932 0.13422222]\n",
      " [0.13422222 0.30360867]]\n",
      "\tsigma_1: [[0.37245288 0.32761436]\n",
      " [0.32761436 0.78888141]]\n",
      "total steps:  40\n"
     ]
    },
    {
     "name": "stderr",
     "output_type": "stream",
     "text": [
      "<ipython-input-45-a60c4ae6ae29>:2: RuntimeWarning: divide by zero encountered in log\n",
      "  np.log([multivariate_normal(params[\"mu0\"], params[\"sigma0\"]).pdf(x),\n",
      "<ipython-input-45-a60c4ae6ae29>:5: RuntimeWarning: divide by zero encountered in log\n",
      "  np.log([multivariate_normal(params[\"mu0\"], params[\"sigma0\"]).pdf(x),\n"
     ]
    },
    {
     "data": {
      "image/png": "[encoded data removed]",
      "text/plain": [
       "<Figure size 432x288 with 1 Axes>"
      ]
     },
     "metadata": {
      "needs_background": "light"
     },
     "output_type": "display_data"
    }
   ],
   "source": [
    "random_params = initialize_random_params()\n",
    "unsupervised_forecastsforecasts, unsupervised_posterior, unsupervised_loglikelihoods = run_em(x_unlabeled, random_params)\n",
    "print(\"total steps: \", len(unsupervised_loglikelihoods))\n",
    "plt.plot(unsupervised_loglikelihoods)\n",
    "plt.title(\"unsupervised log likelihoods\")\n",
    "plt.savefig(\"unsupervised.png\")\n",
    "plt.show()\n",
    "#plt.close()"
   ]
  },
  {
   "cell_type": "code",
   "execution_count": null,
   "metadata": {},
   "outputs": [],
   "source": []
  }
 ],
 "metadata": {
  "kernelspec": {
   "display_name": "Python 3",
   "language": "python",
   "name": "python3"
  },
  "language_info": {
   "codemirror_mode": {
    "name": "ipython",
    "version": 3
   },
   "file_extension": ".py",
   "mimetype": "text/x-python",
   "name": "python",
   "nbconvert_exporter": "python",
   "pygments_lexer": "ipython3",
   "version": "3.8.5"
  }
 },
 "nbformat": 4,
 "nbformat_minor": 4
}
