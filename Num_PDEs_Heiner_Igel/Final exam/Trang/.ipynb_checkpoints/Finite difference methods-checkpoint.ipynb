{
 "cells": [
  {
   "cell_type": "markdown",
   "metadata": {},
   "source": [
    "# FINITE DIFFERENCE METHODS\n"
   ]
  },
  {
   "cell_type": "markdown",
   "metadata": {},
   "source": [
    "## Câu 1\n",
    "The Taylor expansion of $f(x + dx)$ around $x$ is defined as \n",
    "\n",
    "$$\n",
    "f(x+dx)=\\sum_{n=0}^\\infty \\frac{f^{(n)}(x)}{n!}dx^{n}  \n",
    "$$\n",
    "\n",
    "\n",
    "Finite-difference operators can be calculated by seeking weights (here: $a$, $b$, $c$) with which function values have to be multiplied to obtain an interpolation or a derivative. Example:\n",
    "\n",
    "$$\n",
    "\\begin{align}\n",
    "a ~ f(x + dx) & \\ = \\ a ~ \\left[ ~  f(x) +  f^{'} (x) dx +  \\frac{1}{2!}  f^{''} (x) dx^2   + \\dotsc  ~ \\right] \\\\\n",
    "b ~ f(x) & \\  = \\ b ~ \\left[ ~  f(x)  ~ \\right] \\\\\n",
    "c ~ f(x - dx) & \\ = \\ c ~ \\left[ ~  f(x) -  f^{'} (x) dx +  \\frac{1}{2!}  f^{''} (x) dx^2   - \\dotsc  ~ \\right]\n",
    "\\end{align}\n",
    "$$\n",
    "\n",
    "This can  be expressed in matrix form by comparing coefficients, here seeking a 2nd derivative\n",
    "\n",
    "$$\n",
    "\\begin{align}\n",
    "&a  ~~+~~            ~~~~b           &+~~  c & = & 0 \\\\\n",
    "&a  ~~\\phantom{+}~~ \\phantom{b}  &-~~  c & = & 0 \\\\\n",
    "&a  ~~\\phantom{+}~~ \\phantom{b}  &+~~  c & = & \\frac{2!}{\\mathrm{d}x^2}\n",
    "\\end{align}\n",
    "$$\n",
    "\n",
    "which leads to \n",
    "\n",
    "$$\n",
    "\\begin{pmatrix}\n",
    "  1 & 1 & 1 \\\\\n",
    "  1 & 0 & -1 \\\\\n",
    "  1 & 0 & 1\n",
    " \\end{pmatrix}\n",
    "\\begin{pmatrix}\n",
    "  a\\\\\n",
    " b \\\\\n",
    " c\n",
    " \\end{pmatrix}\n",
    " =\n",
    " \\begin{pmatrix}\n",
    "  0\\\\\n",
    " 0 \\\\\n",
    " \\frac{2!}{dx^2}\n",
    " \\end{pmatrix}\n",
    "$$\n",
    "\n",
    "and using matrix inversion we obtain \n",
    "\n",
    "$$\n",
    "\\begin{pmatrix}\n",
    "a \\\\\n",
    "b\\\\\n",
    "c\n",
    "\\end{pmatrix}\n",
    "=\n",
    "\\begin{pmatrix}\n",
    "\\frac{1}{2 \\mathrm{d}x^2} \\\\\n",
    " - \\frac{2}{2 \\mathrm{d}x^2} \\\\\n",
    "  \\frac{1}{2 \\mathrm{d}x^2}\n",
    "\\end{pmatrix}\n",
    "$$\n"
   ]
  },
  {
   "cell_type": "code",
   "execution_count": 1,
   "metadata": {},
   "outputs": [],
   "source": [
    "# Import libaries\n",
    "import math\n",
    "import numpy as np\n",
    "import matplotlib.pyplot as plt"
   ]
  },
  {
   "cell_type": "code",
   "execution_count": 2,
   "metadata": {},
   "outputs": [],
   "source": [
    "# Define function to calculate Taylor operators\n",
    "def central_difference_coefficients(nop, n):\n",
    "    m = np.zeros((nop, nop))\n",
    "    for i in range(nop):\n",
    "        for j in range(nop):\n",
    "            dx = j - nop // 2\n",
    "            m[i, j] = dx ** i\n",
    "    \n",
    "    s = np.zeros(nop)\n",
    "    s[n] = math.factorial(n)\n",
    "    \n",
    "    # The following statement return oper = inv(m) s\n",
    "    oper = np.linalg.solve(m, s)\n",
    "    # Calculate operator\n",
    "    return oper"
   ]
  },
  {
   "cell_type": "code",
   "execution_count": 4,
   "metadata": {},
   "outputs": [],
   "source": [
    "# Give length of operator (odd)\n",
    "nop = 9\n",
    "# Give order of derivative\n",
    "n = 2\n",
    "# Calculate Taylor operator\n",
    "oper = central_difference_coefficients(nop, n)"
   ]
  },
  {
   "cell_type": "code",
   "execution_count": 5,
   "metadata": {},
   "outputs": [
    {
     "data": {
      "image/png": "[encoded data removed]",
      "text/plain": [
       "<Figure size 720x288 with 1 Axes>"
      ]
     },
     "metadata": {
      "needs_background": "light"
     },
     "output_type": "display_data"
    }
   ],
   "source": [
    "# Plot Taylor operator\n",
    "x = np.linspace(-(nop - 1) / 2, (nop - 1) / 2, nop)\n",
    "\n",
    "# Simple plot with operator\n",
    "plt.figure(figsize=(10, 4))\n",
    "plt.plot(x, oper,lw=2,color='blue')\n",
    "plt.plot(x, oper,lw=2,marker='o',color='blue')\n",
    "plt.plot(0, 0,lw=2,marker='o',color='red')\n",
    "#plt.plot (x, nder5-ader, label=\"Difference\", lw=2, ls=\":\")\n",
    "plt.title(\"Taylor Operator with nop =  %i \" % nop )\n",
    "plt.xlabel('x')\n",
    "plt.ylabel('Operator')\n",
    "plt.grid()\n",
    "plt.show()"
   ]
  },
  {
   "cell_type": "markdown",
   "metadata": {},
   "source": [
    "## Câu 2"
   ]
  },
  {
   "cell_type": "code",
   "execution_count": 6,
   "metadata": {
    "scrolled": true
   },
   "outputs": [
    {
     "name": "stdout",
     "output_type": "stream",
     "text": [
      "Nhập số điểm chia theo phương x, y: \n",
      "40\n",
      "Nhập số điểm chia thời gian trong khoảng [0,1]: \n",
      "80\n"
     ]
    }
   ],
   "source": [
    "#Khởi tạo lưới\n",
    "print(\"Nhập số điểm chia theo phương x, y: \")\n",
    "nx = int(input())          # Số điểm chia theo phương x\n",
    "ny = nx                    # Số điểm chia theo phương y = Số điểm chia theo phương x  \n",
    "dx = np.pi / (nx - 1) \n",
    "dy = dx\n",
    "print(\"Nhập số điểm chia thời gian trong khoảng [0,1]: \")\n",
    "nt = int(input())\n",
    "dt = 1/(nt - 1)\n",
    "\n",
    "p = np.zeros((nx, ny))\n",
    "pold = np.zeros((nx, ny))\n",
    "pnew = np.zeros((nx, ny))\n",
    "pxx = np.zeros((nx, ny))\n",
    "pyy = np.zeros((nx, ny))\n",
    "\n",
    "src = np.zeros((nx, ny))\n",
    "pexact = np.zeros((nx, ny))\n",
    "\n",
    "err = np.zeros((nx, ny))\n",
    "er = np.zeros(nt)\n",
    "\n",
    "amp = np.zeros(nt)"
   ]
  },
  {
   "cell_type": "code",
   "execution_count": 7,
   "metadata": {},
   "outputs": [],
   "source": [
    "# Vận tốc truyền sóng\n",
    "c = np.zeros((nx, ny))\n",
    "for i in range(1, nx - 1):\n",
    "    for j in range(1, ny - 1):\n",
    "        c[i, j] = np.sqrt(1 + (i*dx) ** 2 / np.pi ** 2 + (j * dy) ** 2 / np.pi ** 2)\n",
    "\n",
    "cmax = c.max()"
   ]
  },
  {
   "cell_type": "code",
   "execution_count": 8,
   "metadata": {},
   "outputs": [
    {
     "name": "stdout",
     "output_type": "stream",
     "text": [
      "Nhập op: \n",
      "5\n"
     ]
    }
   ],
   "source": [
    "n = 2\n",
    "print(\"Nhập op: \")\n",
    "op = int(input())"
   ]
  },
  {
   "cell_type": "code",
   "execution_count": 9,
   "metadata": {},
   "outputs": [],
   "source": [
    "for it in range(nt):\n",
    "    \n",
    "    for i in range(1, nx - 1): \n",
    "        for j in range(1, ny - 1):\n",
    "            #Nguồn\n",
    "            src[i,j]  = (1 + 2 * (i*dx / np.pi) ** 2 + 2 * (j*dx / np.pi) ** 2 ) * math.cos(it * dt) * math.sin(i * dx) * math.sin(j * dy)\n",
    "            #Nghiệm chính xác\n",
    "            pexact[i, j] = math.cos(it * dt) * math.sin(i * dx) * math.sin(j * dy) \n",
    "    \n",
    "    #Tính p bằng phương pháp sai phân\n",
    "    if op==3:\n",
    "        for i in range(1, nx - 1):\n",
    "            pyy[:, i] = p[:, i + 1] - 2 * p[:, i] + p[:, i - 1]\n",
    "        for j in range(1, ny - 1):\n",
    "            pxx[j, :] = p[j - 1, :] - 2 * p[j, :] + p[j + 1, :]\n",
    "\n",
    "    if op==5:\n",
    "        for i in range(2, nx - 2):\n",
    "            pyy[:, i] = -1./12*p[:,i+2]+4./3*p[:,i+1]-5./2*p[:,i]+4./3*p[:,i-1]-1./12*p[:,i-2]\n",
    "        for j in range(2, ny - 2):\n",
    "            pxx[j, :] = -1./12*p[j+2,:]+4./3*p[j+1,:]-5./2*p[j,:]+4./3*p[j-1,:]-1./12*p[j-2,:]\n",
    "                             \n",
    "    pxx /= dx ** 2\n",
    "    pyy /= dx ** 2\n",
    "\n",
    "    pnew = 2 * p - pold + dt ** 2 * c ** 2 * (pxx + pyy) + src\n",
    "    \n",
    "    pold, p = p, pnew\n",
    "    \n",
    "    #Sai số giữa nghiệm tính bằng phương pháp sai phân và nghiệm chính xác\n",
    "    err = abs(pexact - p)\n",
    "    er[it] = err.max()\n",
    "    #amp[it] = abs(p.max())\n",
    "    amp[it] = abs(p.max())\n",
    "    "
   ]
  },
  {
   "cell_type": "markdown",
   "metadata": {},
   "source": [
    "## Câu 4"
   ]
  },
  {
   "cell_type": "code",
   "execution_count": 10,
   "metadata": {},
   "outputs": [],
   "source": [
    "#Khởi tạo lưới\n",
    "nx = 401     \n",
    "ny = nx      \n",
    "nt = 1160    \n",
    "dx = 12.5     \n",
    "dy = dx\n",
    "dt = 0.001 \n",
    "\n",
    "#Vị trí nguồn\n",
    "isx = 201 \n",
    "isy = 161 \n",
    "\n",
    "ist = 100     \n",
    "fp = 10.0     \n",
    "isnap = 10    \n",
    "dr = 0.5/fp\n",
    "nop = 5       \n",
    "\n",
    "p = np.zeros((ny, nx))\n",
    "pold = np.zeros((ny, nx))\n",
    "pnew = np.zeros((ny, nx))\n",
    "pxx = np.zeros((ny, nx))\n",
    "pyy = np.zeros((ny, nx))\n",
    "\n",
    "amp03 = np.zeros(nx)\n",
    "amp065 = np.zeros(nx)\n",
    "amp095 = np.zeros(nx)\n",
    "amp115 = np.zeros(nx)"
   ]
  },
  {
   "cell_type": "code",
   "execution_count": 11,
   "metadata": {},
   "outputs": [
    {
     "name": "stdout",
     "output_type": "stream",
     "text": [
      "Courant Criterion eps :\n",
      "0.24\n"
     ]
    }
   ],
   "source": [
    "# vận tốc sóng\n",
    "c0 = 1500.0   \n",
    "c    = np.zeros((ny, nx)) \n",
    "c += c0\n",
    "c[nx // 2:,:] *= 2\n",
    "\n",
    "cmax = c.max()\n",
    "\n",
    "#Nguồn\n",
    "src = np.empty(nt + 1)\n",
    "time = np.arange(nt) * dt\n",
    "src = (1 - 2 * np.pi ** 2 * fp ** 2 * (time - dr) ** 2) * np.exp(-1 * np.pi ** 2 * fp ** 2 * (time - dr) ** 2)\n",
    "\n",
    "print(\"Courant Criterion eps :\")\n",
    "print(cmax*dt/dx)"
   ]
  },
  {
   "cell_type": "code",
   "execution_count": 12,
   "metadata": {},
   "outputs": [
    {
     "data": {
      "image/png": "[encoded data removed]",
      "text/plain": [
       "<Figure size 432x288 with 2 Axes>"
      ]
     },
     "metadata": {
      "needs_background": "light"
     },
     "output_type": "display_data"
    }
   ],
   "source": [
    "#Mô phỏng sóng\n",
    "v = max([np.abs(src.min()), np.abs(src.max())])\n",
    "\n",
    "image = plt.imshow(p, interpolation='nearest', animated=True, vmin=-v, vmax=+v, cmap=\"Blues\")      \n",
    "\n",
    "plt.text(isx, isy, 'o')\n",
    "plt.colorbar()\n",
    "plt.xlabel('ix')\n",
    "plt.ylabel('iy')\n",
    "\n",
    "plt.ion()\n",
    "plt.show()"
   ]
  },
  {
   "cell_type": "code",
   "execution_count": 13,
   "metadata": {},
   "outputs": [
    {
     "data": {
      "image/png": "[encoded data removed]",
      "text/plain": [
       "<Figure size 432x288 with 1 Axes>"
      ]
     },
     "metadata": {
      "needs_background": "light"
     },
     "output_type": "display_data"
    }
   ],
   "source": [
    "# Tính p bằng phương pháp sai phân hữu hạn\n",
    "for it in range(nt):\n",
    "    if nop==3:\n",
    "        # calculate partial derivatives, be careful around the boundaries\n",
    "        for i in range(1, ny - 1):\n",
    "            pyy[:, i] = p[:, i + 1] - 2 * p[:, i] + p[:, i - 1]\n",
    "        for j in range(1, nx - 1):\n",
    "            pxx[j, :] = p[j - 1, :] - 2 * p[j, :] + p[j + 1, :]\n",
    "\n",
    "    if nop==5:\n",
    "        # calculate partial derivatives, be careful around the boundaries\n",
    "        for i in range(2, ny - 2):\n",
    "            pyy[:, i] = -1./12*p[:,i+2]+4./3*p[:,i+1]-5./2*p[:,i]+4./3*p[:,i-1]-1./12*p[:,i-2]\n",
    "        for j in range(2, nx - 2):\n",
    "            pxx[j, :] = -1./12*p[j+2,:]+4./3*p[j+1,:]-5./2*p[j,:]+4./3*p[j-1,:]-1./12*p[j-2,:]\n",
    "                    \n",
    "            \n",
    "    pxx /= dx ** 2\n",
    "    pyy /= dy ** 2\n",
    "\n",
    "    \n",
    "    pnew = 2 * p - pold + dt ** 2 * c ** 2 * (pxx + pyy)\n",
    "\n",
    "    pnew[isy, isx] = pnew[isy, isx] + src[it]\n",
    "    \n",
    "    if it % isnap == 0: \n",
    "        plt.title(\"nt = %d \" %it)\n",
    "        image.set_data(pnew)\n",
    "        plt.gcf().canvas.draw()\n",
    "\n",
    "    pold, p = p, pnew\n",
    "    \n",
    "    if it == 300:\n",
    "        for i in range(1, ny - 1):\n",
    "            amp03[i] = p[i, 201]\n",
    "            \n",
    "    if it == 650:\n",
    "        for i in range(1, ny - 1):\n",
    "            amp065[i] = p[i, 201]\n",
    "    \n",
    "    if it == 950:\n",
    "        for i in range(1, ny - 1):\n",
    "            amp095[i] = p[i, 201]\n",
    "    \n",
    "    if it == 1150:\n",
    "        for i in range(1, ny - 1):\n",
    "            amp115[i] = p[i, 201]"
   ]
  },
  {
   "cell_type": "code",
   "execution_count": 14,
   "metadata": {},
   "outputs": [
    {
     "data": {
      "image/png": "[encoded data removed]",
      "text/plain": [
       "<Figure size 576x576 with 3 Axes>"
      ]
     },
     "metadata": {
      "needs_background": "light"
     },
     "output_type": "display_data"
    }
   ],
   "source": [
    "plt.ioff()\n",
    "plt.figure(figsize=(8, 8))\n",
    "\n",
    "plt.subplot(321)\n",
    "plt.plot(time, src)\n",
    "plt.title('Hàm sóng')\n",
    "plt.xlabel('T (s)')\n",
    "plt.ylabel('Biên độ sóng ')\n",
    "\n",
    "\n",
    "plt.subplot(322)\n",
    "plt.title('Mô hình vận tốc sóng')\n",
    "plt.imshow(c)\n",
    "plt.xlabel('x')\n",
    "plt.ylabel('y')\n",
    "plt.colorbar()\n",
    "\n",
    "plt.show()"
   ]
  },
  {
   "cell_type": "code",
   "execution_count": 15,
   "metadata": {},
   "outputs": [
    {
     "data": {
      "image/png": "[encoded data removed]",
      "text/plain": [
       "<Figure size 576x576 with 2 Axes>"
      ]
     },
     "metadata": {
      "needs_background": "light"
     },
     "output_type": "display_data"
    }
   ],
   "source": [
    "#Vẽ biên độ sóng\n",
    "plt.ioff()\n",
    "plt.figure(figsize=(8, 8))\n",
    "y = np.arange(ny) * dy\n",
    "\n",
    "plt.subplot(323)\n",
    "plt.title('Biên độ sóng tại t = 0,3s, x = 2500')\n",
    "plt.xlabel('y')\n",
    "plt.plot(y, amp03)\n",
    "\n",
    "\n",
    "plt.subplot(324)\n",
    "plt.title('Biên độ sóng tại t = 0,65s, x = 2500')\n",
    "plt.xlabel('y')\n",
    "plt.plot(y, amp065)\n",
    "\n",
    "plt.show()"
   ]
  },
  {
   "cell_type": "code",
   "execution_count": 16,
   "metadata": {},
   "outputs": [
    {
     "data": {
      "image/png": "[encoded data removed]",
      "text/plain": [
       "<Figure size 576x576 with 2 Axes>"
      ]
     },
     "metadata": {
      "needs_background": "light"
     },
     "output_type": "display_data"
    }
   ],
   "source": [
    "#Vẽ biên độ sóng\n",
    "plt.ioff()\n",
    "plt.figure(figsize=(8, 8))\n",
    "\n",
    "plt.subplot(325)\n",
    "plt.title('Biên độ sóng tại t = 0,95s, x = 2500')\n",
    "plt.xlabel('y')\n",
    "plt.plot(y, amp095)\n",
    "\n",
    "\n",
    "plt.subplot(326)\n",
    "plt.title('Biên độ sóng tại t = 1,15s, x = 2500')\n",
    "plt.xlabel('y')\n",
    "plt.plot(y, amp115)\n",
    "\n",
    "\n",
    "plt.show()"
   ]
  },
  {
   "cell_type": "markdown",
   "metadata": {},
   "source": [
    "## Câu 5"
   ]
  },
  {
   "cell_type": "code",
   "execution_count": 17,
   "metadata": {},
   "outputs": [],
   "source": [
    "#Khởi tạo lưới\n",
    "nx = 701    \n",
    "ny = 351      \n",
    "nt = 1510    \n",
    "dx = 15     \n",
    "dy = 15\n",
    "dt = 0.001 \n",
    "\n",
    "#Vị trí nguồn\n",
    "isx = 351 \n",
    "isy = 51 \n",
    "\n",
    "ist = 100     \n",
    "fp = 10.0     \n",
    "isnap = 10    \n",
    "dr = 0.3/fp\n",
    "nop = 5       \n",
    "\n",
    "p = np.zeros((ny, nx))\n",
    "pold = np.zeros((ny, nx))\n",
    "pnew = np.zeros((ny, nx))\n",
    "pxx = np.zeros((ny, nx))\n",
    "pyy = np.zeros((ny, nx))\n",
    "\n",
    "amp09 = np.zeros((ny, nx))\n",
    "amp012 = np.zeros((ny, nx))\n",
    "amp015 = np.zeros((ny, nx))"
   ]
  },
  {
   "cell_type": "code",
   "execution_count": 18,
   "metadata": {},
   "outputs": [
    {
     "name": "stdout",
     "output_type": "stream",
     "text": [
      "Courant Criterion eps :\n",
      "0.32\n"
     ]
    }
   ],
   "source": [
    "# Vận tốc sóng\n",
    "c0 = 1500.0   \n",
    "c    = np.zeros((ny, nx)) \n",
    "c += c0\n",
    "c[nx // 2:,:] *= 3.2\n",
    "\n",
    "cmax = c.max()\n",
    "\n",
    "#Nguồn\n",
    "src = np.empty(nt + 1)\n",
    "time = np.arange(nt) * dt\n",
    "src = (1 - 2 * np.pi ** 2 * fp ** 2 * (time - dr) ** 2) * np.exp(-1 * np.pi ** 2 * fp ** 2 * (time - dr) ** 2)\n",
    "\n",
    "print(\"Courant Criterion eps :\")\n",
    "print(cmax*dt/dx)"
   ]
  },
  {
   "cell_type": "code",
   "execution_count": 19,
   "metadata": {},
   "outputs": [
    {
     "data": {
      "image/png": "[encoded data removed]",
      "text/plain": [
       "<Figure size 432x288 with 2 Axes>"
      ]
     },
     "metadata": {
      "needs_background": "light"
     },
     "output_type": "display_data"
    }
   ],
   "source": [
    "#Mô phỏng sóng\n",
    "v = max([np.abs(src.min()), np.abs(src.max())])\n",
    "\n",
    "image = plt.imshow(p, interpolation='nearest', animated=True, vmin=-v, vmax=+v, cmap=\"Blues\")      \n",
    "\n",
    "plt.text(isx, isy, 'o')\n",
    "plt.colorbar()\n",
    "plt.xlabel('ix')\n",
    "plt.ylabel('iy')\n",
    "\n",
    "plt.ion()\n",
    "plt.show()"
   ]
  },
  {
   "cell_type": "code",
   "execution_count": 20,
   "metadata": {},
   "outputs": [
    {
     "data": {
      "image/png": "[encoded data removed]",
      "text/plain": [
       "<Figure size 432x288 with 1 Axes>"
      ]
     },
     "metadata": {
      "needs_background": "light"
     },
     "output_type": "display_data"
    }
   ],
   "source": [
    "# Tính p bằng phương pháp sai phân hữu hạn\n",
    "for it in range(nt):\n",
    "    if nop==3:\n",
    "        # calculate partial derivatives, be careful around the boundaries\n",
    "        for i in range(1, nx - 1):\n",
    "            pyy[:, i] = p[:, i + 1] - 2 * p[:, i] + p[:, i - 1]\n",
    "        for j in range(1, ny - 1):\n",
    "            pxx[j, :] = p[j - 1, :] - 2 * p[j, :] + p[j + 1, :]\n",
    "\n",
    "    if nop==5:\n",
    "        # calculate partial derivatives, be careful around the boundaries\n",
    "        for i in range(2, nx - 2):\n",
    "            pyy[:, i] = -1./12*p[:,i+2]+4./3*p[:,i+1]-5./2*p[:,i]+4./3*p[:,i-1]-1./12*p[:,i-2]\n",
    "        for j in range(2, ny - 2):\n",
    "            pxx[j, :] = -1./12*p[j+2,:]+4./3*p[j+1,:]-5./2*p[j,:]+4./3*p[j-1,:]-1./12*p[j-2,:]\n",
    "                    \n",
    "            \n",
    "    pxx /= dx ** 2\n",
    "    pyy /= dy ** 2\n",
    "\n",
    "    \n",
    "    pnew = 2 * p - pold + dt ** 2 * c ** 2 * (pxx + pyy)\n",
    "\n",
    "    pnew[isy, isx] = pnew[isy, isx] + src[it]\n",
    "    \n",
    "    if it % isnap == 0: \n",
    "        plt.title(\"nt = %d \" %it)\n",
    "        image.set_data(pnew)\n",
    "        plt.gcf().canvas.draw()\n",
    "\n",
    "    pold, p = p, pnew\n",
    "    \n",
    "    if it == 900:\n",
    "        for i in range(1, ny - 1):\n",
    "            amp09[i] = p[i, 176]\n",
    "            \n",
    "    if it == 1200:\n",
    "        for i in range(1, ny - 1):\n",
    "            amp012[i] = p[i, 176]\n",
    "    \n",
    "    if it == 1500:\n",
    "        for i in range(1, ny - 1):\n",
    "            amp015[i] = p[i, 176]\n",
    "   "
   ]
  },
  {
   "cell_type": "code",
   "execution_count": 21,
   "metadata": {},
   "outputs": [
    {
     "data": {
      "image/png": "[encoded data removed]",
      "text/plain": [
       "<Figure size 1152x576 with 3 Axes>"
      ]
     },
     "metadata": {
      "needs_background": "light"
     },
     "output_type": "display_data"
    }
   ],
   "source": [
    "plt.ioff()\n",
    "plt.figure(figsize=(16, 8))\n",
    "\n",
    "plt.subplot(321)\n",
    "plt.plot(time, src)\n",
    "plt.title('Hàm sóng')\n",
    "plt.xlabel('T (s)')\n",
    "plt.ylabel('Biên độ sóng ')\n",
    "\n",
    "\n",
    "plt.subplot(322)\n",
    "plt.title('Mô hình vận tốc sóng')\n",
    "plt.imshow(c)\n",
    "plt.xlabel('x')\n",
    "plt.ylabel('y')\n",
    "plt.colorbar()\n",
    "\n",
    "plt.show()"
   ]
  },
  {
   "cell_type": "code",
   "execution_count": 22,
   "metadata": {},
   "outputs": [
    {
     "data": {
      "image/png": "[encoded data removed]",
      "text/plain": [
       "<Figure size 1152x576 with 2 Axes>"
      ]
     },
     "metadata": {
      "needs_background": "light"
     },
     "output_type": "display_data"
    }
   ],
   "source": [
    "#Vẽ biên độ sóng\n",
    "plt.ioff()\n",
    "plt.figure(figsize=(16, 8))\n",
    "y = np.arange(ny) * dy\n",
    "\n",
    "plt.subplot(323)\n",
    "plt.title('Biên độ sóng tại t = 0,9s, x = 2625')\n",
    "plt.xlabel('y')\n",
    "plt.plot(y, amp09)\n",
    "\n",
    "\n",
    "plt.subplot(324)\n",
    "plt.title('Biên độ sóng tại t = 1,2s, x = 2625')\n",
    "plt.xlabel('y')\n",
    "plt.plot(y, amp012)\n",
    "\n",
    "plt.show()"
   ]
  },
  {
   "cell_type": "code",
   "execution_count": 24,
   "metadata": {},
   "outputs": [
    {
     "data": {
      "image/png": "[encoded data removed]",
      "text/plain": [
       "<Figure size 1152x576 with 1 Axes>"
      ]
     },
     "metadata": {
      "needs_background": "light"
     },
     "output_type": "display_data"
    }
   ],
   "source": [
    "#Vẽ biên độ sóng\n",
    "plt.ioff()\n",
    "plt.figure(figsize=(16, 8))\n",
    "\n",
    "plt.subplot(325)\n",
    "plt.title('Biên độ sóng tại t = 1,5s, x = 2625')\n",
    "plt.xlabel('y')\n",
    "plt.plot(y, amp015)\n",
    "\n",
    "plt.show()"
   ]
  },
  {
   "cell_type": "code",
   "execution_count": null,
   "metadata": {},
   "outputs": [],
   "source": []
  }
 ],
 "metadata": {
  "kernelspec": {
   "display_name": "Python 3",
   "language": "python",
   "name": "python3"
  },
  "language_info": {
   "codemirror_mode": {
    "name": "ipython",
    "version": 3
   },
   "file_extension": ".py",
   "mimetype": "text/x-python",
   "name": "python",
   "nbconvert_exporter": "python",
   "pygments_lexer": "ipython3",
   "version": "3.8.5"
  }
 },
 "nbformat": 4,
 "nbformat_minor": 4
}
