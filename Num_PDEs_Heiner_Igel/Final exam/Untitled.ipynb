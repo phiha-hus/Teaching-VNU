{
 "cells": [
  {
   "cell_type": "code",
   "execution_count": 1,
   "metadata": {},
   "outputs": [
    {
     "name": "stdout",
     "output_type": "stream",
     "text": [
      "Collecting slycot\n",
      "  Downloading slycot-0.4.0.0.tar.gz (1.5 MB)\n",
      "  Installing build dependencies: started\n",
      "  Installing build dependencies: finished with status 'done'\n",
      "  Getting requirements to build wheel: started\n",
      "  Getting requirements to build wheel: finished with status 'done'\n",
      "    Preparing wheel metadata: started\n",
      "    Preparing wheel metadata: finished with status 'done'\n",
      "Requirement already satisfied: numpy in c:\\users\\dell\\anaconda3\\lib\\site-packages (from slycot) (1.19.2)\n",
      "Building wheels for collected packages: slycot\n",
      "  Building wheel for slycot (PEP 517): started\n",
      "  Building wheel for slycot (PEP 517): finished with status 'error'\n",
      "Failed to build slycot\n"
     ]
    },
    {
     "name": "stderr",
     "output_type": "stream",
     "text": [
      "  ERROR: Command errored out with exit status 1:\n",
      "   command: 'C:\\Users\\DELL\\anaconda3\\python.exe' 'C:\\Users\\DELL\\anaconda3\\lib\\site-packages\\pip\\_vendor\\pep517\\_in_process.py' build_wheel 'C:\\Users\\DELL\\AppData\\Local\\Temp\\tmp_oxf6l2e'\n",
      "       cwd: C:\\Users\\DELL\\AppData\\Local\\Temp\\pip-install-a2g0grf8\\slycot\n",
      "  Complete output (64 lines):\n",
      "  Not searching for unused variables given on the command line.\n",
      "  CMake Deprecation Warning at CMakeLists.txt:1 (cmake_minimum_required):\n",
      "    Compatibility with CMake < 2.8.12 will be removed from a future version of\n",
      "    CMake.\n",
      "  \n",
      "    Update the VERSION argument <min> value or use a ...<max> suffix to tell\n",
      "    CMake that the project does not need compatibility with older versions.\n",
      "  \n",
      "  \n",
      "  -- The C compiler identification is unknown\n",
      "  CMake Error at CMakeLists.txt:3 (ENABLE_LANGUAGE):\n",
      "    The CMAKE_C_COMPILER:\n",
      "  \n",
      "      cl\n",
      "  \n",
      "    is not a full path and was not found in the PATH.\n",
      "  \n",
      "    To use the NMake generator with Visual C++, cmake must be run from a shell\n",
      "    that can use the compiler cl from the command line.  This environment is\n",
      "    unable to invoke the cl compiler.  To fix this problem, run cmake from the\n",
      "    Visual Studio Command Prompt (vcvarsall.bat).\n",
      "  \n",
      "    Tell CMake where to find the compiler by setting either the environment\n",
      "    variable \"CC\" or the CMake cache entry CMAKE_C_COMPILER to the full path to\n",
      "    the compiler, or to the compiler name if it is in the PATH.\n",
      "  \n",
      "  \n",
      "  -- Configuring incomplete, errors occurred!\n",
      "  See also \"C:/Users/DELL/AppData/Local/Temp/pip-install-a2g0grf8/slycot/_cmake_test_compile/build/CMakeFiles/CMakeOutput.log\".\n",
      "  See also \"C:/Users/DELL/AppData/Local/Temp/pip-install-a2g0grf8/slycot/_cmake_test_compile/build/CMakeFiles/CMakeError.log\".\n",
      "  FC ('-DCMAKE_Fortran_COMPILER=', 'C:/Users/DELL/anaconda3/Library/bin/flang.exe')\n",
      "  F2PY ('-DF2PY_EXECUTABLE=', 'C:/Users/DELL/anaconda3/Scripts/f2py.exe')\n",
      "  NUMPY_INCLUDE ('-DNumPy_INCLUDE_DIR=', 'C:/Users/DELL/anaconda3/Include')\n",
      "  ['-DSLYCOT_VERSION:STRING=0.4.0', '-DGIT_REVISION:STRING=ac0944b363a6cfcc0c3d5128cdd484d74173aa3b', '-DISRELEASE:STRING=True', '-DFULL_VERSION=0.4.0.gitac0944b', '-GNMake Makefiles', '-DCMAKE_Fortran_COMPILER=C:/Users/DELL/anaconda3/Library/bin/flang.exe', '-DF2PY_EXECUTABLE=C:/Users/DELL/anaconda3/Scripts/f2py.exe', '-DNumPy_INCLUDE_DIR=C:/Users/DELL/anaconda3/Include', '-DCMAKE_Fortran_SIMULATE_VERSION=5.0.0', '-DCMAKE_Fortran_COMPILER_ID=Flang', '-DCMAKE_VERBOSE_MAKEFILE:BOOL=ON']\n",
      "  \n",
      "  \n",
      "  --------------------------------------------------------------------------------\n",
      "  -- Trying \"NMake Makefiles (Visual Studio 15 2017 Win64 v141)\" generator\n",
      "  --------------------------------\n",
      "  ---------------------------\n",
      "  ----------------------\n",
      "  -----------------\n",
      "  ------------\n",
      "  -------\n",
      "  --\n",
      "  --\n",
      "  -------\n",
      "  ------------\n",
      "  -----------------\n",
      "  ----------------------\n",
      "  ---------------------------\n",
      "  --------------------------------\n",
      "  -- Trying \"NMake Makefiles (Visual Studio 15 2017 Win64 v141)\" generator - failure\n",
      "  --------------------------------------------------------------------------------\n",
      "  \n",
      "  ********************************************************************************\n",
      "  scikit-build could not get a working generator for your system. Aborting build.\n",
      "  \n",
      "  Building windows wheels for Python 3.8 requires Microsoft Visual Studio 2017.\n",
      "  Get it with \"Visual Studio 2017\":\n",
      "  \n",
      "    https://visualstudio.microsoft.com/vs/\n",
      "  \n",
      "  ********************************************************************************\n",
      "  ----------------------------------------\n",
      "  ERROR: Failed building wheel for slycot\n",
      "ERROR: Could not build wheels for slycot which use PEP 517 and cannot be installed directly\n"
     ]
    },
    {
     "ename": "ModuleNotFoundError",
     "evalue": "No module named 'slycot'",
     "output_type": "error",
     "traceback": [
      "\u001b[1;31m---------------------------------------------------------------------------\u001b[0m",
      "\u001b[1;31mModuleNotFoundError\u001b[0m                       Traceback (most recent call last)",
      "\u001b[1;32m<ipython-input-1-222adef7510c>\u001b[0m in \u001b[0;36m<module>\u001b[1;34m\u001b[0m\n\u001b[0;32m      1\u001b[0m \u001b[0mget_ipython\u001b[0m\u001b[1;33m(\u001b[0m\u001b[1;33m)\u001b[0m\u001b[1;33m.\u001b[0m\u001b[0msystem\u001b[0m\u001b[1;33m(\u001b[0m\u001b[1;34m'pip install slycot'\u001b[0m\u001b[1;33m)\u001b[0m\u001b[1;33m\u001b[0m\u001b[1;33m\u001b[0m\u001b[0m\n\u001b[1;32m----> 2\u001b[1;33m \u001b[1;32mfrom\u001b[0m \u001b[0mslycot\u001b[0m \u001b[1;32mimport\u001b[0m \u001b[1;33m*\u001b[0m\u001b[1;33m\u001b[0m\u001b[1;33m\u001b[0m\u001b[0m\n\u001b[0m",
      "\u001b[1;31mModuleNotFoundError\u001b[0m: No module named 'slycot'"
     ]
    }
   ],
   "source": [
    "!pip install slycot\n",
    "from slycot import *"
   ]
  },
  {
   "cell_type": "code",
   "execution_count": null,
   "metadata": {},
   "outputs": [],
   "source": []
  }
 ],
 "metadata": {
  "kernelspec": {
   "display_name": "Python 3",
   "language": "python",
   "name": "python3"
  },
  "language_info": {
   "codemirror_mode": {
    "name": "ipython",
    "version": 3
   },
   "file_extension": ".py",
   "mimetype": "text/x-python",
   "name": "python",
   "nbconvert_exporter": "python",
   "pygments_lexer": "ipython3",
   "version": "3.8.5"
  }
 },
 "nbformat": 4,
 "nbformat_minor": 4
}
