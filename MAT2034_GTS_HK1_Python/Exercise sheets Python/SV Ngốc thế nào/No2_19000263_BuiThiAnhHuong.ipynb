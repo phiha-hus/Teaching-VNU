{
 "cells": [
  {
   "cell_type": "markdown",
   "metadata": {
    "id": "e7741a11"
   },
   "source": [
    "# Câu 1:"
   ]
  },
  {
   "cell_type": "markdown",
   "metadata": {
    "id": "11431649"
   },
   "source": [
    "Với tham số t, sử dụng toolbox linalg hãy đi tìm chuẩn 1,2, vô cùng của ma trận A = [[1, t] , [t, t^2+1]] với t = 10,100,200,...,1000.Tìm số điều kiện của các ma trận A đó"
   ]
  },
  {
   "cell_type": "code",
   "execution_count": 1,
   "metadata": {
    "colab": {
     "base_uri": "https://localhost:8080/"
    },
    "executionInfo": {
     "elapsed": 8,
     "status": "ok",
     "timestamp": 1633275662858,
     "user": {
      "displayName": "Phi Ha",
      "photoUrl": "https://lh3.googleusercontent.com/a-/AOh14GjGkfj5BZoAbChMdX51WwgDyV1IoEyakbHjvKeA=s64",
      "userId": "18400087595458265808"
     },
     "user_tz": -420
    },
    "id": "7af41b01",
    "outputId": "fd279eb4-55b2-48fa-91f4-2aaa7ad6b18d"
   },
   "outputs": [
    {
     "name": "stdout",
     "output_type": "stream",
     "text": [
      "Với t =  10\n",
      "Chuẩn p = 1 của matrix A 111.0\n",
      "Số điều kiện theo chuẩn p = 1 của matrix A12320.999999999827\n",
      "\n",
      "Chuẩn p = 2 của matrix A 101.99019560722492\n",
      "Số điều kiện theo chuẩn p = 2 của matrix A10401.999903865906\n",
      "\n",
      "Chuẩn p = ∞ của matrix A 111.0\n",
      "Số điều kiện theo chuẩn p = ∞ của matrix A12320.999999999827\n",
      "\n",
      "Với t =  100\n",
      "Chuẩn p = 1 của matrix A 10101.0\n",
      "Số điều kiện theo chuẩn p = 1 của matrix A102030200.9999478\n",
      "\n",
      "Chuẩn p = 2 của matrix A 10001.999900019995\n",
      "Số điều kiện theo chuẩn p = 2 của matrix A100040002.01832864\n",
      "\n",
      "Chuẩn p = ∞ của matrix A 10101.0\n",
      "Số điều kiện theo chuẩn p = ∞ của matrix A102030200.9999478\n",
      "\n",
      "Với t =  200\n",
      "Chuẩn p = 1 của matrix A 40201.0\n",
      "Số điều kiện theo chuẩn p = 1 của matrix A1616120401.0014699\n",
      "\n",
      "Chuẩn p = 2 của matrix A 40001.99997500125\n",
      "Số điều kiện theo chuẩn p = 2 của matrix A1600159998.9022539\n",
      "\n",
      "Chuẩn p = ∞ của matrix A 40201.0\n",
      "Số điều kiện theo chuẩn p = ∞ của matrix A1616120401.0014699\n",
      "\n",
      "Với t =  300\n",
      "Chuẩn p = 1 của matrix A 90301.0\n",
      "Số điều kiện theo chuẩn p = 1 của matrix A8154270601.007418\n",
      "\n",
      "Chuẩn p = 2 của matrix A 90001.99998888913\n",
      "Số điều kiện theo chuẩn p = 2 của matrix A8100360088.874936\n",
      "\n",
      "Chuẩn p = ∞ của matrix A 90301.0\n",
      "Số điều kiện theo chuẩn p = ∞ của matrix A8154270601.007418\n",
      "\n",
      "Với t =  400\n",
      "Chuẩn p = 1 của matrix A 160401.0\n",
      "Số điều kiện theo chuẩn p = 1 của matrix A25728480801.023396\n",
      "\n",
      "Chuẩn p = 2 của matrix A 160001.99999375007\n",
      "Số điều kiện theo chuẩn p = 2 của matrix A25600640179.182945\n",
      "\n",
      "Chuẩn p = ∞ của matrix A 160401.0\n",
      "Số điều kiện theo chuẩn p = ∞ của matrix A25728480801.023396\n",
      "\n",
      "Với t =  500\n",
      "Chuẩn p = 1 của matrix A 250501.0\n",
      "Số điều kiện theo chuẩn p = 1 của matrix A62750751000.70038\n",
      "\n",
      "Chuẩn p = 2 của matrix A 250001.99999600003\n",
      "Số điều kiện theo chuẩn p = 2 của matrix A62501002664.4103\n",
      "\n",
      "Chuẩn p = ∞ của matrix A 250501.0\n",
      "Số điều kiện theo chuẩn p = ∞ của matrix A62750751000.70038\n",
      "\n",
      "Với t =  600\n",
      "Chuẩn p = 1 của matrix A 360601.0\n",
      "Số điều kiện theo chuẩn p = 1 của matrix A130033081201.11827\n",
      "\n",
      "Chuẩn p = 2 của matrix A 360001.9999972222\n",
      "Số điều kiện theo chuẩn p = 2 của matrix A129601433531.76285\n",
      "\n",
      "Chuẩn p = ∞ của matrix A 360601.0\n",
      "Số điều kiện theo chuẩn p = ∞ của matrix A130033081201.11827\n",
      "\n",
      "Với t =  700\n",
      "Chuẩn p = 1 của matrix A 490701.0\n",
      "Số điều kiện theo chuẩn p = 1 của matrix A240787471393.00668\n",
      "\n",
      "Chuẩn p = 2 của matrix A 490001.9999979592\n",
      "Số điều kiện theo chuẩn p = 2 của matrix A240101964703.0112\n",
      "\n",
      "Chuẩn p = ∞ của matrix A 490701.0\n",
      "Số điều kiện theo chuẩn p = ∞ của matrix A240787471393.00668\n",
      "\n",
      "Với t =  800\n",
      "Chuẩn p = 1 của matrix A 640801.0\n",
      "Số điều kiện theo chuẩn p = 1 của matrix A410625921592.0369\n",
      "\n",
      "Chuẩn p = 2 của matrix A 640001.9999984375\n",
      "Số điều kiện theo chuẩn p = 2 của matrix A409602527245.27795\n",
      "\n",
      "Chuẩn p = ∞ của matrix A 640801.0\n",
      "Số điều kiện theo chuẩn p = ∞ của matrix A410625921592.0369\n",
      "\n",
      "Với t =  900\n",
      "Chuẩn p = 1 của matrix A 810901.0\n",
      "Số điều kiện theo chuẩn p = 1 của matrix A657560431824.0249\n",
      "\n",
      "Chuẩn p = 2 của matrix A 810001.9999987654\n",
      "Số điều kiện theo chuẩn p = 2 của matrix A656103026075.3779\n",
      "\n",
      "Chuẩn p = ∞ của matrix A 810901.0\n",
      "Số điều kiện theo chuẩn p = ∞ của matrix A657560431824.0249\n",
      "\n",
      "Với t =  1000\n",
      "Chuẩn p = 1 của matrix A 1001001.0\n",
      "Số điều kiện theo chuẩn p = 1 của matrix A1002003002024.6942\n",
      "\n",
      "Chuẩn p = 2 của matrix A 1000001.999999\n",
      "Số điều kiện theo chuẩn p = 2 của matrix A1000003796186.2079\n",
      "\n",
      "Chuẩn p = ∞ của matrix A 1001001.0\n",
      "Số điều kiện theo chuẩn p = ∞ của matrix A1002003002024.6942\n",
      "\n"
     ]
    }
   ],
   "source": [
    "from numpy import linalg as LA\n",
    "import numpy as np\n",
    "value = np.array([10,100,200,300,400,500,600,700,800,900,1000])\n",
    "for t in value:\n",
    "    A = np.array([[1,t],[t,1+t**2]])\n",
    "    print(\"Với t = \",t)\n",
    "    print(\"Chuẩn p = 1 của matrix A\",LA.norm(A,1))\n",
    "    print(\"Số điều kiện theo chuẩn p = 1 của matrix A\"+str(LA.cond(A,1))+\"\\n\")\n",
    "    print(\"Chuẩn p = 2 của matrix A\",LA.norm(A))\n",
    "    print(\"Số điều kiện theo chuẩn p = 2 của matrix A\"+str(LA.cond(A,2))+\"\\n\")\n",
    "    print('Chuẩn p = ∞ của matrix A',LA.norm(A,np.inf))\n",
    "    print('Số điều kiện theo chuẩn p = ∞ của matrix A'+str(LA.cond(A,np.inf))+\"\\n\")\n",
    "\n"
   ]
  },
  {
   "cell_type": "markdown",
   "metadata": {
    "id": "91a25c08"
   },
   "source": [
    "# Câu 2:"
   ]
  },
  {
   "cell_type": "markdown",
   "metadata": {
    "id": "f1e03e53"
   },
   "source": [
    "Ma trận Hermit được định nghĩa bởi Hn = [ 1 / i+j-1] với  i, j = 1 tới n. \n",
    "Hãy đi tìm số điều kiện của H5, H12 theo các chuẩn 1, 2, ∞."
   ]
  },
  {
   "cell_type": "code",
   "execution_count": null,
   "metadata": {
    "id": "c34e0a06",
    "outputId": "4aec0d28-1eaf-4627-8071-ec931d6fe63c"
   },
   "outputs": [
    {
     "name": "stdout",
     "output_type": "stream",
     "text": [
      "Ma trận H5 là:\n",
      "\n",
      "[[1.         0.5        0.33333333 0.25       0.2       ]\n",
      " [0.5        0.33333333 0.25       0.2        0.16666667]\n",
      " [0.33333333 0.25       0.2        0.16666667 0.14285714]\n",
      " [0.25       0.2        0.16666667 0.14285714 0.125     ]\n",
      " [0.2        0.16666667 0.14285714 0.125      0.11111111]]\n",
      "Số điều kiện của H5 theo các chuẩn:\n",
      "\n",
      "Số điều kiện của ma trận theo chuẩn p = 1 là: 943655.9999992527\n",
      "Số điều kiện của ma trận theo chuẩn p = 2 là: 476607.25024100044\n",
      "Số điều kiện của ma trận theo chuẩn p = ∞ là: 943655.9999992514\n",
      "Ma trận H12 là:\n",
      "\n",
      "[[1.         0.5        0.33333333 0.25       0.2        0.16666667\n",
      "  0.14285714 0.125      0.11111111 0.1        0.09090909 0.08333333]\n",
      " [0.5        0.33333333 0.25       0.2        0.16666667 0.14285714\n",
      "  0.125      0.11111111 0.1        0.09090909 0.08333333 0.07692308]\n",
      " [0.33333333 0.25       0.2        0.16666667 0.14285714 0.125\n",
      "  0.11111111 0.1        0.09090909 0.08333333 0.07692308 0.07142857]\n",
      " [0.25       0.2        0.16666667 0.14285714 0.125      0.11111111\n",
      "  0.1        0.09090909 0.08333333 0.07692308 0.07142857 0.06666667]\n",
      " [0.2        0.16666667 0.14285714 0.125      0.11111111 0.1\n",
      "  0.09090909 0.08333333 0.07692308 0.07142857 0.06666667 0.0625    ]\n",
      " [0.16666667 0.14285714 0.125      0.11111111 0.1        0.09090909\n",
      "  0.08333333 0.07692308 0.07142857 0.06666667 0.0625     0.05882353]\n",
      " [0.14285714 0.125      0.11111111 0.1        0.09090909 0.08333333\n",
      "  0.07692308 0.07142857 0.06666667 0.0625     0.05882353 0.05555556]\n",
      " [0.125      0.11111111 0.1        0.09090909 0.08333333 0.07692308\n",
      "  0.07142857 0.06666667 0.0625     0.05882353 0.05555556 0.05263158]\n",
      " [0.11111111 0.1        0.09090909 0.08333333 0.07692308 0.07142857\n",
      "  0.06666667 0.0625     0.05882353 0.05555556 0.05263158 0.05      ]\n",
      " [0.1        0.09090909 0.08333333 0.07692308 0.07142857 0.06666667\n",
      "  0.0625     0.05882353 0.05555556 0.05263158 0.05       0.04761905]\n",
      " [0.09090909 0.08333333 0.07692308 0.07142857 0.06666667 0.0625\n",
      "  0.05882353 0.05555556 0.05263158 0.05       0.04761905 0.04545455]\n",
      " [0.08333333 0.07692308 0.07142857 0.06666667 0.0625     0.05882353\n",
      "  0.05555556 0.05263158 0.05       0.04761905 0.04545455 0.04347826]]\n",
      "Số điều kiện của H12 theo các chuẩn:\n",
      "\n",
      "Số điều kiện của ma trận theo chuẩn p = 1 là: 3.920171632506046e+16\n",
      "Số điều kiện của ma trận theo chuẩn p = 2 là: 1.6211639047474996e+16\n",
      "Số điều kiện của ma trận theo chuẩn p = ∞ là: 3.920200975864383e+16\n"
     ]
    }
   ],
   "source": [
    "from numpy import linalg as LA\n",
    "import numpy as np\n",
    "\n",
    "# cách 1: from scipy.linalg import hilbert\n",
    "# cách 2: hàm nhập ma trận\n",
    " \n",
    "def inputmatrix(n):\n",
    "    a = []\n",
    "    for i in range(1,n+1):\n",
    "        for j in range(1,n+1):\n",
    "            ele = 1/(i+j-1)\n",
    "            a.append(ele)\n",
    "    b = np.reshape(a,(n,n))\n",
    "    return b\n",
    "def result(A):\n",
    "    print('Số điều kiện của ma trận theo chuẩn p = 1 là:', LA.cond(A,1))\n",
    "    print('Số điều kiện của ma trận theo chuẩn p = 2 là:', LA.cond(A))\n",
    "    print('Số điều kiện của ma trận theo chuẩn p = ∞ là:', LA.cond(A,np.inf))\n",
    "    \n",
    "# nhập ma trận H5\n",
    "print('Ma trận H5 là:'+\"\\n\")\n",
    "print(inputmatrix(5))\n",
    "print('Số điều kiện của H5 theo các chuẩn:' +'\\n')\n",
    "result(inputmatrix(5))\n",
    "\n",
    "# nhập ma trận H12\n",
    "print('Ma trận H12 là:'+\"\\n\")\n",
    "print( inputmatrix(12))\n",
    "print('Số điều kiện của H12 theo các chuẩn:' +'\\n')\n",
    "result(inputmatrix(12))\n",
    "\n"
   ]
  },
  {
   "cell_type": "markdown",
   "metadata": {
    "id": "041591da"
   },
   "source": [
    "# Câu 3: Phân tích LU"
   ]
  },
  {
   "cell_type": "markdown",
   "metadata": {
    "id": "37f4ea37"
   },
   "source": [
    "### Thực hành:      \n",
    "Viết hàm trong Python để tìm phân tích A = LU và giải hệ phương trình\n",
    "Ax = b ở trên. So sánh kết quả của các em với cách giải sử dụng toolbox linalg trong Python.\n",
    "\n",
    "                            2x1 + 4x2 + 3x3 = 3\n",
    "                            3x1 + x2 − 2x3 = 3\n",
    "                            4x1 + 11x2 + 7x3 = 4"
   ]
  },
  {
   "cell_type": "code",
   "execution_count": null,
   "metadata": {
    "id": "67520bb4",
    "outputId": "82d3e539-1f3c-478e-c4a4-e2ca30b0ee22"
   },
   "outputs": [
    {
     "name": "stdout",
     "output_type": "stream",
     "text": [
      "Nghiệm của hệ của phương trình sử dụng toolbox là: [ 2. -1.  1.]\n",
      "Kết quả phân tích LU là:\n",
      "Ma trận L là:\n",
      "\n",
      "[[ 1.   0.   0. ]\n",
      " [ 1.5  1.   0. ]\n",
      " [ 2.  -0.6  1. ]]\n",
      "\n",
      "Ma trận U là:\n",
      "\n",
      "[[ 2.   4.   3. ]\n",
      " [ 0.  -5.  -6.5]\n",
      " [ 0.   0.  -2.9]]\n",
      "Nghiệm x giải bằng thuật toán: [ 2. -1.  1.]\n"
     ]
    }
   ],
   "source": [
    "import numpy as np\n",
    "A = np.array([[2,4,3],[3,1,-2],[4,11,7]])\n",
    "# đổi A sang matrix gồm các giá trị kiểu float(tránh bị làm tròn số)\n",
    "A = A.astype(float)\n",
    "b = np.array([3.,3.,4.])\n",
    "#sử dụng toolbox\n",
    "x1 = np.linalg.solve(A,b)\n",
    "print('Nghiệm của hệ của phương trình sử dụng toolbox là:',x1)\n",
    "# thuật toán tự viết\n",
    "def LU(A):\n",
    "    n = A.shape[0]\n",
    "    U = np.copy(A)\n",
    "    L = np.eye(n)\n",
    "    for i in range(n):\n",
    "        p = U[i,i]\n",
    "        for j in range(i+1,n):\n",
    "            L[j,i] = U[j,i]/p\n",
    "            U[j] = U[j] - L[j,i]*U[i]\n",
    "            b[j] = b[j] - L[j,i] * b[i]\n",
    "    return L,U,b\n",
    "\n",
    "print('Kết quả phân tích LU là:')\n",
    "L,U,b = LU(A)\n",
    "print('Ma trận L là:'+\"\\n\")\n",
    "print(str(L) +\"\\n\")\n",
    "print('Ma trận U là:'+\"\\n\")\n",
    "print(U)\n",
    "def solution(U,b):\n",
    "    n = U.shape[0]\n",
    "    x = np.copy(b)\n",
    "    x[n-1] = b[n-1]/U[(n-1),(n-1)]\n",
    "    for i in range(n-2,-1,-1):\n",
    "        sum = 0\n",
    "        for j in range(n-1,i,-1):\n",
    "            sum += x[j]*U[i,j]\n",
    "        x[i] = (b[i] - sum)/U[i,i]\n",
    "    return x\n",
    "x = solution(U,b)\n",
    "print('Nghiệm x giải bằng thuật toán:',x)\n"
   ]
  },
  {
   "cell_type": "markdown",
   "metadata": {
    "id": "d80d8433"
   },
   "source": [
    "# Câu 4: Phân tích PLU"
   ]
  },
  {
   "cell_type": "markdown",
   "metadata": {
    "id": "5fd0aa1e"
   },
   "source": [
    "### Thực hành:"
   ]
  },
  {
   "cell_type": "markdown",
   "metadata": {
    "id": "d6e3b8f0"
   },
   "source": [
    "Viết hàm trong Python để tìm phân tích P LU của ma trận A và giải hệ phương trình Ax = b ở trên. So sánh kết quả của các em với cách giải sử dụng toolbox linalg trong Python.\n",
    "\n",
    "                                x2           = b1,\n",
    "                           2x1     + x3      = b2,\n",
    "                               2x2      + x4 = b3,\n",
    "                                    2x3      = b4."
   ]
  },
  {
   "cell_type": "code",
   "execution_count": 2,
   "metadata": {
    "id": "77e26651",
    "outputId": "2dba7284-6d58-4926-92f9-488889b179f1"
   },
   "outputs": [
    {
     "name": "stdout",
     "output_type": "stream",
     "text": [
      "A is: \n",
      " [[0 1 0 0]\n",
      " [2 0 1 0]\n",
      " [0 2 0 1]\n",
      " [0 0 2 0]]\n",
      "b is: \n",
      " [1 2 3 4]\n",
      "Ma trận P,L,U của A là:\n",
      "[[0. 0. 0. 1.]\n",
      " [1. 0. 0. 0.]\n",
      " [0. 1. 0. 0.]\n",
      " [0. 0. 1. 0.]]\n",
      "[[1.  0.  0.  0. ]\n",
      " [0.  1.  0.  0. ]\n",
      " [0.  0.  1.  0. ]\n",
      " [0.  0.5 0.  1. ]]\n",
      "[[ 2.   0.   1.   0. ]\n",
      " [ 0.   2.   0.   1. ]\n",
      " [ 0.   0.   2.   0. ]\n",
      " [ 0.   0.   0.  -0.5]]\n",
      "Nghiệm của hệ phương trình là: [0. 1. 2. 1.]\n"
     ]
    }
   ],
   "source": [
    "from scipy import linalg as LA\n",
    "import numpy as np\n",
    "A = np.array([[0,1,0,0],[2,0,1,0],[0,2,0,1],[0,0,2,0]])\n",
    "b = np.array([1,2,3,4])\n",
    "print(\"A is: \\n\", A)\n",
    "print(\"b is: \\n\", b)\n",
    "\n",
    "# sử dụng toolbox\n",
    "p,l,u = LA.lu(A)\n",
    "print(\"Ma trận P,L,U của A là:\")\n",
    "print(p)\n",
    "print(l)\n",
    "print(u)\n",
    "x = np.linalg.solve(A,b)\n",
    "print('Nghiệm của hệ phương trình là:',x)"
   ]
  },
  {
   "cell_type": "markdown",
   "metadata": {
    "id": "15167c13"
   },
   "source": [
    "# Câu 5: Phân tích LU và PLU của Pascal, Leslie và Vander Monde"
   ]
  },
  {
   "cell_type": "markdown",
   "metadata": {
    "id": "4b715245"
   },
   "source": [
    "Tìm hiểu các ma trận Pascal, Leslie và Vander Monde trong module scipy.linalg. Tìm các phân tích LU và PLU của chúng, ứng với các ma trận cỡ 3 × 3 hoặc 4 × 4."
   ]
  },
  {
   "cell_type": "code",
   "execution_count": null,
   "metadata": {
    "id": "77f19619",
    "outputId": "0e5cbc13-1743-4a0b-881b-17a4b51583d1"
   },
   "outputs": [
    {
     "name": "stdout",
     "output_type": "stream",
     "text": [
      "Ma trận pascal cỡ 3x3 là:\n",
      "[[1 1 1]\n",
      " [1 2 3]\n",
      " [1 3 6]]\n",
      "Ma trận leslie cỡ 3x3 là:\n",
      "[[2 3 2]\n",
      " [7 0 0]\n",
      " [0 9 0]]\n",
      "Ma trận Vander Monde cỡ 3x3 là:\n",
      "[[ 1  3  9]\n",
      " [ 1  4 16]\n",
      " [ 1  2  4]]\n",
      "Ma trận L,U của Pascal là:\n",
      "[[1. 0. 0.]\n",
      " [1. 1. 0.]\n",
      " [1. 2. 1.]]\n",
      "[[1 1 1]\n",
      " [0 1 2]\n",
      " [0 0 1]]\n",
      "Ma trận L,U của Leslie là:\n",
      "[[ 1.   0.   0. ]\n",
      " [ 3.5  1.   0. ]\n",
      " [ 0.  -0.9  1. ]]\n",
      "[[  2   3   2]\n",
      " [  0 -10  -7]\n",
      " [  0   0  -6]]\n",
      "Ma trận L,U của Vander Monde là:\n",
      "[[ 1.  0.  0.]\n",
      " [ 1.  1.  0.]\n",
      " [ 1. -1.  1.]]\n",
      "[[1 3 9]\n",
      " [0 1 7]\n",
      " [0 0 2]]\n",
      "Ma trận P,L,U của Pascal là:\n",
      "[[1. 0. 0.]\n",
      " [0. 0. 1.]\n",
      " [0. 1. 0.]]\n",
      "[[1.  0.  0. ]\n",
      " [1.  1.  0. ]\n",
      " [1.  0.5 1. ]]\n",
      "[[ 1.   1.   1. ]\n",
      " [ 0.   2.   5. ]\n",
      " [ 0.   0.  -0.5]]\n",
      "Ma trận P,L,U của Leslie là:\n",
      "[[0. 0. 1.]\n",
      " [1. 0. 0.]\n",
      " [0. 1. 0.]]\n",
      "[[1.         0.         0.        ]\n",
      " [0.         1.         0.        ]\n",
      " [0.28571429 0.33333333 1.        ]]\n",
      "[[7. 0. 0.]\n",
      " [0. 9. 0.]\n",
      " [0. 0. 2.]]\n",
      "Ma trận P,L,U của Vander Monde là:\n",
      "[[1. 0. 0.]\n",
      " [0. 1. 0.]\n",
      " [0. 0. 1.]]\n",
      "[[ 1.  0.  0.]\n",
      " [ 1.  1.  0.]\n",
      " [ 1. -1.  1.]]\n",
      "[[1. 3. 9.]\n",
      " [0. 1. 7.]\n",
      " [0. 0. 2.]]\n"
     ]
    }
   ],
   "source": [
    "from scipy import linalg as LA\n",
    "from numpy import vander\n",
    "a = LA.pascal(3) \n",
    "b = LA.leslie([2,3,2],[7,9])\n",
    "c = vander([3,4,2],increasing = True) # các cột giá trị tăng theo số mũ: cột 1 mũ 0, cột 2 mũ 1, cột 3 mũ 2\n",
    "# in ma trận\n",
    "print('Ma trận pascal cỡ 3x3 là:')\n",
    "print(a)\n",
    "print('Ma trận leslie cỡ 3x3 là:')\n",
    "print(b)\n",
    "print('Ma trận Vander Monde cỡ 3x3 là:')\n",
    "print(c)\n",
    "def LU(A):\n",
    "    n = A.shape[0]\n",
    "    U = np.copy(A)\n",
    "    L = np.eye(n)\n",
    "    for i in range(n):\n",
    "        p = U[i,i]\n",
    "        for j in range(i+1,n):\n",
    "            L[j,i] = U[j,i]/p\n",
    "            U[j] = U[j] - L[j,i]*U[i]\n",
    "    return L,U\n",
    "# phân tích LU\n",
    "Lp,Up = LU(a)\n",
    "print('Ma trận L,U của Pascal là:')\n",
    "print(Lp)\n",
    "print(Up)\n",
    "\n",
    "Ll,Ul = LU(b)\n",
    "print('Ma trận L,U của Leslie là:')\n",
    "print(Ll)\n",
    "print(Ul)\n",
    "\n",
    "Lv,Uv = LU(c)\n",
    "print('Ma trận L,U của Vander Monde là:')\n",
    "print(Lv)\n",
    "print(Uv)\n",
    "\n",
    "# phân tích P,L,U\n",
    "p1,l1,u1 = LA.lu(a)\n",
    "print('Ma trận P,L,U của Pascal là:')\n",
    "print(p1)\n",
    "print(l1)\n",
    "print(u1)\n",
    "\n",
    "p2,l2,u2 = LA.lu(b)\n",
    "print('Ma trận P,L,U của Leslie là:')\n",
    "print(p2)\n",
    "print(l2)\n",
    "print(u2)\n",
    "\n",
    "p3,l3,u3 = LA.lu(c)\n",
    "print('Ma trận P,L,U của Vander Monde là:')\n",
    "print(p3)\n",
    "print(l3)\n",
    "print(u3)"
   ]
  },
  {
   "cell_type": "markdown",
   "metadata": {
    "id": "ed4020bc"
   },
   "source": [
    "# CÂU 6: Giải hệ bằng PLU"
   ]
  },
  {
   "cell_type": "markdown",
   "metadata": {
    "id": "ddf580d7"
   },
   "source": [
    "Tìm các phân tích PLU của các ma trận A dưới đây và giải hệ phương trình vi phân tương ứng, với b là random vector, làm tròn 4 chữ số thập phân khi tính toán bằng tay."
   ]
  },
  {
   "cell_type": "markdown",
   "metadata": {
    "id": "3df3788f"
   },
   "source": [
    "#### Phần i:"
   ]
  },
  {
   "cell_type": "markdown",
   "metadata": {
    "id": "211703de"
   },
   "source": [
    "                                 A1 =[[ 4 −1 −2],\n",
    "                                     [−1 4 −1],\n",
    "                                     [−1 −2 4] ]"
   ]
  },
  {
   "cell_type": "code",
   "execution_count": null,
   "metadata": {
    "id": "c0cb099a",
    "outputId": "b3e805cc-03e8-4bb5-9040-93f096100112"
   },
   "outputs": [
    {
     "name": "stdout",
     "output_type": "stream",
     "text": [
      "Ma trận P,L,U của A1 là:\n",
      "[[1. 0. 0.]\n",
      " [0. 1. 0.]\n",
      " [0. 0. 1.]]\n",
      "[[ 1.    0.    0.  ]\n",
      " [-0.25  1.    0.  ]\n",
      " [-0.25 -0.6   1.  ]]\n",
      "[[ 4.   -1.   -2.  ]\n",
      " [ 0.    3.75 -1.5 ]\n",
      " [ 0.    0.    2.6 ]]\n",
      "Random vecto b là: \n",
      "[7 2 4]\n",
      "Nghiệm của hệ phương trình là: [3.84615385 2.23076923 3.07692308]\n"
     ]
    }
   ],
   "source": [
    "from scipy import linalg as LA\n",
    "import numpy as np\n",
    "A1 = np.array([[4,-1,-2],[-1,4,-1],[-1,-2,4]])\n",
    "# phân tích PLU\n",
    "p1,l1,u1 = LA.lu(A1)\n",
    "print('Ma trận P,L,U của A1 là:')\n",
    "print(p1)\n",
    "print(l1)\n",
    "print(u1)\n",
    "b1 = np.random.randint(1,9,size = 3)\n",
    "print('Random vecto b là: ')\n",
    "print(b1)\n",
    "x1 = np.linalg.solve(A1,b1)\n",
    "print('Nghiệm của hệ phương trình là:',x1)"
   ]
  },
  {
   "cell_type": "markdown",
   "metadata": {
    "id": "96eb3606"
   },
   "source": [
    "#### Phần ii:"
   ]
  },
  {
   "cell_type": "markdown",
   "metadata": {
    "id": "eb8f108e"
   },
   "source": [
    "                            \n",
    "                            A2 = [[−3 1 −1],\n",
    "                                  [−1 4 1],\n",
    "                                  [2 −1 6]]\n",
    "\n"
   ]
  },
  {
   "cell_type": "code",
   "execution_count": null,
   "metadata": {
    "id": "ca9c8d0e",
    "outputId": "622da4e0-2fe9-4fe4-a59d-3343d3c35f35"
   },
   "outputs": [
    {
     "name": "stdout",
     "output_type": "stream",
     "text": [
      "Ma trận P,L,U của A2 là:\n",
      "[[1. 0. 0.]\n",
      " [0. 1. 0.]\n",
      " [0. 0. 1.]]\n",
      "[[ 1.          0.          0.        ]\n",
      " [ 0.33333333  1.          0.        ]\n",
      " [-0.66666667 -0.09090909  1.        ]]\n",
      "[[-3.          1.         -1.        ]\n",
      " [ 0.          3.66666667  1.33333333]\n",
      " [ 0.          0.          5.45454545]]\n",
      "Random vecto b là: \n",
      "[8 5 4]\n",
      "Nghiệm của hệ phương trình là: [-3.25000000e+00  7.56970244e-17  1.75000000e+00]\n"
     ]
    }
   ],
   "source": [
    "A2 = np.array([[-3,1,-1],[-1,4,1],[2,-1,6]])\n",
    "p2,l2,u2 = LA.lu(A2)\n",
    "print('Ma trận P,L,U của A2 là:')\n",
    "print(p2)\n",
    "print(l2)\n",
    "print(u2)\n",
    "b2 = np.random.randint(1,9,size = 3)\n",
    "print('Random vecto b là: ')\n",
    "print(b2)\n",
    "x2 = np.linalg.solve(A2,b2)\n",
    "print('Nghiệm của hệ phương trình là:',x2)"
   ]
  },
  {
   "cell_type": "markdown",
   "metadata": {
    "id": "ac7e7653"
   },
   "source": [
    "#### Phần iii:"
   ]
  },
  {
   "cell_type": "markdown",
   "metadata": {
    "id": "01c48d78"
   },
   "source": [
    "                            \n",
    "                            A3 =[[ 0 1 0 0],\n",
    "                                [ 2 0 1 0],\n",
    "                                [ 0 2 0 1],\n",
    "                                [ 0 0 2 0]]"
   ]
  },
  {
   "cell_type": "code",
   "execution_count": null,
   "metadata": {
    "id": "e9aa050e",
    "outputId": "30606c31-0605-4527-9d53-cbae79222e81"
   },
   "outputs": [
    {
     "name": "stdout",
     "output_type": "stream",
     "text": [
      "Ma trận P,L,U của A2 là:\n",
      "[[0. 0. 0. 1.]\n",
      " [1. 0. 0. 0.]\n",
      " [0. 1. 0. 0.]\n",
      " [0. 0. 1. 0.]]\n",
      "[[1.  0.  0.  0. ]\n",
      " [0.  1.  0.  0. ]\n",
      " [0.  0.  1.  0. ]\n",
      " [0.  0.5 0.  1. ]]\n",
      "[[ 2.   0.   1.   0. ]\n",
      " [ 0.   2.   0.   1. ]\n",
      " [ 0.   0.   2.   0. ]\n",
      " [ 0.   0.   0.  -0.5]]\n",
      "Random vecto b là: \n",
      "[8 1 5 8]\n",
      "Nghiệm của hệ phương trình là: [ -1.5   8.    4.  -11. ]\n"
     ]
    }
   ],
   "source": [
    "A3 = np.array([[0,1,0,0],[2,0,1,0],[0,2,0,1],[0,0,2,0]])\n",
    "p3,l3,u3 = LA.lu(A3)\n",
    "print('Ma trận P,L,U của A2 là:')\n",
    "print(p3)\n",
    "print(l3)\n",
    "print(u3)\n",
    "b3 = np.random.randint(1,9,size = 4)\n",
    "print('Random vecto b là: ')\n",
    "print(b3)\n",
    "x3 = np.linalg.solve(A3,b3)\n",
    "print('Nghiệm của hệ phương trình là:',x3)"
   ]
  },
  {
   "cell_type": "markdown",
   "metadata": {
    "id": "127588d8"
   },
   "source": [
    "#### Phần iv:"
   ]
  },
  {
   "cell_type": "markdown",
   "metadata": {
    "id": "0dd40a0a"
   },
   "source": [
    "                      A4 =  [ [2 2 0 0],\n",
    "                              [2 2 1 0],\n",
    "                              [1 1 0 2],\n",
    "                              [0 1 0 0] ]"
   ]
  },
  {
   "cell_type": "code",
   "execution_count": null,
   "metadata": {
    "id": "090c215b",
    "outputId": "696b812f-e685-49c7-a008-7b62a8708583"
   },
   "outputs": [
    {
     "name": "stdout",
     "output_type": "stream",
     "text": [
      "Ma trận P,L,U của A2 là:\n",
      "[[1. 0. 0. 0.]\n",
      " [0. 0. 1. 0.]\n",
      " [0. 0. 0. 1.]\n",
      " [0. 1. 0. 0.]]\n",
      "[[1.  0.  0.  0. ]\n",
      " [0.  1.  0.  0. ]\n",
      " [1.  0.  1.  0. ]\n",
      " [0.5 0.  0.  1. ]]\n",
      "[[2. 2. 0. 0.]\n",
      " [0. 1. 0. 0.]\n",
      " [0. 0. 1. 0.]\n",
      " [0. 0. 0. 2.]]\n",
      "Random vecto b là: \n",
      "[3 1 4 5]\n",
      "Nghiệm của hệ phương trình là: [-3.5   5.   -2.    1.25]\n"
     ]
    }
   ],
   "source": [
    "A4 = np.array([[2,2,0,0],[2,2,1,0],[1,1,0,2],[0,1,0,0]])\n",
    "p4,l4,u4 = LA.lu(A4)\n",
    "print('Ma trận P,L,U của A2 là:')\n",
    "print(p4)\n",
    "print(l4)\n",
    "print(u4)\n",
    "b4 = np.random.randint(1,9,size = 4)\n",
    "print('Random vecto b là: ')\n",
    "print(b4)\n",
    "x4 = np.linalg.solve(A4,b4)\n",
    "print('Nghiệm của hệ phương trình là:',x4)"
   ]
  },
  {
   "cell_type": "markdown",
   "metadata": {
    "id": "1cb955d4"
   },
   "source": [
    "# Câu 7: Phân tích Cholesky"
   ]
  },
  {
   "cell_type": "markdown",
   "metadata": {
    "id": "6482b674"
   },
   "source": [
    "Trong trường hợp ma trận A là đối xứng, xác định dương thì phương pháp Cholesky thường được sử dụng. Hãy đọc phương pháp này trang 116-120 (Giáo trình ĐHBK) hoặc Section 2.4 (Giáo trình Kiusalass) và tìm hiểu hàm numpy.linalg.cholesky trong Python. Áp\n",
    "dụng để giải hệ phương trình sau đối với vế phải b lần lượt bằng [2 3 0]T và [2 5 − 2]T\n",
    "\n",
    "                        4x1 − 2x2 + 4x3 = b1\n",
    "                        −2x1 + 5x2 − 4x3 = b2\n",
    "                        4x1 − 4x2 + 6x3 = b3"
   ]
  },
  {
   "cell_type": "code",
   "execution_count": null,
   "metadata": {
    "id": "bce2c02d",
    "outputId": "5e0f7157-c00c-4ece-fbd0-29d4e652babe"
   },
   "outputs": [
    {
     "name": "stdout",
     "output_type": "stream",
     "text": [
      "Ma trận L sau khi phân tích cholesky:\n",
      "[[ 2.  0.  0.]\n",
      " [-1.  2.  0.]\n",
      " [ 2. -1.  1.]]\n",
      "Nghiệm của hệ phương trình với b = [2,3,0] là:\n",
      "[1 1 0]\n",
      "Nghiệm của hệ phương trình với b = [2,5,-2] là:\n",
      "[0 0 0]\n"
     ]
    }
   ],
   "source": [
    "from numpy.linalg import cholesky\n",
    "import numpy as np\n",
    "A = np.array([[4,-2,4],[-2,5,-4],[4,-4,6]])\n",
    "b1 = np.array([2,3,0])\n",
    "b2 = np.array([2,5,-2])\n",
    "# hàm tìm nghiệm bằng phương pháp phân tích cholesky\n",
    "def choleskySol(A,b):\n",
    "    n = len(b)\n",
    "    #solution of [l]{y} = b\n",
    "    for k in range(n):\n",
    "        b[k] = (b[k] - np.dot(L[k,0:k],b[0:k])) / L[k,k]\n",
    "    #solution of [L_transpose]{x} = {y}\n",
    "    for k in range(n-1,-1,-1):\n",
    "        b[k] = (b[k] - np.dot(L[k+1:n,k],b[k+1:n]))/L[k,k]\n",
    "    return b\n",
    "L = np.linalg.cholesky(A)\n",
    "print('Ma trận L sau khi phân tích cholesky:')\n",
    "print(L)\n",
    "\n",
    "print('Nghiệm của hệ phương trình với b = [2,3,0] là:')\n",
    "x1 = choleskySol(L,b1)\n",
    "print(x1)\n",
    "print('Nghiệm của hệ phương trình với b = [2,5,-2] là:')\n",
    "x2 = choleskySol(L,b1)\n",
    "print(x2)"
   ]
  }
 ],
 "metadata": {
  "colab": {
   "name": "No2_19000263_BuiThiAnhHuong.ipynb",
   "provenance": []
  },
  "kernelspec": {
   "display_name": "Python 3",
   "language": "python",
   "name": "python3"
  },
  "language_info": {
   "codemirror_mode": {
    "name": "ipython",
    "version": 3
   },
   "file_extension": ".py",
   "mimetype": "text/x-python",
   "name": "python",
   "nbconvert_exporter": "python",
   "pygments_lexer": "ipython3",
   "version": "3.8.5"
  }
 },
 "nbformat": 4,
 "nbformat_minor": 5
}
