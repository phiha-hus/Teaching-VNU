{
 "cells": [
  {
   "cell_type": "code",
   "execution_count": 6,
   "metadata": {},
   "outputs": [
    {
     "name": "stdout",
     "output_type": "stream",
     "text": [
      "[[1 2 3]\n",
      " [4 5 6]\n",
      " [7 8 0]]\n"
     ]
    }
   ],
   "source": [
    "from numpy import array\n",
    "import numpy.linalg as la\n",
    "\n",
    "A = array([[1, 2, 3],[4, 5, 6],[7, 8, 0]])\n",
    "#la.norm(A,1)\n",
    "print(A)"
   ]
  },
  {
   "cell_type": "code",
   "execution_count": 23,
   "metadata": {
    "scrolled": true
   },
   "outputs": [
    {
     "name": "stdout",
     "output_type": "stream",
     "text": [
      "[[10 -1  2 -3]\n",
      " [ 1 10 -1  2]\n",
      " [ 2  3 20 -1]\n",
      " [ 3  2  1 20]]\n",
      "Ma tran P\n",
      "[[1. 0. 0. 0.]\n",
      " [0. 1. 0. 0.]\n",
      " [0. 0. 1. 0.]\n",
      " [0. 0. 0. 1.]]\n",
      "Ma tran L\n",
      "[[1.         0.         0.         0.        ]\n",
      " [0.1        1.         0.         0.        ]\n",
      " [0.2        0.31683168 1.         0.        ]\n",
      " [0.3        0.22772277 0.03369673 1.        ]]\n",
      "Ma tran U\n",
      "[[10.         -1.          2.         -3.        ]\n",
      " [ 0.         10.1        -1.2         2.3       ]\n",
      " [ 0.          0.         19.98019802 -1.12871287]\n",
      " [ 0.          0.          0.         20.41427156]]\n",
      "[[ 0.00000000e+00  0.00000000e+00  0.00000000e+00  0.00000000e+00]\n",
      " [ 0.00000000e+00  0.00000000e+00  0.00000000e+00 -2.22044605e-16]\n",
      " [ 0.00000000e+00  4.44089210e-16  0.00000000e+00  0.00000000e+00]\n",
      " [ 4.44089210e-16 -2.22044605e-16  0.00000000e+00  0.00000000e+00]]\n"
     ]
    }
   ],
   "source": [
    "from scipy.linalg import lu\n",
    "from numpy import array\n",
    "\n",
    "A = array([[10,-1,2,-3],[1,10,-1,2],[2,3,20,-1],[3,2,1,20]])\n",
    "print(A)\n",
    "\n",
    "P, L, U = lu(A)\n",
    "print(\"Ma tran P\")\n",
    "print(P)\n",
    "print(\"Ma tran L\")\n",
    "print(L)\n",
    "print(\"Ma tran U\")\n",
    "print(U)\n",
    "\n",
    "#print(P*L*U - A)   # Matlab thi duoc, Python thi 0\n",
    "print(dot(P,dot(L,U)) - A) # Dung trong Python"
   ]
  },
  {
   "cell_type": "code",
   "execution_count": 20,
   "metadata": {},
   "outputs": [
    {
     "name": "stdout",
     "output_type": "stream",
     "text": [
      "[[0.14285714 1.         0.        ]\n",
      " [0.57142857 0.5        1.        ]\n",
      " [1.         0.         0.        ]]\n",
      "[[7.         8.         0.        ]\n",
      " [0.         0.85714286 3.        ]\n",
      " [0.         0.         4.5       ]]\n"
     ]
    },
    {
     "data": {
      "text/plain": [
       "array([[0., 0., 0.],\n",
       "       [0., 0., 0.],\n",
       "       [0., 0., 0.]])"
      ]
     },
     "execution_count": 20,
     "metadata": {},
     "output_type": "execute_result"
    }
   ],
   "source": [
    "L, U = lu(A,True)\n",
    "\n",
    "print(L)\n",
    "print(U)\n",
    "\n",
    "from numpy import dot\n",
    "dot(L,U)-A"
   ]
  },
  {
   "cell_type": "code",
   "execution_count": 24,
   "metadata": {},
   "outputs": [
    {
     "name": "stdout",
     "output_type": "stream",
     "text": [
      "[[0 0 1]\n",
      " [1 0 0]\n",
      " [0 1 0]]\n",
      "[[1.         0.         0.        ]\n",
      " [0.5        1.         0.        ]\n",
      " [0.33333333 0.25       1.        ]]\n",
      "[[2 3 1]\n",
      " [0 1 2]\n",
      " [0 0 2]]\n"
     ]
    }
   ],
   "source": [
    "P = array([[0,0,1],[1,0,0],[0,1,0]])\n",
    "L = array([[1,0,0],[0.5,1,0],[1/3.,1/4.,1]])\n",
    "U = array([[2,3,1],[0,1,2],[0,0,2]])\n",
    "print(P)\n",
    "print(L)\n",
    "print(U)\n"
   ]
  },
  {
   "cell_type": "code",
   "execution_count": 30,
   "metadata": {},
   "outputs": [
    {
     "name": "stdout",
     "output_type": "stream",
     "text": [
      "A la\n",
      "[[0.66666667 1.25       2.83333333]\n",
      " [2.         3.         1.        ]\n",
      " [1.         2.5        2.5       ]]\n",
      "b la\n",
      "[1 2 3]\n"
     ]
    }
   ],
   "source": [
    "A = dot(P,dot(L,U))\n",
    "print(\"A la\")\n",
    "print(A)\n",
    "\n",
    "b = array([1,2,3])\n",
    "print(\"b la\")\n",
    "print(b)"
   ]
  },
  {
   "cell_type": "code",
   "execution_count": 35,
   "metadata": {},
   "outputs": [
    {
     "name": "stdout",
     "output_type": "stream",
     "text": [
      "[[ 1  1]\n",
      " [ 1 -1]\n",
      " [ 2  1]]\n",
      "[2 0 4]\n"
     ]
    }
   ],
   "source": [
    "A = array([[1,1],[1,-1],[2,1]])\n",
    "print(A)\n",
    "b = array([2,0,4])\n",
    "print(b)"
   ]
  },
  {
   "cell_type": "code",
   "execution_count": 39,
   "metadata": {},
   "outputs": [
    {
     "name": "stdout",
     "output_type": "stream",
     "text": [
      "Cach 1: phuong trinh chinh tac\n",
      "[[6 2]\n",
      " [2 3]]\n",
      "[10  6]\n",
      "[1.28571429 1.14285714]\n"
     ]
    }
   ],
   "source": [
    "print(\"Cach 1: phuong trinh chinh tac\")\n",
    "M = dot(A.T,A)\n",
    "print(M)\n",
    "n = dot(A.T,b)\n",
    "print(n)\n",
    "from numpy.linalg import solve\n"
   ]
  },
  {
   "cell_type": "code",
   "execution_count": 48,
   "metadata": {},
   "outputs": [
    {
     "name": "stdout",
     "output_type": "stream",
     "text": [
      "Cach 2: su dung phan tich QR\n",
      "[[-0.40824829  0.43643578 -0.80178373]\n",
      " [-0.40824829 -0.87287156 -0.26726124]\n",
      " [-0.81649658  0.21821789  0.53452248]]\n",
      "[[-2.44948974 -0.81649658]\n",
      " [ 0.          1.52752523]\n",
      " [ 0.          0.        ]]\n",
      "[[-0.40824829]\n",
      " [-0.40824829]\n",
      " [-0.81649658]]\n",
      "[-4.0824829]\n"
     ]
    },
    {
     "ename": "LinAlgError",
     "evalue": "Last 2 dimensions of the array must be square",
     "output_type": "error",
     "traceback": [
      "\u001b[1;31m---------------------------------------------------------------------------\u001b[0m",
      "\u001b[1;31mLinAlgError\u001b[0m                               Traceback (most recent call last)",
      "\u001b[1;32m<ipython-input-48-ce31b855d1e6>\u001b[0m in \u001b[0;36m<module>\u001b[1;34m\u001b[0m\n\u001b[0;32m     13\u001b[0m \u001b[1;33m\u001b[0m\u001b[0m\n\u001b[0;32m     14\u001b[0m \u001b[1;32mfrom\u001b[0m \u001b[0mnumpy\u001b[0m\u001b[1;33m.\u001b[0m\u001b[0mlinalg\u001b[0m \u001b[1;32mimport\u001b[0m \u001b[0msolve\u001b[0m\u001b[1;33m\u001b[0m\u001b[1;33m\u001b[0m\u001b[0m\n\u001b[1;32m---> 15\u001b[1;33m \u001b[0mx\u001b[0m \u001b[1;33m=\u001b[0m \u001b[0msolve\u001b[0m\u001b[1;33m(\u001b[0m\u001b[0mR\u001b[0m\u001b[1;33m,\u001b[0m\u001b[0mp\u001b[0m\u001b[1;33m)\u001b[0m\u001b[1;33m\u001b[0m\u001b[1;33m\u001b[0m\u001b[0m\n\u001b[0m\u001b[0;32m     16\u001b[0m \u001b[0mprint\u001b[0m\u001b[1;33m(\u001b[0m\u001b[0mx\u001b[0m\u001b[1;33m)\u001b[0m\u001b[1;33m\u001b[0m\u001b[1;33m\u001b[0m\u001b[0m\n",
      "\u001b[1;32m~\\Anaconda3\\lib\\site-packages\\numpy\\linalg\\linalg.py\u001b[0m in \u001b[0;36msolve\u001b[1;34m(a, b)\u001b[0m\n\u001b[0;32m    388\u001b[0m     \u001b[0ma\u001b[0m\u001b[1;33m,\u001b[0m \u001b[0m_\u001b[0m \u001b[1;33m=\u001b[0m \u001b[0m_makearray\u001b[0m\u001b[1;33m(\u001b[0m\u001b[0ma\u001b[0m\u001b[1;33m)\u001b[0m\u001b[1;33m\u001b[0m\u001b[1;33m\u001b[0m\u001b[0m\n\u001b[0;32m    389\u001b[0m     \u001b[0m_assertRankAtLeast2\u001b[0m\u001b[1;33m(\u001b[0m\u001b[0ma\u001b[0m\u001b[1;33m)\u001b[0m\u001b[1;33m\u001b[0m\u001b[1;33m\u001b[0m\u001b[0m\n\u001b[1;32m--> 390\u001b[1;33m     \u001b[0m_assertNdSquareness\u001b[0m\u001b[1;33m(\u001b[0m\u001b[0ma\u001b[0m\u001b[1;33m)\u001b[0m\u001b[1;33m\u001b[0m\u001b[1;33m\u001b[0m\u001b[0m\n\u001b[0m\u001b[0;32m    391\u001b[0m     \u001b[0mb\u001b[0m\u001b[1;33m,\u001b[0m \u001b[0mwrap\u001b[0m \u001b[1;33m=\u001b[0m \u001b[0m_makearray\u001b[0m\u001b[1;33m(\u001b[0m\u001b[0mb\u001b[0m\u001b[1;33m)\u001b[0m\u001b[1;33m\u001b[0m\u001b[1;33m\u001b[0m\u001b[0m\n\u001b[0;32m    392\u001b[0m     \u001b[0mt\u001b[0m\u001b[1;33m,\u001b[0m \u001b[0mresult_t\u001b[0m \u001b[1;33m=\u001b[0m \u001b[0m_commonType\u001b[0m\u001b[1;33m(\u001b[0m\u001b[0ma\u001b[0m\u001b[1;33m,\u001b[0m \u001b[0mb\u001b[0m\u001b[1;33m)\u001b[0m\u001b[1;33m\u001b[0m\u001b[1;33m\u001b[0m\u001b[0m\n",
      "\u001b[1;32m~\\Anaconda3\\lib\\site-packages\\numpy\\linalg\\linalg.py\u001b[0m in \u001b[0;36m_assertNdSquareness\u001b[1;34m(*arrays)\u001b[0m\n\u001b[0;32m    211\u001b[0m         \u001b[0mm\u001b[0m\u001b[1;33m,\u001b[0m \u001b[0mn\u001b[0m \u001b[1;33m=\u001b[0m \u001b[0ma\u001b[0m\u001b[1;33m.\u001b[0m\u001b[0mshape\u001b[0m\u001b[1;33m[\u001b[0m\u001b[1;33m-\u001b[0m\u001b[1;36m2\u001b[0m\u001b[1;33m:\u001b[0m\u001b[1;33m]\u001b[0m\u001b[1;33m\u001b[0m\u001b[1;33m\u001b[0m\u001b[0m\n\u001b[0;32m    212\u001b[0m         \u001b[1;32mif\u001b[0m \u001b[0mm\u001b[0m \u001b[1;33m!=\u001b[0m \u001b[0mn\u001b[0m\u001b[1;33m:\u001b[0m\u001b[1;33m\u001b[0m\u001b[1;33m\u001b[0m\u001b[0m\n\u001b[1;32m--> 213\u001b[1;33m             \u001b[1;32mraise\u001b[0m \u001b[0mLinAlgError\u001b[0m\u001b[1;33m(\u001b[0m\u001b[1;34m'Last 2 dimensions of the array must be square'\u001b[0m\u001b[1;33m)\u001b[0m\u001b[1;33m\u001b[0m\u001b[1;33m\u001b[0m\u001b[0m\n\u001b[0m\u001b[0;32m    214\u001b[0m \u001b[1;33m\u001b[0m\u001b[0m\n\u001b[0;32m    215\u001b[0m \u001b[1;32mdef\u001b[0m \u001b[0m_assertFinite\u001b[0m\u001b[1;33m(\u001b[0m\u001b[1;33m*\u001b[0m\u001b[0marrays\u001b[0m\u001b[1;33m)\u001b[0m\u001b[1;33m:\u001b[0m\u001b[1;33m\u001b[0m\u001b[1;33m\u001b[0m\u001b[0m\n",
      "\u001b[1;31mLinAlgError\u001b[0m: Last 2 dimensions of the array must be square"
     ]
    }
   ],
   "source": [
    "print(\"Cach 2: su dung phan tich QR\")\n",
    "from scipy.linalg import qr\n",
    "Q,R = qr(A)\n",
    "print(Q)\n",
    "print(R)\n",
    "#print(dot(Q,R)-A)\n",
    "\n",
    "Q1 = Q[:,0:1]\n",
    "R1 = R[0:1,:]\n",
    "print(Q1)\n",
    "print(R1)\n",
    "\n",
    "p = dot(Q1.T,b)\n",
    "print(p)\n",
    "\n",
    "from numpy.linalg import solve\n",
    "x = solve(R,p)\n",
    "print(x)"
   ]
  },
  {
   "cell_type": "code",
   "execution_count": null,
   "metadata": {},
   "outputs": [],
   "source": []
  }
 ],
 "metadata": {
  "kernelspec": {
   "display_name": "Python 3",
   "language": "python",
   "name": "python3"
  },
  "language_info": {
   "codemirror_mode": {
    "name": "ipython",
    "version": 3
   },
   "file_extension": ".py",
   "mimetype": "text/x-python",
   "name": "python",
   "nbconvert_exporter": "python",
   "pygments_lexer": "ipython3",
   "version": "3.7.3"
  }
 },
 "nbformat": 4,
 "nbformat_minor": 2
}
