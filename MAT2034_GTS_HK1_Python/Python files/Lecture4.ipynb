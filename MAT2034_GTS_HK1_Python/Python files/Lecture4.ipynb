{
 "cells": [
  {
   "cell_type": "code",
   "execution_count": 16,
   "metadata": {},
   "outputs": [
    {
     "name": "stdout",
     "output_type": "stream",
     "text": [
      "Tim duoc nghiem sau 6 lan lap.\n",
      "1.4655712318767877\n"
     ]
    }
   ],
   "source": [
    "def newton(f,df,x0,nmax,epsilon):\n",
    "    x1 = x0\n",
    "    for n in range(0,nmax):\n",
    "        fx1 = f(x1)\n",
    "        if abs(fx1) < epsilon:\n",
    "            print('Tim duoc nghiem sau',n,'lan lap.')\n",
    "            return x1\n",
    "        Df = df(x1)\n",
    "        if Df == 0:\n",
    "            print('Khong tim thay nghiem vi dao ham = 0')\n",
    "            return None\n",
    "        x1 = x1 - fx1/Df                \n",
    "    print('Vuot qua so lan lap, khong tim thay nghiem.')\n",
    "    return None\n",
    "\n",
    "# Test code\n",
    "x0,nmax,epsilon = (1,10,1e-10)\n",
    "f = lambda x: x**3 - x**2 - 1\n",
    "df = lambda x: 3*x**2 - 2*x\n",
    "approx = newton(f,df,x0,nmax,epsilon)\n",
    "print(approx)"
   ]
  },
  {
   "cell_type": "code",
   "execution_count": 17,
   "metadata": {},
   "outputs": [
    {
     "name": "stdout",
     "output_type": "stream",
     "text": [
      "Vuot qua so lan lap, khong tim thay nghiem.\n",
      "None\n"
     ]
    }
   ],
   "source": [
    "f = lambda x: x**(1/3)\n",
    "df = lambda x: (1/3)*x**(-2/3)\n",
    "approx = newton(f,df,0.1,100,1e-2)\n",
    "print(approx)"
   ]
  },
  {
   "cell_type": "code",
   "execution_count": 12,
   "metadata": {},
   "outputs": [
    {
     "name": "stdout",
     "output_type": "stream",
     "text": [
      "[[1. 1. 1.]\n",
      " [0. 1. 0.]\n",
      " [0. 0. 1.]]\n"
     ]
    }
   ],
   "source": [
    "import numpy as np\n",
    "A = np.array([[1,2,3],[0, 2, 0],[0, 0, 3]])\n",
    "b = np.array([1,2,3])\n",
    "print(A/b)"
   ]
  },
  {
   "cell_type": "code",
   "execution_count": 13,
   "metadata": {},
   "outputs": [
    {
     "name": "stdout",
     "output_type": "stream",
     "text": [
      "Found solution after 6 iterations.\n",
      "1.4655712318767877\n"
     ]
    }
   ],
   "source": [
    "import numpy as np\n",
    "\n",
    "def Newton_system(F, J, x, nmax, eps):\n",
    "    \"\"\"\n",
    "    Solve nonlinear system F=0 by Newton's method.\n",
    "    J is the Jacobian of F. Both F and J must be functions of x.\n",
    "    At input, x holds the start value. The iteration continues\n",
    "    until ||F|| < eps.\n",
    "    \"\"\"\n",
    "    F_value = F(x)\n",
    "    F_norm = np.linalg.norm(F_value, ord=2)  # l2 norm of vector\n",
    "    iteration_counter = 0\n",
    "    while abs(F_norm) > eps and iteration_counter < nmax:\n",
    "        delta = np.linalg.solve(J(x), -F_value)\n",
    "        x = x + delta\n",
    "        F_value = F(x)\n",
    "        F_norm = np.linalg.norm(F_value, ord=2)\n",
    "        iteration_counter += 1\n",
    "\n",
    "    # Here, either a solution is found, or too many iterations\n",
    "    if abs(F_norm) > eps:\n",
    "        iteration_counter = -1\n",
    "    return x, iteration_counter\n",
    "\n",
    "# Test code\n",
    "f = lambda x: x**3 - x**2 - 1\n",
    "df = lambda x: 3*x**2 - 2*x\n",
    "approx = newton(f,df,1,100,1e-10)\n",
    "print(approx)        \n",
    "\n"
   ]
  },
  {
   "cell_type": "code",
   "execution_count": 23,
   "metadata": {},
   "outputs": [
    {
     "name": "stdout",
     "output_type": "stream",
     "text": [
      "9.886002701149666\n",
      "14\n"
     ]
    }
   ],
   "source": [
    "def newton(f,df,x0,nmax,eps):\n",
    "    n = 0;\n",
    "    while (abs(f(x0))>eps) and (n<nmax):\n",
    "        x1 = x0 - f(x0)/df(x0);\n",
    "        x0 = x1;\n",
    "        n += 1;\n",
    "    return x0, n\n",
    "\n",
    "# Test ham newton vua viet\n",
    "x0,nmax,eps = (0.5,100,1e-6);\n",
    "def f(x): return x**4-3*x**2+75*x-10000\n",
    "def df(x): return 4*x**3-6*x+75\n",
    "#f = lambda x: x**2\n",
    "#df = lambda x: 2*x\n",
    "\n",
    "x0, n = newton(f,df,x0,nmax,eps)\n",
    "print(x0)\n",
    "print(n)\n"
   ]
  },
  {
   "cell_type": "code",
   "execution_count": 24,
   "metadata": {},
   "outputs": [
    {
     "name": "stdout",
     "output_type": "stream",
     "text": [
      "1.5\n",
      "4\n"
     ]
    }
   ],
   "source": [
    "import numpy as np\n",
    "from numpy import exp, sin, cos, log\n",
    "\n",
    "x0,nmax,eps = (1.5,100,1e-5);\n",
    "def f(x): return exp(x) + 2**(-x) + 2 * cos(x) - 6\n",
    "def df(x): return exp(x) - 2**(-x) * log(2) - 2 * sin(x)\n",
    "\n",
    "x1, n = newton(f,df,x0,nmax,eps)\n",
    "print(x0)\n",
    "print(n)"
   ]
  },
  {
   "cell_type": "code",
   "execution_count": 15,
   "metadata": {},
   "outputs": [
    {
     "name": "stdout",
     "output_type": "stream",
     "text": [
      "1.0000000000043956\n",
      "27\n"
     ]
    }
   ],
   "source": [
    "def can_bac_2(a,x0,nmax,eps):\n",
    "    n = 0;\n",
    "    def f(x): return x**2-a\n",
    "    while (n<nmax) and (abs(f(x0))>eps):\n",
    "        x1 = x0 - (x0**2-a)/(2*x0);\n",
    "        x0 = x1;        \n",
    "        n += 1\n",
    "    return x1, n\n",
    "\n",
    "x0,nmax,eps = (1e-7,100,1e-10);\n",
    "a = 1;\n",
    "x1, n = can_bac_2(a,x0,nmax,eps)\n",
    "print(x1)\n",
    "print(n)\n"
   ]
  },
  {
   "cell_type": "code",
   "execution_count": 17,
   "metadata": {},
   "outputs": [
    {
     "name": "stdout",
     "output_type": "stream",
     "text": [
      "No la ---  -5.0\n",
      "So lan lap la ---- 1\n"
     ]
    }
   ],
   "source": [
    "def bai3(a,b,x0,nmax,tol):    \n",
    "    \n",
    "    fx = a * x0 + b;\n",
    "    x1 = x0 - fx/a;\n",
    "    n = 0;\n",
    "    while (n<nmax) and (abs(x1-x0)>tol):\n",
    "        x0 = x1;\n",
    "        fx = a * x0 + b;\n",
    "        x1 = x0 - fx/a;\n",
    "        n += 1\n",
    "    if n==nmax-1:\n",
    "            print(\"Co the khong co nghiem = Newton hoac nmax qua be\")                \n",
    "    return x1, n\n",
    "\n",
    "# Test\n",
    "a,b,x0,nmax,tol = (0.1,0.5,0,300,1e-6);\n",
    "x0, n = bai3(a,b,x0,nmax,tol)\n",
    "print(\"No la --- \",x0)\n",
    "print(\"So lan lap la ----\",n)\n"
   ]
  },
  {
   "cell_type": "code",
   "execution_count": null,
   "metadata": {},
   "outputs": [],
   "source": []
  },
  {
   "cell_type": "code",
   "execution_count": null,
   "metadata": {},
   "outputs": [],
   "source": [
    "\n",
    "\n"
   ]
  },
  {
   "cell_type": "code",
   "execution_count": null,
   "metadata": {},
   "outputs": [],
   "source": []
  }
 ],
 "metadata": {
  "kernelspec": {
   "display_name": "Python 3",
   "language": "python",
   "name": "python3"
  },
  "language_info": {
   "codemirror_mode": {
    "name": "ipython",
    "version": 3
   },
   "file_extension": ".py",
   "mimetype": "text/x-python",
   "name": "python",
   "nbconvert_exporter": "python",
   "pygments_lexer": "ipython3",
   "version": "3.8.5"
  }
 },
 "nbformat": 4,
 "nbformat_minor": 2
}
