{
 "cells": [
  {
   "cell_type": "code",
   "execution_count": null,
   "metadata": {},
   "outputs": [],
   "source": [
    "#Function\n",
    "def generateSquare(n): \n",
    "    # 2-D array with all  \n",
    "    # slots set to 0 \n",
    "    magicSquare = [[0 for x in range(n)] \n",
    "                      for y in range(n)] \n",
    "    # initialize position of 1 \n",
    "    i = n / 2\n",
    "    j = n - 1\n",
    "    # Fill the square by placing values \n",
    "    num = 1\n",
    "    while num <= (n * n): \n",
    "        if i == -1 and j == n: # 3rd condition \n",
    "            j = n - 2\n",
    "            i = 0\n",
    "        else:  \n",
    "            # next number goes out of \n",
    "            # right side of square  \n",
    "            if j == n: \n",
    "                j = 0    \n",
    "            # next number goes  \n",
    "            # out of upper side \n",
    "            if i < 0: \n",
    "                i = n - 1\n",
    "        if magicSquare[int(i)][int(j)]: # 2nd condition \n",
    "            j = j - 2\n",
    "            i = i + 1\n",
    "            continue\n",
    "        else: \n",
    "            magicSquare[int(i)][int(j)] = num \n",
    "            num = num + 1\n",
    "        j = j + 1\n",
    "        i = i - 1 # 1st condition \n",
    "    # Printing the square \n",
    "    print (\"Magic Square for n =\", n) \n",
    "    print (\"Sum of each row or column\",n * (n * n + 1) / 2, \"\\n\") \n",
    "    for i in range(0, n): \n",
    "        for j in range(0, n): \n",
    "            print('%2d ' % (magicSquare[i][j]),end = '') \n",
    "            # To display output  \n",
    "            # in matrix form \n",
    "            if j == n - 1:  \n",
    "                print()\n",
    "# Driver Code \n",
    "# Works only when n is odd \n",
    "n=int(input(\"Number of rows of the Magic Square:\"))\n",
    "generateSquare(n)"
   ]
  },
  {
   "cell_type": "code",
   "execution_count": null,
   "metadata": {},
   "outputs": [],
   "source": [
    "with open('Midterm_K65.txt', 'w') as f:\n",
    "    f.write('Midterm_K65')"
   ]
  },
  {
   "cell_type": "code",
   "execution_count": 17,
   "metadata": {},
   "outputs": [
    {
     "name": "stdout",
     "output_type": "stream",
     "text": [
      "Magic Square for n = 3\n",
      "Sum of each row or column 15.0 \n",
      "\n",
      " 2  7  6 \n",
      " 9  5  1 \n",
      " 4  3  8 \n"
     ]
    }
   ],
   "source": [
    "import numpy as np\n",
    "import numpy.linalg as la\n",
    "\n",
    "A = generateSquare(3)"
   ]
  },
  {
   "cell_type": "code",
   "execution_count": null,
   "metadata": {},
   "outputs": [],
   "source": [
    "type(A)"
   ]
  },
  {
   "cell_type": "code",
   "execution_count": null,
   "metadata": {},
   "outputs": [],
   "source": [
    "A = np.array(A)\n",
    "A = np.reshape(A,(11,11))\n",
    "help(np.reshape)"
   ]
  },
  {
   "cell_type": "code",
   "execution_count": 24,
   "metadata": {},
   "outputs": [
    {
     "name": "stdout",
     "output_type": "stream",
     "text": [
      "H = \n",
      "  [[ 89  59  77]\n",
      " [ 59 107  59]\n",
      " [ 77  59  89]]\n",
      "x =  [ 3.79166667 -8.83333333 12.04166667]\n"
     ]
    }
   ],
   "source": [
    "A = np.array([[2,7,6],[9,5,1],[4,3,8]])\n",
    "H = A@A.T\n",
    "L = la.cholesky(H)\n",
    "print(\"H = \\n \",H)\n",
    "b = np.array([18, 2, 85])\n",
    "x = la.solve(A,b)\n",
    "print(\"x = \",x)"
   ]
  },
  {
   "cell_type": "code",
   "execution_count": 28,
   "metadata": {},
   "outputs": [
    {
     "name": "stdout",
     "output_type": "stream",
     "text": [
      "[[ 89  59  77]\n",
      " [ 59 107  59]\n",
      " [ 77  59  89]]\n"
     ]
    }
   ],
   "source": [
    "H = np.array([[89,59,77], [59,107,59], [77,59,89]])\n",
    "print(H)"
   ]
  },
  {
   "cell_type": "code",
   "execution_count": null,
   "metadata": {},
   "outputs": [],
   "source": []
  }
 ],
 "metadata": {
  "kernelspec": {
   "display_name": "Python 3",
   "language": "python",
   "name": "python3"
  },
  "language_info": {
   "codemirror_mode": {
    "name": "ipython",
    "version": 3
   },
   "file_extension": ".py",
   "mimetype": "text/x-python",
   "name": "python",
   "nbconvert_exporter": "python",
   "pygments_lexer": "ipython3",
   "version": "3.8.5"
  }
 },
 "nbformat": 4,
 "nbformat_minor": 4
}
