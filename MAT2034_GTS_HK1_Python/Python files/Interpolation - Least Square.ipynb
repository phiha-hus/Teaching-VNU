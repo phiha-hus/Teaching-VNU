{
 "cells": [
  {
   "cell_type": "code",
   "execution_count": null,
   "metadata": {},
   "outputs": [],
   "source": [
    "import numpy as np\n",
    "from numpy.linalg import qr,solve\n",
    "from numpy import array, dot\n",
    "\n",
    "ep = 1e-12;\n",
    "\n",
    "A = array([[1, ep, 0], [1, 0, ep]]).T\n",
    "#print('A = \\n',A)\n",
    "\n",
    "b = array([1,2,3])\n",
    "#print('b = \\n',b)\n",
    "\n",
    "M = np.dot(A.T,A)\n",
    "#print(M)\n",
    "\n",
    "n = np.dot(A.T,b)\n",
    "x = solve(M,n)"
   ]
  },
  {
   "cell_type": "code",
   "execution_count": null,
   "metadata": {
    "scrolled": true
   },
   "outputs": [],
   "source": [
    "def least_square_qr(A,b):  \n",
    "    import numpy.linalg as la\n",
    "    Q, R = la.qr(A)\n",
    "    #print('Q = \\n',Q)\n",
    "    #print('R = \\n',R)\n",
    "\n",
    "    x = la.solve(R,np.dot(Q.T,b))\n",
    "    return x\n",
    "\n"
   ]
  },
  {
   "cell_type": "code",
   "execution_count": 29,
   "metadata": {},
   "outputs": [],
   "source": [
    "x = np.array([0.2 , 0.3, 0.4])\n",
    "y = np.array([3.16, 2.38, 1.75])\n"
   ]
  },
  {
   "cell_type": "code",
   "execution_count": null,
   "metadata": {},
   "outputs": [],
   "source": []
  }
 ],
 "metadata": {
  "kernelspec": {
   "display_name": "Python 3",
   "language": "python",
   "name": "python3"
  },
  "language_info": {
   "codemirror_mode": {
    "name": "ipython",
    "version": 3
   },
   "file_extension": ".py",
   "mimetype": "text/x-python",
   "name": "python",
   "nbconvert_exporter": "python",
   "pygments_lexer": "ipython3",
   "version": "3.8.5"
  }
 },
 "nbformat": 4,
 "nbformat_minor": 4
}
