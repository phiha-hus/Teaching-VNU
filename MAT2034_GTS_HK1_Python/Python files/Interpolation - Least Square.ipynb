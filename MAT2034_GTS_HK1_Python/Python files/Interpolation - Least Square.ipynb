{
 "cells": [
  {
   "cell_type": "code",
   "execution_count": null,
   "metadata": {},
   "outputs": [],
   "source": [
    "import numpy as np\n",
    "from numpy.linalg import qr,solve\n",
    "from numpy import array, dot\n",
    "\n",
    "ep = 1e-12;\n",
    "\n",
    "A = array([[1, ep, 0], [1, 0, ep]]).T\n",
    "#print('A = \\n',A)\n",
    "\n",
    "b = array([1,2,3])\n",
    "#print('b = \\n',b)\n",
    "\n",
    "M = np.dot(A.T,A)\n",
    "#print(M)\n",
    "\n",
    "n = np.dot(A.T,b)\n",
    "x = solve(M,n)"
   ]
  },
  {
   "cell_type": "code",
   "execution_count": null,
   "metadata": {
    "scrolled": true
   },
   "outputs": [],
   "source": [
    "def least_square_qr(A,b):  \n",
    "    import numpy.linalg as la\n",
    "    Q, R = la.qr(A)\n",
    "    #print('Q = \\n',Q)\n",
    "    #print('R = \\n',R)\n",
    "\n",
    "    x = la.solve(R,np.dot(Q.T,b))\n",
    "    return x\n",
    "\n"
   ]
  },
  {
   "cell_type": "code",
   "execution_count": 29,
   "metadata": {},
   "outputs": [],
   "source": [
    "x = np.array([0.2 , 0.3, 0.4])\n",
    "y = np.array([3.16, 2.38, 1.75])\n"
   ]
  },
  {
   "cell_type": "code",
   "execution_count": 15,
   "metadata": {},
   "outputs": [
    {
     "name": "stdout",
     "output_type": "stream",
     "text": [
      "A = \n",
      " [[1.   0.   0.  ]\n",
      " [1.   0.5  0.25]\n",
      " [1.   1.   1.  ]\n",
      " [1.   1.5  2.25]]\n",
      "Q = \n",
      " [[-0.5         0.67082039  0.5       ]\n",
      " [-0.5         0.2236068  -0.5       ]\n",
      " [-0.5        -0.2236068  -0.5       ]\n",
      " [-0.5        -0.67082039  0.5       ]]\n",
      "R = \n",
      " [[-2.         -1.5        -1.75      ]\n",
      " [ 0.         -1.11803399 -1.67705098]\n",
      " [ 0.          0.          0.5       ]]\n",
      "b =  [ 0.         -0.00601807 -0.01005034 -0.01511364]\n",
      "x =  [-1.50842361e-04 -1.13067909e-02  1.00095523e+00]\n"
     ]
    }
   ],
   "source": [
    "import numpy as np\n",
    "import numpy.linalg as la\n",
    "from numpy.linalg import qr\n",
    "\n",
    "A = np.array([[1, 1, 1, 1],[0, 0.5, 1, 1.5],[0, 0.25, 1, 2.25]]).T\n",
    "print('A = \\n',A)\n",
    "\n",
    "Q, R = qr(A)\n",
    "print('Q = \\n',Q)\n",
    "print('R = \\n',R)\n",
    "\n",
    "gamma = np.array([1.000, 0.994, 0.990, 0.985]).T\n",
    "b = np.log(gamma)\n",
    "print('b = ',b)\n",
    "\n",
    "#print(b.shape)\n",
    "#print(np.dot(Q.T,b))\n",
    "\n",
    "x = la.solve(R,np.dot(Q.T,b))\n",
    "x[-1] = np.exp(x[-1])\n",
    "print('x = ', x)"
   ]
  },
  {
   "cell_type": "code",
   "execution_count": null,
   "metadata": {},
   "outputs": [],
   "source": []
  }
 ],
 "metadata": {
  "kernelspec": {
   "display_name": "Python 3",
   "language": "python",
   "name": "python3"
  },
  "language_info": {
   "codemirror_mode": {
    "name": "ipython",
    "version": 3
   },
   "file_extension": ".py",
   "mimetype": "text/x-python",
   "name": "python",
   "nbconvert_exporter": "python",
   "pygments_lexer": "ipython3",
   "version": "3.8.5"
  }
 },
 "nbformat": 4,
 "nbformat_minor": 4
}
