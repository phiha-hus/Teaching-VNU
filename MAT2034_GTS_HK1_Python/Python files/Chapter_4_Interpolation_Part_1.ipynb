{
 "cells": [
  {
   "cell_type": "markdown",
   "metadata": {
    "scrolled": true
   },
   "source": [
    "# POLYNOMIAL & PIECEWISE POLYNOMIAL INTERPOLATION\n",
    "# Nội suy đa thức và nội suy đa thức từng khúc"
   ]
  },
  {
   "cell_type": "markdown",
   "metadata": {},
   "source": [
    "## Nguồn gốc của nội suy đa thức"
   ]
  },
  {
   "cell_type": "raw",
   "metadata": {},
   "source": [
    "Bài toán: Tìm vị trí của 1 vật thể tại 1 thời điểm trong quá trình chuyển động trong quá khứ (nội suy/interpolation) hay trong tương lai (ngoại suy/extrapolation)\n",
    "\n",
    "1a) Tìm tọa độ của 1 chiếc tên lửa bay theo đường thẳng\n",
    "1b) Tìm tọa độ của 1 vật ném lên trời và rơi xuống tự do dưới tác dụng của trọng lực"
   ]
  },
  {
   "cell_type": "code",
   "execution_count": null,
   "metadata": {
    "scrolled": true
   },
   "outputs": [],
   "source": [
    "import numpy as np\n",
    "from scipy import interpolate\n",
    "import matplotlib.pyplot as plt"
   ]
  },
  {
   "cell_type": "code",
   "execution_count": null,
   "metadata": {},
   "outputs": [],
   "source": [
    "# Linear interpolation \n",
    "x1 = np.array([[1, 10]]); y1 = np.array([[3, 21]])\n",
    "x2 = np.linspace(1,10,100); y2 = 2 * x2 + 1\n",
    "plt.subplot(2,1,1)\n",
    "plt.plot(x1,y1, 'ok', label='Known points')\n",
    "plt.plot(x2, y2, '--b', label='Linear interpolation')\n",
    "\n",
    "\n",
    "# Quadratic and Cubic Interpolations\n",
    "x = np.linspace(0, 2, 8)\n",
    "y = 10*np.sinc(x*2+4)\n",
    "\n",
    "xn = np.linspace(0, 2, 100)\n",
    "y0 = 10*np.sinc(xn*2+4)\n",
    "\n",
    "fq = interpolate.interp1d(x, y, kind='quadratic')\n",
    "ynq = fq(xn)\n",
    "fc = interpolate.interp1d(x, y, kind='cubic')\n",
    "ync = fc(xn)\n",
    "\n",
    "plt.subplot(2,1,2)\n",
    "plt.plot(xn, y0, '--k', label='True values')\n",
    "plt.plot(x, y, 'ok', label='Known points')\n",
    "plt.plot(xn, ynq, label='Quadratic spline')\n",
    "plt.plot(xn, ync, label='Cubic spline')\n",
    "plt.legend()\n",
    "plt.show()"
   ]
  },
  {
   "cell_type": "markdown",
   "metadata": {},
   "source": [
    "## Công thức nội suy Lagrange"
   ]
  },
  {
   "cell_type": "code",
   "execution_count": null,
   "metadata": {},
   "outputs": [],
   "source": [
    "# Built-in function in Scipy\n",
    "\n",
    "import numpy as np\n",
    "from scipy.interpolate import lagrange\n",
    "\n",
    "# thay noi suy da thuc y(x) =  3 x^2 - 2x + 1\n",
    "\n",
    "x = np.array([0, 1, 2, -1])\n",
    "y = np.array([-0.1625, 0.5766, 1.1346, -1.1394])\n",
    "y2 = 10**y\n",
    "print('y2 = ',y2)\n",
    "\n",
    "poly = lagrange(x, y2)\n",
    "print(poly)\n",
    "\n",
    "xeval = np.array([1.2])\n",
    "y2eval = poly(xeval)\n",
    "print(y2eval)\n",
    "\n",
    "yeval = np.log10(y2eval)\n",
    "print(yeval)\n",
    "\n",
    "\n",
    "# from numpy import polyval\n",
    "# p = np.array([3, -2, 1])\n",
    "# p = polyval(p,0)\n",
    "# print(p)"
   ]
  },
  {
   "cell_type": "markdown",
   "metadata": {},
   "source": [
    "## Công thức nội suy Newton"
   ]
  },
  {
   "cell_type": "code",
   "execution_count": null,
   "metadata": {
    "scrolled": true
   },
   "outputs": [],
   "source": [
    "# Newton method to compute the value of the Newton polynomial, knowing c\n",
    "\n",
    "def Newton_poly(c,x,z):\n",
    "    from numpy import arange\n",
    "    n = len(x)\n",
    "    print(n)\n",
    "    P = c[n-1]\n",
    "    print(P)\n",
    "    for i in arange(n-2,0,-1):\n",
    "        P = P * (z - x[i]) + c[i]\n",
    "        print(P)\n",
    "    return P\n",
    "\n",
    "\"\"\"\n",
    "Test the Newton polynomial \n",
    "\"\"\"\n",
    "import numpy as np\n",
    "x = np.array([0, 1, 2])\n",
    "c = np.array([1, 8, 4])\n",
    "# P(x) = 1 + 2*(x-0)+4*(x-0)*(x-1) = 4x^2 + 4x + 1 = (2x+1)^2\n",
    "z = np.array([3, 4])\n",
    "P = Newton_poly(c,x,z)\n",
    "print(P)\n",
    "\n",
    "    \n",
    "    \n"
   ]
  },
  {
   "cell_type": "code",
   "execution_count": null,
   "metadata": {},
   "outputs": [],
   "source": []
  },
  {
   "cell_type": "markdown",
   "metadata": {},
   "source": [
    "## Bảng tỉ sai phân"
   ]
  },
  {
   "cell_type": "code",
   "execution_count": null,
   "metadata": {},
   "outputs": [],
   "source": [
    "import numpy as np\n",
    "import copy\n",
    "\n",
    "def div_diff(x, y):\n",
    "    \n",
    "    n = len(x)\n",
    "    coef = y.copy()\n",
    "    \n",
    "    for i in range(1, n):\n",
    "        coef[i:n] = (coef[i:n] - coef[i-1]) / (x[i:n] - x[i-1])        \n",
    "    return coef"
   ]
  },
  {
   "cell_type": "code",
   "execution_count": null,
   "metadata": {},
   "outputs": [],
   "source": [
    "#x = [0.0, 1.0, 2.0, -1.0]\n",
    "#x = np.array(x)\n",
    "\n",
    "#y2 = np.array([-0.1625, 0.5766, 1.1346, -1.1394])\n",
    "#y = 10**y2\n",
    "#y = np.array(y)\n",
    "\n",
    "#x = np.linspace(0.1,0.5,5)\n",
    "#y = np.sin(x)\n",
    "#y = np.array([0.099833, 0.198669, 0.295520, 0.389418, 0.479426])\n",
    "\n",
    "x = np.array([0,1,5])\n",
    "y = np.array([1,9,25])\n",
    "\n",
    "print('x = ',x)\n",
    "print('y = ',y)\n",
    "\n",
    "c = div_diff(x, y)\n",
    "print('c = ',c)\n",
    "       "
   ]
  },
  {
   "cell_type": "code",
   "execution_count": null,
   "metadata": {},
   "outputs": [],
   "source": []
  },
  {
   "cell_type": "markdown",
   "metadata": {},
   "source": [
    "## Hiện tượng Runge - Nội suy Tchebyshev"
   ]
  },
  {
   "cell_type": "code",
   "execution_count": null,
   "metadata": {},
   "outputs": [],
   "source": [
    "import numpy as np\n",
    "help(np.linspace)"
   ]
  },
  {
   "cell_type": "markdown",
   "metadata": {},
   "source": [
    "## Nội suy đa thức từng khúc & Nội suy Spline"
   ]
  },
  {
   "cell_type": "code",
   "execution_count": null,
   "metadata": {},
   "outputs": [],
   "source": [
    "from numpy import interp\n",
    "help(interp)"
   ]
  },
  {
   "cell_type": "code",
   "execution_count": null,
   "metadata": {},
   "outputs": [],
   "source": [
    "import numpy as np\n",
    "import scipy as sp\n",
    "\n",
    "# Test built-in function np.interp\n",
    "x = np.array([0, 1, 2, 5])\n",
    "y = np.array([2, 5, 10, 127])\n",
    "\n",
    "xeval = np.array([3])\n",
    "yeval = np.interp(xeval,x,y)\n",
    "print(yeval)\n"
   ]
  },
  {
   "cell_type": "code",
   "execution_count": null,
   "metadata": {},
   "outputs": [],
   "source": [
    "from scipy.interpolate import CubicSpline, CubicHermiteSpline\n",
    "help(CubicSpline)\n"
   ]
  },
  {
   "cell_type": "code",
   "execution_count": null,
   "metadata": {},
   "outputs": [],
   "source": [
    "from scipy.interpolate import CubicSpline, CubicHermiteSpline\n",
    "\n",
    "# The function for interpolation is y(x) = x^3 + 2\n",
    "x = np.array([0, 1, 2, 5])\n",
    "y = np.array([2, 5, 10, 127])\n",
    "\n",
    "CS = CubicSpline(x,y)\n",
    "\n",
    "xeval = np.array([3])\n",
    "yeval = CS(xeval)\n",
    "print(yeval)\n"
   ]
  },
  {
   "cell_type": "markdown",
   "metadata": {},
   "source": [
    "## Một số ứng dụng"
   ]
  },
  {
   "cell_type": "code",
   "execution_count": null,
   "metadata": {},
   "outputs": [],
   "source": []
  },
  {
   "cell_type": "markdown",
   "metadata": {},
   "source": [
    "## Nội suy Padé bằng hàm phân thức."
   ]
  },
  {
   "cell_type": "code",
   "execution_count": null,
   "metadata": {},
   "outputs": [],
   "source": [
    "from scipy.interpolate import pade\n",
    "\n",
    "help(pade)\n",
    "\n",
    "e_exp = [1.0, 1.0, 1.0/2.0, 1.0/6.0, 1.0/24.0, 1.0/120.0]\n",
    "p, q = pade(e_exp, 2)"
   ]
  },
  {
   "cell_type": "markdown",
   "metadata": {},
   "source": [
    "# Least square approximation"
   ]
  },
  {
   "cell_type": "code",
   "execution_count": null,
   "metadata": {},
   "outputs": [],
   "source": [
    "import numpy as np\n",
    "from numpy.linalg import solve, qr\n",
    "\n",
    "n = 7\n",
    "vector_one = np.ones(n)\n",
    "\n",
    "T = np.array([1,2,3,4,5,6,7])\n",
    "\n",
    "#help(np.hstack)\n",
    "A = np.vstack((vector_one,T,T**2)).T\n",
    "\n",
    "b = np.array([2.31,2.01,1.80,1.66,1.55,1.47,1.41]).T\n",
    "\n",
    "# 1st way: Using normal equation\n",
    "c = solve(A.T@A,A.T@b)\n",
    "print('c = ',c)\n",
    "\n",
    "\n",
    "# 2nd way: Using QR decomposition\n",
    "Q, R = qr(A)\n",
    "c2 = solve(R,Q.T@b)\n",
    "print('c2 = ',c2)\n",
    "\n"
   ]
  },
  {
   "cell_type": "code",
   "execution_count": null,
   "metadata": {},
   "outputs": [],
   "source": [
    "# Example 3.10 (Kiusalass)\n",
    "# We find the regression model y = c0 + c1 * x + c2 * x^2\n",
    "\n",
    "import numpy as np\n",
    "from numpy.linalg import solve, qr, norm\n",
    "\n",
    "n = 3\n",
    "\n",
    "x = np.array([0.0, 1.0, 2.0, 2.5, 3.0])\n",
    "m = np.size(x)\n",
    "\n",
    "b = np.array([2.9, 3.7, 4.1, 4.4, 5.0])\n",
    "\n",
    "vector_one = np.ones(m)\n",
    "\n",
    "A = np.vstack((vector_one,x,x**2)).T\n",
    "print('Ma tran A la \\n',A)\n",
    "\n",
    "# Phuong phap phuong trinh chinh tac\n",
    "c = solve(A.T@A,A.T@b)\n",
    "print('c = ',c)\n",
    "\n",
    "print(type(c))\n",
    "\n",
    "# Nhu vay CT nghiem la y ~ f(x) = c[0] + c[1] * x + c[2] * x**2\n",
    "\n",
    "y_approx = A@c\n",
    "print(y_approx)\n",
    "\n",
    "# Tinh toan do lech chuan\n",
    "S = norm(y_approx - b,2)**2\n",
    "print('Gia tri toi uu cua trung binh phuong la S = ',S)\n",
    "print('Do lech chuan (standard deviation) la ',np.sqrt(S/(m-n)))"
   ]
  },
  {
   "cell_type": "code",
   "execution_count": null,
   "metadata": {},
   "outputs": [],
   "source": [
    "from numpy.linalg import qr\n",
    "\n",
    "Q,R = qr(A)\n",
    "c2 = solve(R,Q.T@b)\n",
    "print('c2 = ',c2)\n"
   ]
  },
  {
   "cell_type": "code",
   "execution_count": null,
   "metadata": {
    "scrolled": true
   },
   "outputs": [],
   "source": [
    "\"\"\"\n",
    "Giải bài toán bình phương tối thiểu = 2 pp: PT chính tắc và QR\n",
    "\"\"\"\n",
    "def least_square(A,b):\n",
    "    from numpy.linalg import solve, qr, norm\n",
    "    # PT chinh tac\n",
    "    x = solve(A.T@A,A.T@b)\n",
    "    \n",
    "    # PP QR\n",
    "    Q, R = qr(A)\n",
    "    x2 = solve(R,Q.T@b)\n",
    "    \n",
    "    tol = 1e-6;\n",
    "    sai_so = norm(x2-x)\n",
    "    print(\"Sai so cua nghiem duoc tinh boi 2 phuong phap Normal equation & QR la \",sai_so)\n",
    "    \n",
    "    return x"
   ]
  },
  {
   "cell_type": "code",
   "execution_count": null,
   "metadata": {},
   "outputs": [],
   "source": [
    "import numpy as np\n",
    "from numpy.random import randn\n",
    "\n",
    "A = randn(5,3)\n",
    "b = randn(5,1)\n",
    "\n",
    "x = least_square(A,b).T\n",
    "print(\"No được tính bởi hàm ta viết là x = \",x)\n",
    "\n",
    "x2 = np.linalg.lstsq(A,b,rcond=None)\n",
    "x2 = np.array(x2)\n",
    "print(\"No được tính bởi built-in function lstsq là x = \",x2[0].T)"
   ]
  },
  {
   "cell_type": "code",
   "execution_count": 78,
   "metadata": {},
   "outputs": [
    {
     "name": "stdout",
     "output_type": "stream",
     "text": [
      "Sai so cua nghiem duoc tinh boi 2 phuong phap Normal equation & QR la  5.027921473222667e-13\n",
      "Vector hệ số của đa thức hồi quy là \n",
      " p =  [  7.85714286 -11.64571429   5.17      ]\n",
      "Vector hệ số của đa thức hồi quy sử dung built-in function polyfit là \n",
      " p =  [  7.85714286 -11.64571429   5.17      ]\n"
     ]
    }
   ],
   "source": [
    "\"\"\"\n",
    "Viết hàm curve fitting tìm đường cong bậc n để fit vào tập dữ liệu x/y cho trước \n",
    "\"\"\"\n",
    "\n",
    "def curve_fitting(x,y,n):\n",
    "    import numpy as np\n",
    "    m = np.size(x)\n",
    "    A = np.ones(m)\n",
    "    \n",
    "    for i in np.arange(1,n):\n",
    "        A = np.vstack((A,x**i))\n",
    "    \n",
    "    A = A.T\n",
    "    \n",
    "    p = least_square(A,y)    \n",
    "    return p\n",
    "\n",
    "# Test function curve_fitting\n",
    "import numpy as np\n",
    "\n",
    "x = np.array([0.2,0.3,0.4,0.5,0.6])\n",
    "y = np.array([3.16,2.38,1.75,1.34,1.00])\n",
    "#y = np.log(y)\n",
    "n = 3\n",
    "\n",
    "p = curve_fitting(x,y,n)\n",
    "p = np.flip(p)\n",
    "print(\"Vector hệ số của đa thức hồi quy là \\n p = \",p)\n",
    "\n",
    "p2 = np.polyfit(x,y,n-1)\n",
    "print(\"Vector hệ số của đa thức hồi quy sử dung built-in function polyfit là \\n p = \",p2)\n"
   ]
  },
  {
   "cell_type": "code",
   "execution_count": 84,
   "metadata": {},
   "outputs": [
    {
     "data": {
      "image/png": "[encoded data removed]",
      "text/plain": [
       "<Figure size 432x288 with 1 Axes>"
      ]
     },
     "metadata": {
      "needs_background": "light"
     },
     "output_type": "display_data"
    }
   ],
   "source": [
    "from numpy import polyval\n",
    "\n",
    "import matplotlib.pyplot as plt\n",
    "xp = np.linspace(0.2, 0.6, 100)\n",
    "plt.plot(x, y, 'rs', xp, polyval(p,xp), '-')\n",
    "#plt.plot(x, y, 'rs', xp, polyval(p,xp), '-', xp, polyval(p2,xp), '--')\n",
    "plt.grid(1)\n",
    "plt.show()"
   ]
  },
  {
   "cell_type": "code",
   "execution_count": null,
   "metadata": {},
   "outputs": [],
   "source": [
    "#import numpy as np\n",
    "#help(np.polyfit)\n",
    "#help(np.polyval)"
   ]
  },
  {
   "cell_type": "code",
   "execution_count": null,
   "metadata": {},
   "outputs": [],
   "source": []
  }
 ],
 "metadata": {
  "kernelspec": {
   "display_name": "Python 3",
   "language": "python",
   "name": "python3"
  },
  "language_info": {
   "codemirror_mode": {
    "name": "ipython",
    "version": 3
   },
   "file_extension": ".py",
   "mimetype": "text/x-python",
   "name": "python",
   "nbconvert_exporter": "python",
   "pygments_lexer": "ipython3",
   "version": "3.8.5"
  }
 },
 "nbformat": 4,
 "nbformat_minor": 2
}
