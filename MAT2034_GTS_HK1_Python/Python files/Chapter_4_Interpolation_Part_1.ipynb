{
 "cells": [
  {
   "cell_type": "markdown",
   "metadata": {
    "scrolled": true
   },
   "source": [
    "# POLYNOMIAL & PIECEWISE POLYNOMIAL INTERPOLATION\n",
    "# Nội suy đa thức và nội suy đa thức từng khúc"
   ]
  },
  {
   "cell_type": "markdown",
   "metadata": {},
   "source": [
    "## Nguồn gốc của nội suy đa thức"
   ]
  },
  {
   "cell_type": "raw",
   "metadata": {},
   "source": [
    "Bài toán: Tìm vị trí của 1 vật thể tại 1 thời điểm trong quá trình chuyển động trong quá khứ (nội suy/interpolation) hay trong tương lai (ngoại suy/extrapolation)\n",
    "\n",
    "1a) Tìm tọa độ của 1 chiếc tên lửa bay theo đường thẳng\n",
    "1b) Tìm tọa độ của 1 vật ném lên trời và rơi xuống tự do dưới tác dụng của trọng lực"
   ]
  },
  {
   "cell_type": "code",
   "execution_count": null,
   "metadata": {
    "scrolled": true
   },
   "outputs": [],
   "source": [
    "import numpy as np\n",
    "from scipy import interpolate\n",
    "import matplotlib.pyplot as plt"
   ]
  },
  {
   "cell_type": "code",
   "execution_count": null,
   "metadata": {},
   "outputs": [],
   "source": [
    "# Linear interpolation \n",
    "x1 = np.array([[1, 10]]); y1 = np.array([[3, 21]])\n",
    "x2 = np.linspace(1,10,100); y2 = 2 * x2 + 1\n",
    "plt.subplot(2,1,1)\n",
    "plt.plot(x1,y1, 'ok', label='Known points')\n",
    "plt.plot(x2, y2, '--b', label='Linear interpolation')\n",
    "\n",
    "\n",
    "# Quadratic and Cubic Interpolations\n",
    "x = np.linspace(0, 2, 8)\n",
    "y = 10*np.sinc(x*2+4)\n",
    "\n",
    "xn = np.linspace(0, 2, 100)\n",
    "y0 = 10*np.sinc(xn*2+4)\n",
    "\n",
    "fq = interpolate.interp1d(x, y, kind='quadratic')\n",
    "ynq = fq(xn)\n",
    "fc = interpolate.interp1d(x, y, kind='cubic')\n",
    "ync = fc(xn)\n",
    "\n",
    "plt.subplot(2,1,2)\n",
    "plt.plot(xn, y0, '--k', label='True values')\n",
    "plt.plot(x, y, 'ok', label='Known points')\n",
    "plt.plot(xn, ynq, label='Quadratic spline')\n",
    "plt.plot(xn, ync, label='Cubic spline')\n",
    "plt.legend()\n",
    "plt.show()"
   ]
  },
  {
   "cell_type": "markdown",
   "metadata": {},
   "source": [
    "## Công thức nội suy Lagrange"
   ]
  },
  {
   "cell_type": "code",
   "execution_count": null,
   "metadata": {},
   "outputs": [],
   "source": [
    "# Built-in function in Scipy\n",
    "\n",
    "import numpy as np\n",
    "from scipy.interpolate import lagrange\n",
    "\n",
    "# thay noi suy da thuc y(x) =  3 x^2 - 2x + 1\n",
    "\n",
    "x = np.array([0, 1, 2, -1])\n",
    "y = np.array([-0.1625, 0.5766, 1.1346, -1.1394])\n",
    "y2 = 10**y\n",
    "print('y2 = ',y2)\n",
    "\n",
    "poly = lagrange(x, y2)\n",
    "print(poly)\n",
    "\n",
    "xeval = np.array([1.2])\n",
    "y2eval = poly(xeval)\n",
    "print(y2eval)\n",
    "\n",
    "yeval = np.log10(y2eval)\n",
    "print(yeval)\n",
    "\n",
    "\n",
    "# from numpy import polyval\n",
    "# p = np.array([3, -2, 1])\n",
    "# p = polyval(p,0)\n",
    "# print(p)"
   ]
  },
  {
   "cell_type": "markdown",
   "metadata": {},
   "source": [
    "## Công thức nội suy Newton"
   ]
  },
  {
   "cell_type": "code",
   "execution_count": null,
   "metadata": {
    "scrolled": true
   },
   "outputs": [],
   "source": [
    "# Newton method to compute the value of the Newton polynomial, knowing c\n",
    "\n",
    "def Newton_poly(c,x,z):\n",
    "    from numpy import arange\n",
    "    n = len(x)\n",
    "    print(n)\n",
    "    P = c[n-1]\n",
    "    print(P)\n",
    "    for i in arange(n-2,0,-1):\n",
    "        P = P * (z - x[i]) + c[i]\n",
    "        print(P)\n",
    "    return P\n",
    "\n",
    "\"\"\"\n",
    "Test the Newton polynomial \n",
    "\"\"\"\n",
    "import numpy as np\n",
    "x = np.array([0, 1, 2])\n",
    "c = np.array([1, 8, 4])\n",
    "# P(x) = 1 + 2*(x-0)+4*(x-0)*(x-1) = 4x^2 + 4x + 1 = (2x+1)^2\n",
    "z = np.array([3, 4])\n",
    "P = Newton_poly(c,x,z)\n",
    "print(P)\n",
    "\n",
    "    \n",
    "    \n"
   ]
  },
  {
   "cell_type": "code",
   "execution_count": null,
   "metadata": {},
   "outputs": [],
   "source": []
  },
  {
   "cell_type": "markdown",
   "metadata": {},
   "source": [
    "## Bảng tỉ sai phân"
   ]
  },
  {
   "cell_type": "code",
   "execution_count": null,
   "metadata": {},
   "outputs": [],
   "source": [
    "import numpy as np\n",
    "import copy\n",
    "\n",
    "def div_diff(x, y):\n",
    "    \n",
    "    n = len(x)\n",
    "    coef = y.copy()\n",
    "    \n",
    "    for i in range(1, n):\n",
    "        coef[i:n] = (coef[i:n] - coef[i-1]) / (x[i:n] - x[i-1])        \n",
    "    return coef"
   ]
  },
  {
   "cell_type": "code",
   "execution_count": null,
   "metadata": {},
   "outputs": [],
   "source": [
    "#x = [0.0, 1.0, 2.0, -1.0]\n",
    "#x = np.array(x)\n",
    "\n",
    "#y2 = np.array([-0.1625, 0.5766, 1.1346, -1.1394])\n",
    "#y = 10**y2\n",
    "#y = np.array(y)\n",
    "\n",
    "#x = np.linspace(0.1,0.5,5)\n",
    "#y = np.sin(x)\n",
    "#y = np.array([0.099833, 0.198669, 0.295520, 0.389418, 0.479426])\n",
    "\n",
    "x = np.array([0,1,5])\n",
    "y = np.array([1,9,25])\n",
    "\n",
    "print('x = ',x)\n",
    "print('y = ',y)\n",
    "\n",
    "c = div_diff(x, y)\n",
    "print('c = ',c)\n",
    "       "
   ]
  },
  {
   "cell_type": "code",
   "execution_count": null,
   "metadata": {},
   "outputs": [],
   "source": []
  },
  {
   "cell_type": "markdown",
   "metadata": {},
   "source": [
    "## Hiện tượng Runge - Nội suy Tchebyshev"
   ]
  },
  {
   "cell_type": "code",
   "execution_count": null,
   "metadata": {},
   "outputs": [],
   "source": [
    "import numpy as np\n",
    "help(np.linspace)"
   ]
  },
  {
   "cell_type": "markdown",
   "metadata": {},
   "source": [
    "## Nội suy đa thức từng khúc & Nội suy Spline"
   ]
  },
  {
   "cell_type": "code",
   "execution_count": null,
   "metadata": {},
   "outputs": [],
   "source": [
    "from numpy import interp\n",
    "help(interp)"
   ]
  },
  {
   "cell_type": "code",
   "execution_count": null,
   "metadata": {},
   "outputs": [],
   "source": [
    "import numpy as np\n",
    "import scipy as sp\n",
    "\n",
    "# Test built-in function np.interp\n",
    "x = np.array([0, 1, 2, 5])\n",
    "y = np.array([2, 5, 10, 127])\n",
    "\n",
    "xeval = np.array([3])\n",
    "yeval = np.interp(xeval,x,y)\n",
    "print(yeval)\n"
   ]
  },
  {
   "cell_type": "code",
   "execution_count": null,
   "metadata": {},
   "outputs": [],
   "source": [
    "from scipy.interpolate import CubicSpline, CubicHermiteSpline\n",
    "help(CubicSpline)\n"
   ]
  },
  {
   "cell_type": "code",
   "execution_count": null,
   "metadata": {},
   "outputs": [],
   "source": [
    "from scipy.interpolate import CubicSpline, CubicHermiteSpline\n",
    "\n",
    "# The function for interpolation is y(x) = x^3 + 2\n",
    "x = np.array([0, 1, 2, 5])\n",
    "y = np.array([2, 5, 10, 127])\n",
    "\n",
    "CS = CubicSpline(x,y)\n",
    "\n",
    "xeval = np.array([3])\n",
    "yeval = CS(xeval)\n",
    "print(yeval)\n"
   ]
  },
  {
   "cell_type": "markdown",
   "metadata": {},
   "source": [
    "## Một số ứng dụng"
   ]
  },
  {
   "cell_type": "code",
   "execution_count": null,
   "metadata": {},
   "outputs": [],
   "source": []
  },
  {
   "cell_type": "markdown",
   "metadata": {},
   "source": [
    "## Nội suy Padé bằng hàm phân thức."
   ]
  },
  {
   "cell_type": "code",
   "execution_count": null,
   "metadata": {},
   "outputs": [],
   "source": [
    "from scipy.interpolate import pade\n",
    "\n",
    "help(pade)\n",
    "\n",
    "e_exp = [1.0, 1.0, 1.0/2.0, 1.0/6.0, 1.0/24.0, 1.0/120.0]\n",
    "p, q = pade(e_exp, 2)"
   ]
  },
  {
   "cell_type": "markdown",
   "metadata": {},
   "source": [
    "# Least square approximation"
   ]
  },
  {
   "cell_type": "code",
   "execution_count": null,
   "metadata": {},
   "outputs": [],
   "source": [
    "import numpy as np\n",
    "from numpy.linalg import solve, qr\n",
    "\n",
    "n = 7\n",
    "vector_one = np.ones(n)\n",
    "\n",
    "T = np.array([1,2,3,4,5,6,7])\n",
    "\n",
    "#help(np.hstack)\n",
    "A = np.vstack((vector_one,T,T**2)).T\n",
    "\n",
    "b = np.array([2.31,2.01,1.80,1.66,1.55,1.47,1.41]).T\n",
    "\n",
    "# 1st way: Using normal equation\n",
    "c = solve(A.T@A,A.T@b)\n",
    "print('c = ',c)\n",
    "\n",
    "\n",
    "# 2nd way: Using QR decomposition\n",
    "Q, R = qr(A)\n",
    "c2 = solve(R,Q.T@b)\n",
    "print('c2 = ',c2)\n",
    "\n"
   ]
  },
  {
   "cell_type": "code",
   "execution_count": null,
   "metadata": {},
   "outputs": [],
   "source": [
    "# Example 3.10 (Kiusalass)\n",
    "# We find the regression model y = c0 + c1 * x + c2 * x^2\n",
    "\n",
    "import numpy as np\n",
    "from numpy.linalg import solve, qr, norm\n",
    "\n",
    "n = 3\n",
    "\n",
    "x = np.array([0.0, 1.0, 2.0, 2.5, 3.0])\n",
    "m = np.size(x)\n",
    "\n",
    "b = np.array([2.9, 3.7, 4.1, 4.4, 5.0])\n",
    "\n",
    "vector_one = np.ones(m)\n",
    "\n",
    "A = np.vstack((vector_one,x,x**2)).T\n",
    "print('Ma tran A la \\n',A)\n",
    "\n",
    "# Phuong phap phuong trinh chinh tac\n",
    "c = solve(A.T@A,A.T@b)\n",
    "print('c = ',c)\n",
    "\n",
    "print(type(c))\n",
    "\n",
    "# Nhu vay CT nghiem la y ~ f(x) = c[0] + c[1] * x + c[2] * x**2\n",
    "\n",
    "y_approx = A@c\n",
    "print(y_approx)\n",
    "\n",
    "# Tinh toan do lech chuan\n",
    "S = norm(y_approx - b,2)**2\n",
    "print('Gia tri toi uu cua trung binh phuong la S = ',S)\n",
    "print('Do lech chuan (standard deviation) la ',np.sqrt(S/(m-n)))"
   ]
  },
  {
   "cell_type": "code",
   "execution_count": null,
   "metadata": {},
   "outputs": [],
   "source": [
    "from numpy.linalg import qr\n",
    "\n",
    "Q,R = qr(A)\n",
    "c2 = solve(R,Q.T@b)\n",
    "print('c2 = ',c2)\n"
   ]
  },
  {
   "cell_type": "code",
   "execution_count": null,
   "metadata": {
    "scrolled": true
   },
   "outputs": [],
   "source": [
    "\"\"\"\n",
    "Giải bài toán bình phương tối thiểu = 2 pp: PT chính tắc và QR\n",
    "\"\"\"\n",
    "def least_square(A,b):\n",
    "    from numpy.linalg import solve, qr, norm\n",
    "    # PT chinh tac\n",
    "    x = solve(A.T@A,A.T@b)\n",
    "    \n",
    "    # PP QR\n",
    "    Q, R = qr(A)\n",
    "    x2 = solve(R,Q.T@b)\n",
    "    \n",
    "    tol = 1e-6;\n",
    "    sai_so = norm(x2-x)\n",
    "    print(\"Sai so cua nghiem duoc tinh boi 2 phuong phap Normal equation & QR la \",sai_so)\n",
    "    \n",
    "    return x"
   ]
  },
  {
   "cell_type": "code",
   "execution_count": null,
   "metadata": {},
   "outputs": [],
   "source": [
    "import numpy as np\n",
    "from numpy.random import randn\n",
    "\n",
    "A = randn(5,3)\n",
    "b = randn(5,1)\n",
    "\n",
    "x = least_square(A,b).T\n",
    "print(\"No được tính bởi hàm ta viết là x = \",x)\n",
    "\n",
    "x2 = np.linalg.lstsq(A,b,rcond=None)\n",
    "x2 = np.array(x2)\n",
    "print(\"No được tính bởi built-in function lstsq là x = \",x2[0].T)"
   ]
  },
  {
   "cell_type": "code",
   "execution_count": 78,
   "metadata": {},
   "outputs": [
    {
     "name": "stdout",
     "output_type": "stream",
     "text": [
      "Sai so cua nghiem duoc tinh boi 2 phuong phap Normal equation & QR la  5.027921473222667e-13\n",
      "Vector hệ số của đa thức hồi quy là \n",
      " p =  [  7.85714286 -11.64571429   5.17      ]\n",
      "Vector hệ số của đa thức hồi quy sử dung built-in function polyfit là \n",
      " p =  [  7.85714286 -11.64571429   5.17      ]\n"
     ]
    }
   ],
   "source": [
    "\"\"\"\n",
    "Viết hàm curve fitting tìm đường cong bậc n để fit vào tập dữ liệu x/y cho trước \n",
    "\"\"\"\n",
    "\n",
    "def curve_fitting(x,y,n):\n",
    "    import numpy as np\n",
    "    m = np.size(x)\n",
    "    A = np.ones(m)\n",
    "    \n",
    "    for i in np.arange(1,n):\n",
    "        A = np.vstack((A,x**i))\n",
    "    \n",
    "    A = A.T\n",
    "    \n",
    "    p = least_square(A,y)    \n",
    "    return p\n",
    "\n",
    "# Test function curve_fitting\n",
    "import numpy as np\n",
    "\n",
    "x = np.array([0.2,0.3,0.4,0.5,0.6])\n",
    "y = np.array([3.16,2.38,1.75,1.34,1.00])\n",
    "#y = np.log(y)\n",
    "n = 3\n",
    "\n",
    "p = curve_fitting(x,y,n)\n",
    "p = np.flip(p)\n",
    "print(\"Vector hệ số của đa thức hồi quy là \\n p = \",p)\n",
    "\n",
    "p2 = np.polyfit(x,y,n-1)\n",
    "print(\"Vector hệ số của đa thức hồi quy sử dung built-in function polyfit là \\n p = \",p2)\n"
   ]
  },
  {
   "cell_type": "code",
   "execution_count": 84,
   "metadata": {},
   "outputs": [
    {
     "data": {
      "image/png": "[encoded data removed]",
      "text/plain": [
       "<Figure size 432x288 with 1 Axes>"
      ]
     },
     "metadata": {
      "needs_background": "light"
     },
     "output_type": "display_data"
    }
   ],
   "source": [
    "from numpy import polyval\n",
    "\n",
    "import matplotlib.pyplot as plt\n",
    "xp = np.linspace(0.2, 0.6, 100)\n",
    "plt.plot(x, y, 'rs', xp, polyval(p,xp), '-')\n",
    "#plt.plot(x, y, 'rs', xp, polyval(p,xp), '-', xp, polyval(p2,xp), '--')\n",
    "plt.grid(1)\n",
    "plt.show()"
   ]
  },
  {
   "cell_type": "code",
   "execution_count": 1,
   "metadata": {},
   "outputs": [
    {
     "name": "stdout",
     "output_type": "stream",
     "text": [
      "Help on function polyfit in module numpy:\n",
      "\n",
      "polyfit(x, y, deg, rcond=None, full=False, w=None, cov=False)\n",
      "    Least squares polynomial fit.\n",
      "    \n",
      "    .. note::\n",
      "       This forms part of the old polynomial API. Since version 1.4, the\n",
      "       new polynomial API defined in `numpy.polynomial` is preferred.\n",
      "       A summary of the differences can be found in the\n",
      "       :doc:`transition guide </reference/routines.polynomials>`.\n",
      "    \n",
      "    Fit a polynomial ``p(x) = p[0] * x**deg + ... + p[deg]`` of degree `deg`\n",
      "    to points `(x, y)`. Returns a vector of coefficients `p` that minimises\n",
      "    the squared error in the order `deg`, `deg-1`, ... `0`.\n",
      "    \n",
      "    The `Polynomial.fit <numpy.polynomial.polynomial.Polynomial.fit>` class\n",
      "    method is recommended for new code as it is more stable numerically. See\n",
      "    the documentation of the method for more information.\n",
      "    \n",
      "    Parameters\n",
      "    ----------\n",
      "    x : array_like, shape (M,)\n",
      "        x-coordinates of the M sample points ``(x[i], y[i])``.\n",
      "    y : array_like, shape (M,) or (M, K)\n",
      "        y-coordinates of the sample points. Several data sets of sample\n",
      "        points sharing the same x-coordinates can be fitted at once by\n",
      "        passing in a 2D-array that contains one dataset per column.\n",
      "    deg : int\n",
      "        Degree of the fitting polynomial\n",
      "    rcond : float, optional\n",
      "        Relative condition number of the fit. Singular values smaller than\n",
      "        this relative to the largest singular value will be ignored. The\n",
      "        default value is len(x)*eps, where eps is the relative precision of\n",
      "        the float type, about 2e-16 in most cases.\n",
      "    full : bool, optional\n",
      "        Switch determining nature of return value. When it is False (the\n",
      "        default) just the coefficients are returned, when True diagnostic\n",
      "        information from the singular value decomposition is also returned.\n",
      "    w : array_like, shape (M,), optional\n",
      "        Weights to apply to the y-coordinates of the sample points. For\n",
      "        gaussian uncertainties, use 1/sigma (not 1/sigma**2).\n",
      "    cov : bool or str, optional\n",
      "        If given and not `False`, return not just the estimate but also its\n",
      "        covariance matrix. By default, the covariance are scaled by\n",
      "        chi2/dof, where dof = M - (deg + 1), i.e., the weights are presumed \n",
      "        to be unreliable except in a relative sense and everything is scaled \n",
      "        such that the reduced chi2 is unity. This scaling is omitted if \n",
      "        ``cov='unscaled'``, as is relevant for the case that the weights are \n",
      "        1/sigma**2, with sigma known to be a reliable estimate of the \n",
      "        uncertainty.\n",
      "    \n",
      "    Returns\n",
      "    -------\n",
      "    p : ndarray, shape (deg + 1,) or (deg + 1, K)\n",
      "        Polynomial coefficients, highest power first.  If `y` was 2-D, the\n",
      "        coefficients for `k`-th data set are in ``p[:,k]``.\n",
      "    \n",
      "    residuals, rank, singular_values, rcond\n",
      "        Present only if `full` = True.  Residuals is sum of squared residuals\n",
      "        of the least-squares fit, the effective rank of the scaled Vandermonde\n",
      "        coefficient matrix, its singular values, and the specified value of\n",
      "        `rcond`. For more details, see `linalg.lstsq`.\n",
      "    \n",
      "    V : ndarray, shape (M,M) or (M,M,K)\n",
      "        Present only if `full` = False and `cov`=True.  The covariance\n",
      "        matrix of the polynomial coefficient estimates.  The diagonal of\n",
      "        this matrix are the variance estimates for each coefficient.  If y\n",
      "        is a 2-D array, then the covariance matrix for the `k`-th data set\n",
      "        are in ``V[:,:,k]``\n",
      "    \n",
      "    \n",
      "    Warns\n",
      "    -----\n",
      "    RankWarning\n",
      "        The rank of the coefficient matrix in the least-squares fit is\n",
      "        deficient. The warning is only raised if `full` = False.\n",
      "    \n",
      "        The warnings can be turned off by\n",
      "    \n",
      "        >>> import warnings\n",
      "        >>> warnings.simplefilter('ignore', np.RankWarning)\n",
      "    \n",
      "    See Also\n",
      "    --------\n",
      "    polyval : Compute polynomial values.\n",
      "    linalg.lstsq : Computes a least-squares fit.\n",
      "    scipy.interpolate.UnivariateSpline : Computes spline fits.\n",
      "    \n",
      "    Notes\n",
      "    -----\n",
      "    The solution minimizes the squared error\n",
      "    \n",
      "    .. math ::\n",
      "        E = \\sum_{j=0}^k |p(x_j) - y_j|^2\n",
      "    \n",
      "    in the equations::\n",
      "    \n",
      "        x[0]**n * p[0] + ... + x[0] * p[n-1] + p[n] = y[0]\n",
      "        x[1]**n * p[0] + ... + x[1] * p[n-1] + p[n] = y[1]\n",
      "        ...\n",
      "        x[k]**n * p[0] + ... + x[k] * p[n-1] + p[n] = y[k]\n",
      "    \n",
      "    The coefficient matrix of the coefficients `p` is a Vandermonde matrix.\n",
      "    \n",
      "    `polyfit` issues a `RankWarning` when the least-squares fit is badly\n",
      "    conditioned. This implies that the best fit is not well-defined due\n",
      "    to numerical error. The results may be improved by lowering the polynomial\n",
      "    degree or by replacing `x` by `x` - `x`.mean(). The `rcond` parameter\n",
      "    can also be set to a value smaller than its default, but the resulting\n",
      "    fit may be spurious: including contributions from the small singular\n",
      "    values can add numerical noise to the result.\n",
      "    \n",
      "    Note that fitting polynomial coefficients is inherently badly conditioned\n",
      "    when the degree of the polynomial is large or the interval of sample points\n",
      "    is badly centered. The quality of the fit should always be checked in these\n",
      "    cases. When polynomial fits are not satisfactory, splines may be a good\n",
      "    alternative.\n",
      "    \n",
      "    References\n",
      "    ----------\n",
      "    .. [1] Wikipedia, \"Curve fitting\",\n",
      "           https://en.wikipedia.org/wiki/Curve_fitting\n",
      "    .. [2] Wikipedia, \"Polynomial interpolation\",\n",
      "           https://en.wikipedia.org/wiki/Polynomial_interpolation\n",
      "    \n",
      "    Examples\n",
      "    --------\n",
      "    >>> import warnings\n",
      "    >>> x = np.array([0.0, 1.0, 2.0, 3.0,  4.0,  5.0])\n",
      "    >>> y = np.array([0.0, 0.8, 0.9, 0.1, -0.8, -1.0])\n",
      "    >>> z = np.polyfit(x, y, 3)\n",
      "    >>> z\n",
      "    array([ 0.08703704, -0.81349206,  1.69312169, -0.03968254]) # may vary\n",
      "    \n",
      "    It is convenient to use `poly1d` objects for dealing with polynomials:\n",
      "    \n",
      "    >>> p = np.poly1d(z)\n",
      "    >>> p(0.5)\n",
      "    0.6143849206349179 # may vary\n",
      "    >>> p(3.5)\n",
      "    -0.34732142857143039 # may vary\n",
      "    >>> p(10)\n",
      "    22.579365079365115 # may vary\n",
      "    \n",
      "    High-order polynomials may oscillate wildly:\n",
      "    \n",
      "    >>> with warnings.catch_warnings():\n",
      "    ...     warnings.simplefilter('ignore', np.RankWarning)\n",
      "    ...     p30 = np.poly1d(np.polyfit(x, y, 30))\n",
      "    ...\n",
      "    >>> p30(4)\n",
      "    -0.80000000000000204 # may vary\n",
      "    >>> p30(5)\n",
      "    -0.99999999999999445 # may vary\n",
      "    >>> p30(4.5)\n",
      "    -0.10547061179440398 # may vary\n",
      "    \n",
      "    Illustration:\n",
      "    \n",
      "    >>> import matplotlib.pyplot as plt\n",
      "    >>> xp = np.linspace(-2, 6, 100)\n",
      "    >>> _ = plt.plot(x, y, '.', xp, p(xp), '-', xp, p30(xp), '--')\n",
      "    >>> plt.ylim(-2,2)\n",
      "    (-2, 2)\n",
      "    >>> plt.show()\n",
      "\n"
     ]
    }
   ],
   "source": [
    "import numpy as np\n",
    "help(np.polyfit)\n",
    "#help(np.polyval)\n"
   ]
  },
  {
   "cell_type": "code",
   "execution_count": null,
   "metadata": {},
   "outputs": [],
   "source": []
  }
 ],
 "metadata": {
  "kernelspec": {
   "display_name": "Python 3 (ipykernel)",
   "language": "python",
   "name": "python3"
  },
  "language_info": {
   "codemirror_mode": {
    "name": "ipython",
    "version": 3
   },
   "file_extension": ".py",
   "mimetype": "text/x-python",
   "name": "python",
   "nbconvert_exporter": "python",
   "pygments_lexer": "ipython3",
   "version": "3.9.13"
  }
 },
 "nbformat": 4,
 "nbformat_minor": 2
}
