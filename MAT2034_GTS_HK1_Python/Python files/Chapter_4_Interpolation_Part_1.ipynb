{
 "cells": [
  {
   "cell_type": "markdown",
   "metadata": {
    "scrolled": true
   },
   "source": [
    "# POLYNOMIAL & PIECEWISE POLYNOMIAL INTERPOLATION\n",
    "# Nội suy đa thức và nội suy đa thức từng khúc"
   ]
  },
  {
   "cell_type": "markdown",
   "metadata": {},
   "source": [
    "## Nguồn gốc của nội suy đa thức"
   ]
  },
  {
   "cell_type": "raw",
   "metadata": {},
   "source": [
    "Bài toán: Tìm vị trí của 1 vật thể tại 1 thời điểm trong quá trình chuyển động trong quá khứ (nội suy/interpolation) hay trong tương lai (ngoại suy/extrapolation)\n",
    "\n",
    "1a) Tìm tọa độ của 1 chiếc tên lửa bay theo đường thẳng\n",
    "1b) Tìm tọa độ của 1 vật ném lên trời và rơi xuống tự do dưới tác dụng của trọng lực"
   ]
  },
  {
   "cell_type": "code",
   "execution_count": 48,
   "metadata": {
    "scrolled": true
   },
   "outputs": [],
   "source": [
    "import numpy as np\n",
    "from scipy import interpolate\n",
    "import matplotlib.pyplot as plt"
   ]
  },
  {
   "cell_type": "code",
   "execution_count": 55,
   "metadata": {},
   "outputs": [
    {
     "data": {
      "image/png": "[encoded data removed]",
      "text/plain": [
       "<Figure size 432x288 with 2 Axes>"
      ]
     },
     "metadata": {
      "needs_background": "light"
     },
     "output_type": "display_data"
    }
   ],
   "source": [
    "# Linear interpolation \n",
    "x1 = np.array([[1, 10]]); y1 = np.array([[3, 21]])\n",
    "x2 = np.linspace(1,10,100); y2 = 2 * x2 + 1\n",
    "plt.subplot(2,1,1)\n",
    "plt.plot(x1,y1, 'ok', label='Known points')\n",
    "plt.plot(x2, y2, '--b', label='Linear interpolation')\n",
    "\n",
    "\n",
    "# Quadratic and Cubic Interpolations\n",
    "x = np.linspace(0, 2, 8)\n",
    "y = 10*np.sinc(x*2+4)\n",
    "\n",
    "xn = np.linspace(0, 2, 100)\n",
    "y0 = 10*np.sinc(xn*2+4)\n",
    "\n",
    "fq = interpolate.interp1d(x, y, kind='quadratic')\n",
    "ynq = fq(xn)\n",
    "fc = interpolate.interp1d(x, y, kind='cubic')\n",
    "ync = fc(xn)\n",
    "\n",
    "plt.subplot(2,1,2)\n",
    "plt.plot(xn, y0, '--k', label='True values')\n",
    "plt.plot(x, y, 'ok', label='Known points')\n",
    "plt.plot(xn, ynq, label='Quadratic spline')\n",
    "plt.plot(xn, ync, label='Cubic spline')\n",
    "plt.legend()\n",
    "plt.show()"
   ]
  },
  {
   "cell_type": "markdown",
   "metadata": {},
   "source": [
    "## Công thức nội suy Lagrange"
   ]
  },
  {
   "cell_type": "code",
   "execution_count": 2,
   "metadata": {},
   "outputs": [
    {
     "name": "stdout",
     "output_type": "stream",
     "text": [
      "   2\n",
      "3 x - 2 x + 1\n",
      "[22. 41.]\n",
      "1\n"
     ]
    }
   ],
   "source": [
    "# Built-in function in Scipy\n",
    "\n",
    "import numpy as np\n",
    "from scipy.interpolate import lagrange\n",
    "\n",
    "# thay noi suy da thuc y(x) =  3 x^2 - 2x + 1\n",
    "\n",
    "x = np.array([0, 1, 2])\n",
    "y = np.array([1, 2, 9])\n",
    "\n",
    "poly = lagrange(x, y)\n",
    "print(poly)\n",
    "\n",
    "xeval = np.array([3, 4])\n",
    "yeval = poly(xeval)\n",
    "print(yeval)\n",
    "\n",
    "\n",
    "# from numpy import polyval\n",
    "# p = np.array([3, -2, 1])\n",
    "# p = polyval(p,0)\n",
    "# print(p)"
   ]
  },
  {
   "cell_type": "markdown",
   "metadata": {},
   "source": [
    "## Công thức nội suy Newton"
   ]
  },
  {
   "cell_type": "code",
   "execution_count": null,
   "metadata": {},
   "outputs": [],
   "source": []
  },
  {
   "cell_type": "code",
   "execution_count": null,
   "metadata": {},
   "outputs": [],
   "source": []
  },
  {
   "cell_type": "markdown",
   "metadata": {},
   "source": [
    "## Bảng tỉ sai phân"
   ]
  },
  {
   "cell_type": "code",
   "execution_count": null,
   "metadata": {},
   "outputs": [],
   "source": []
  },
  {
   "cell_type": "markdown",
   "metadata": {},
   "source": [
    "## Hiện tượng Runge - Nội suy Tchebyshev"
   ]
  },
  {
   "cell_type": "code",
   "execution_count": null,
   "metadata": {},
   "outputs": [],
   "source": []
  },
  {
   "cell_type": "markdown",
   "metadata": {},
   "source": [
    "## Nội suy đa thức từng khúc & Nội suy Spline"
   ]
  },
  {
   "cell_type": "code",
   "execution_count": null,
   "metadata": {},
   "outputs": [],
   "source": [
    "from numpy import interp\n",
    "help(interp)"
   ]
  },
  {
   "cell_type": "code",
   "execution_count": null,
   "metadata": {},
   "outputs": [],
   "source": [
    "import numpy as np\n",
    "import scipy as sp\n",
    "\n",
    "# Test built-in function np.interp\n",
    "x = np.array([0, 1, 2, 5])\n",
    "y = np.array([2, 5, 10, 127])\n",
    "\n",
    "xeval = np.array([3])\n",
    "yeval = np.interp(xeval,x,y)\n",
    "print(yeval)\n"
   ]
  },
  {
   "cell_type": "code",
   "execution_count": null,
   "metadata": {},
   "outputs": [],
   "source": [
    "from scipy.interpolate import CubicSpline, CubicHermiteSpline\n",
    "help(CubicSpline)\n"
   ]
  },
  {
   "cell_type": "code",
   "execution_count": null,
   "metadata": {},
   "outputs": [],
   "source": [
    "from scipy.interpolate import CubicSpline, CubicHermiteSpline\n",
    "\n",
    "# The function for interpolation is y(x) = x^3 + 2\n",
    "x = np.array([0, 1, 2, 5])\n",
    "y = np.array([2, 5, 10, 127])\n",
    "\n",
    "CS = CubicSpline(x,y)\n",
    "\n",
    "xeval = np.array([3])\n",
    "yeval = CS(xeval)\n",
    "print(yeval)\n"
   ]
  },
  {
   "cell_type": "markdown",
   "metadata": {},
   "source": [
    "## Một số ứng dụng"
   ]
  },
  {
   "cell_type": "code",
   "execution_count": null,
   "metadata": {},
   "outputs": [],
   "source": []
  },
  {
   "cell_type": "markdown",
   "metadata": {},
   "source": [
    "## Nội suy Padé bằng hàm phân thức."
   ]
  },
  {
   "cell_type": "code",
   "execution_count": null,
   "metadata": {},
   "outputs": [],
   "source": []
  },
  {
   "cell_type": "code",
   "execution_count": 13,
   "metadata": {},
   "outputs": [
    {
     "name": "stdout",
     "output_type": "stream",
     "text": [
      "Help on function pade in module scipy.interpolate._pade:\n",
      "\n",
      "pade(an, m, n=None)\n",
      "    Return Pade approximation to a polynomial as the ratio of two polynomials.\n",
      "    \n",
      "    Parameters\n",
      "    ----------\n",
      "    an : (N,) array_like\n",
      "        Taylor series coefficients.\n",
      "    m : int\n",
      "        The order of the returned approximating polynomial `q`.\n",
      "    n : int, optional\n",
      "        The order of the returned approximating polynomial `p`. By default,\n",
      "        the order is ``len(an)-m``.\n",
      "    \n",
      "    Returns\n",
      "    -------\n",
      "    p, q : Polynomial class\n",
      "        The Pade approximation of the polynomial defined by `an` is\n",
      "        ``p(x)/q(x)``.\n",
      "    \n",
      "    Examples\n",
      "    --------\n",
      "    >>> from scipy.interpolate import pade\n",
      "    >>> e_exp = [1.0, 1.0, 1.0/2.0, 1.0/6.0, 1.0/24.0, 1.0/120.0]\n",
      "    >>> p, q = pade(e_exp, 2)\n",
      "    \n",
      "    >>> e_exp.reverse()\n",
      "    >>> e_poly = np.poly1d(e_exp)\n",
      "    \n",
      "    Compare ``e_poly(x)`` and the Pade approximation ``p(x)/q(x)``\n",
      "    \n",
      "    >>> e_poly(1)\n",
      "    2.7166666666666668\n",
      "    \n",
      "    >>> p(1)/q(1)\n",
      "    2.7179487179487181\n",
      "\n"
     ]
    }
   ],
   "source": [
    "from scipy.interpolate import pade\n",
    "\n",
    "help(pade)\n",
    "\n",
    "e_exp = [1.0, 1.0, 1.0/2.0, 1.0/6.0, 1.0/24.0, 1.0/120.0]\n",
    "p, q = pade(e_exp, 2)"
   ]
  },
  {
   "cell_type": "code",
   "execution_count": null,
   "metadata": {},
   "outputs": [],
   "source": []
  }
 ],
 "metadata": {
  "kernelspec": {
   "display_name": "Python 3",
   "language": "python",
   "name": "python3"
  },
  "language_info": {
   "codemirror_mode": {
    "name": "ipython",
    "version": 3
   },
   "file_extension": ".py",
   "mimetype": "text/x-python",
   "name": "python",
   "nbconvert_exporter": "python",
   "pygments_lexer": "ipython3",
   "version": "3.8.5"
  }
 },
 "nbformat": 4,
 "nbformat_minor": 2
}
