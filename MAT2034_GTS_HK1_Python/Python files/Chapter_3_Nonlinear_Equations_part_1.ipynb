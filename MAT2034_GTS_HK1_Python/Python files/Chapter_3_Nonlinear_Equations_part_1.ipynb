{
 "cells": [
  {
   "cell_type": "markdown",
   "metadata": {},
   "source": [
    "# Chương 3: Giải phương trình đại số, phương trình siêu việt "
   ]
  },
  {
   "cell_type": "code",
   "execution_count": null,
   "metadata": {},
   "outputs": [],
   "source": [
    "import numpy as np\n",
    "import matplotlib.pyplot as plt\n",
    "from numpy import sin\n",
    "from time import time\n",
    "\n",
    "x0 = -1; xf = 1; \n",
    "N = 1000\n",
    "I = np.linspace(x0,xf,N);\n",
    "y0 = -2; yf = 2;\n",
    "\n",
    "# Ta giai phuong trinh x^2 + x - 1 = 0\n",
    "f = lambda x: x**2 + x - 1\n",
    "\n",
    "plt.plot(I,f(I),'-b',linewidth=2)\n",
    "plt.grid()\n",
    "plt.title(\"Do thi ham so f(x)=x**2 + x - 1\")\n",
    "plt.xlabel(\"x\")\n",
    "plt.ylabel(\"y\")\n",
    "plt.legend((\"f(x)\"))\n",
    "plt.axis((x0,xf,y0,yf))\n",
    "plt.show(1)\n",
    "\n",
    "tol = 1e-6;\n",
    "\n",
    "tic = time()\n",
    "\n",
    "# The increment search method could be very slow, depending on x0, xf\n",
    "#N = 1000000;   # 1,000,000 inside points\n",
    "\n",
    "# or faster if we reduce the interval\n",
    "x0 = 0.5; xf = 0.75\n",
    "N = 100000;   # 100,000 inside points\n",
    "\n",
    "I = np.linspace(x0,xf,N);\n",
    "for i in range(len(I)):\n",
    "    if abs(f(I[i])) <= tol:\n",
    "    # if f(I[i])==0:\n",
    "        print('The solution is: ',I[i])\n",
    "        break\n",
    "\n",
    "toc = time()\n",
    "print(\"Processing time ---- \",toc-tic)"
   ]
  },
  {
   "cell_type": "markdown",
   "metadata": {},
   "source": [
    "# Phương pháp phân đôi (bisection method)"
   ]
  },
  {
   "cell_type": "code",
   "execution_count": null,
   "metadata": {},
   "outputs": [],
   "source": [
    "def bisection(f,a,b,tol):    \n",
    "    from numpy import sign\n",
    "    from math import log2\n",
    "    \n",
    "    x0 = a; x1 = b;\n",
    "    f0 = f(x0); f1 = f(x1);\n",
    "    \n",
    "    nmax = log2((b-a)/tol);    # Tuc la (b-a)/2^nmax <= tol\n",
    "    print(\"nmax la --- \",nmax)\n",
    "    \n",
    "    i = 1;\n",
    "    \n",
    "    while (i < nmax) :\n",
    "        if f0 == 0:\n",
    "            print(\"No la --- \",x0);\n",
    "            break\n",
    "        elif f1 == 0 :            \n",
    "            print(\"No la --- \",x1);\n",
    "            break\n",
    "        else:\n",
    "            x2 = (x0+x1)/2.0; \n",
    "            f2 = f(x2);\n",
    "            if sign(f0) != sign(f2):\n",
    "                x1 = x2; f1 = f2\n",
    "            else:\n",
    "                x0 = x2; f0 = f2\n",
    "            i += 1 \n",
    "    return x2, i\n",
    "\n",
    "\n",
    "# Test the code bisection\n",
    "def f(x):\n",
    "    return x**2 + x - 1\n",
    "\n",
    "tic = time()\n",
    "\n",
    "a,b,tol = (-1,1,1e-10)\n",
    "x, i = bisection(f,a,b,tol)\n",
    "print(x)\n",
    "#print(i)\n",
    "\n",
    "toc = time()\n",
    "print(\"Processing time ---- \",toc-tic)"
   ]
  },
  {
   "cell_type": "code",
   "execution_count": 11,
   "metadata": {},
   "outputs": [
    {
     "data": {
      "image/png": "[encoded data removed]",
      "text/plain": [
       "<Figure size 432x288 with 1 Axes>"
      ]
     },
     "metadata": {
      "needs_background": "light"
     },
     "output_type": "display_data"
    }
   ],
   "source": [
    "# Chú ý: Vẽ hình và tìm số nghiệm trước đã\n",
    "\n",
    "from numpy import cos\n",
    "\n",
    "# g = lambda x: x**3 - 2 * x**2 - x + 1 \n",
    "g = lambda x: 1 + 0.3 * cos(x) - x**2\n",
    "\n",
    "\n",
    "import matplotlib.pyplot as plt\n",
    "import numpy as np\n",
    "#from math import sin\n",
    "\n",
    "# Cho khoang ban dau tu -10 den 10\n",
    "I = np.linspace(-10,10,1000);\n",
    "\n",
    "#plt.subplot(1,2,1)\n",
    "plt.plot(I,g(I),'-b',linewidth=2)\n",
    "plt.grid()\n",
    "plt.title(\"Do thi ham so g(x)\")\n",
    "plt.xlabel(\"x\")\n",
    "plt.ylabel(\"y\")\n",
    "plt.legend((\"g\"))\n",
    "plt.axis((-10,10,-3,3))\n",
    "plt.show(1)"
   ]
  },
  {
   "cell_type": "markdown",
   "metadata": {},
   "source": [
    "# Phương pháp lặp đơn"
   ]
  },
  {
   "cell_type": "markdown",
   "metadata": {},
   "source": [
    "## Tìm khoảng tự ánh (nếu đề bài 0 cho trước)"
   ]
  },
  {
   "cell_type": "code",
   "execution_count": null,
   "metadata": {},
   "outputs": [],
   "source": [
    "def g(x):\n",
    "    return 1/2 * (x+5/x)\n",
    "\n",
    "def dg(x):    \n",
    "    return 1/2 - 5/(2 * x**2)\n",
    "\n",
    "import matplotlib.pyplot as plt\n",
    "import numpy as np\n",
    "#from math import sin\n",
    "\n",
    "# Cho khoang ban dau tu 0.5 den 3.5\n",
    "I = np.linspace(2,3,1000);\n",
    "\n",
    "#plt.subplot(1,2,1)\n",
    "plt.plot(I,g(I),'-b',I,dg(I),'-.r',linewidth=2)\n",
    "plt.grid()\n",
    "plt.title(\"Do thi ham so g(x)\")\n",
    "plt.xlabel(\"x\")\n",
    "plt.ylabel(\"y\")\n",
    "plt.legend((\"g\",\"dg\"))\n",
    "plt.axis((0.5,3.5,-3,3))\n",
    "plt.show(1)\n",
    "\n",
    "from numpy import abs, max\n",
    "lb = max(abs(dg(I)))\n",
    "print(lb)"
   ]
  },
  {
   "cell_type": "code",
   "execution_count": null,
   "metadata": {},
   "outputs": [],
   "source": [
    "def g(x):\n",
    "    from numpy import exp\n",
    "    return exp(-x)\n",
    "\n",
    "def dg(x): \n",
    "    from numpy import exp\n",
    "    return -exp(-x)\n",
    "\n",
    "import matplotlib.pyplot as plt\n",
    "import numpy as np\n",
    "#from math import sin\n",
    "\n",
    "# Cho khoang ban dau tu 0.5 den 3.5\n",
    "I = np.linspace(0,1,1000);\n",
    "\n",
    "#plt.subplot(1,2,1)\n",
    "plt.plot(I,g(I),'-b',I,abs(dg(I)),'-.r',linewidth=2)\n",
    "plt.grid()\n",
    "plt.title(\"Do thi ham so g(x)\")\n",
    "plt.xlabel(\"x\")\n",
    "plt.ylabel(\"y\")\n",
    "plt.legend((\"g\",\"dg\"))\n",
    "plt.axis((0.1,3.5,-3,3))\n",
    "plt.show(1)\n",
    "\n",
    "from numpy import abs, max\n",
    "lb = max(abs(dg(I)))\n",
    "print(lb)"
   ]
  },
  {
   "cell_type": "code",
   "execution_count": null,
   "metadata": {},
   "outputs": [],
   "source": [
    "# Giai phuong trinh f(x)=0 nhung duoc viet duoi dang moi  x= g(x)\n",
    "\"\"\"\n",
    "g : ham so, x0: gia tri ban dau, bat ky\n",
    "nmax : so luong toi da cac phep lap, tol: sai so\n",
    "x0 : nghiem, i: so luong phep lap thuc te de dat duoc sai so tol\n",
    "\"\"\"\n",
    "def lapdon(g,x0,nmax,tol):    \n",
    "    i = 1;\n",
    "    \n",
    "    for i in range(nmax):\n",
    "        x1 = g(x0); \n",
    "        g1 = g(x1);\n",
    "        if abs(x1-g1)>tol :\n",
    "            x0 = x1;\n",
    "            x1 = g(x1);\n",
    "            g1 = g(x1);\n",
    "            i += 1;\n",
    "        else:\n",
    "            print(\"No la ---\",x1);\n",
    "            break\n",
    "        if i>nmax:\n",
    "            print(\"Co the phep lap don nay 0 cho ket qua\")\n",
    "            x1 = None;\n",
    "    return x1, i\n",
    "\n",
    "# Test code\n",
    "from numpy import exp, arctan\n",
    "\n",
    "#def g(x): return exp(-x)  # Bai tap 6a Exercise sheet No 34\n",
    "def g(x): return 1+arctan(x)  # Bai tap 6b Exercise sheet No 34\n",
    "\n",
    "#x0,nmax,tol = (0,100,1e-6)\n",
    "#c, i = lapdon(g,x0,nmax,tol)\n",
    "#print(\"No la ---\",c)\n",
    "#print(\"So lan lap la ---\",i)\n",
    "\n"
   ]
  },
  {
   "cell_type": "code",
   "execution_count": 2,
   "metadata": {},
   "outputs": [
    {
     "data": {
      "image/png": "[encoded data removed]",
      "text/plain": [
       "<Figure size 432x288 with 1 Axes>"
      ]
     },
     "metadata": {
      "needs_background": "light"
     },
     "output_type": "display_data"
    },
    {
     "name": "stdout",
     "output_type": "stream",
     "text": [
      "0.25819888974716115\n"
     ]
    }
   ],
   "source": [
    "f = lambda x: 1 + 4*x - 10*x**3\n",
    "\n",
    "def g(x):\n",
    "    from numpy import sqrt\n",
    "    return sqrt((1 + 4*x)/(10*x)) -x\n",
    "\n",
    "def dg(x):\n",
    "    from numpy import sqrt\n",
    "    u = sqrt(0.1 * 1/x + 0.4) \n",
    "    return (-0.1/x**2)/(2*u) \n",
    "\n",
    "import matplotlib.pyplot as plt\n",
    "import numpy as np\n",
    "#from math import sin\n",
    "\n",
    "# Cho khoang ban dau tu 0.5 den 1\n",
    "I = np.linspace(0.5,1,1000);\n",
    "\n",
    "#plt.subplot(1,2,1)\n",
    "plt.plot(I,g(I),'-b',I,dg(I),'-.r',linewidth=2)\n",
    "plt.grid()\n",
    "plt.title(\"Do thi ham so g(x)\")\n",
    "plt.xlabel(\"x\")\n",
    "plt.ylabel(\"y\")\n",
    "plt.legend((\"g\",\"dg\"))\n",
    "plt.axis((0.5,1,-3,3))\n",
    "plt.show(1)\n",
    "\n",
    "from numpy import abs, max\n",
    "lb = max(abs(dg(I)))\n",
    "print(lb)"
   ]
  },
  {
   "cell_type": "code",
   "execution_count": 9,
   "metadata": {},
   "outputs": [
    {
     "name": "stdout",
     "output_type": "stream",
     "text": [
      "-0.25819888974716115\n",
      "-0.08634303780002904\n"
     ]
    }
   ],
   "source": [
    "print(dg(0.5))\n",
    "print(dg(0.9))"
   ]
  },
  {
   "cell_type": "code",
   "execution_count": 36,
   "metadata": {},
   "outputs": [
    {
     "name": "stdout",
     "output_type": "stream",
     "text": [
      "[-0.16251893  0.57661336  1.13462273 -1.13943428]\n"
     ]
    }
   ],
   "source": [
    "A = np.array([0, 1, 2, -1]) \n",
    "\n",
    "from numpy import exp\n",
    "f = lambda x: np.log(0.18*x*3+0.2*x**2+0.19*x+0.85)\n",
    "\n",
    "print(f(A))"
   ]
  },
  {
   "cell_type": "code",
   "execution_count": 40,
   "metadata": {},
   "outputs": [
    {
     "name": "stdout",
     "output_type": "stream",
     "text": [
      "[0.71792784 1.23453493 1.13192326 0.68785991]\n",
      "        3         2\n",
      "0.7179 x + 1.235 x + 1.132 x + 0.6879\n"
     ]
    }
   ],
   "source": [
    "b = np.array([-0.1625,  0.5766,  1.1346, -1.1394])\n",
    "tb = 10**b\n",
    "\n",
    "from numpy import polyfit\n",
    "print(polyfit(A,tb,3))\n",
    "\n",
    "from scipy.interpolate import lagrange\n",
    "poly = lagrange(A, tb)\n",
    "print(poly)"
   ]
  },
  {
   "cell_type": "code",
   "execution_count": null,
   "metadata": {},
   "outputs": [],
   "source": []
  }
 ],
 "metadata": {
  "kernelspec": {
   "display_name": "Python 3",
   "language": "python",
   "name": "python3"
  },
  "language_info": {
   "codemirror_mode": {
    "name": "ipython",
    "version": 3
   },
   "file_extension": ".py",
   "mimetype": "text/x-python",
   "name": "python",
   "nbconvert_exporter": "python",
   "pygments_lexer": "ipython3",
   "version": "3.8.5"
  }
 },
 "nbformat": 4,
 "nbformat_minor": 2
}
