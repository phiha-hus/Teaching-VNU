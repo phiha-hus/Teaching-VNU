{
 "cells": [
  {
   "cell_type": "markdown",
   "metadata": {},
   "source": [
    "# Chương 2: Giải số hệ phương trình tuyến tính A x = b"
   ]
  },
  {
   "cell_type": "code",
   "execution_count": null,
   "metadata": {},
   "outputs": [],
   "source": [
    "from scipy import array\n",
    "from scipy import random\n",
    "import scipy.linalg as la\n",
    "from time import time\n",
    "\n",
    "for i in range(1,10):\n",
    "    n = i * 1000\n",
    "    A = random.rand(n,n)\n",
    "    b = random.rand(n,1)\n",
    "\n",
    "    tic = time()\n",
    "    x = la.solve(A,b)\n",
    "    toc = time()\n",
    "\n",
    "    #print(x)\n",
    "    print('processing time is: ',toc-tic,' sec. (second)')\n",
    "\n",
    "    \n",
    "   "
   ]
  },
  {
   "cell_type": "markdown",
   "metadata": {},
   "source": [
    "# Số điều kiện (Condition number)"
   ]
  },
  {
   "cell_type": "code",
   "execution_count": 1,
   "metadata": {},
   "outputs": [
    {
     "ename": "SyntaxError",
     "evalue": "invalid syntax (<ipython-input-1-6dc5a869b2c5>, line 21)",
     "output_type": "error",
     "traceback": [
      "\u001b[1;36m  File \u001b[1;32m\"<ipython-input-1-6dc5a869b2c5>\"\u001b[1;36m, line \u001b[1;32m21\u001b[0m\n\u001b[1;33m    x = array([1 -2 3 -4 5])\u001b[0m\n\u001b[1;37m                    ^\u001b[0m\n\u001b[1;31mSyntaxError\u001b[0m\u001b[1;31m:\u001b[0m invalid syntax\n"
     ]
    }
   ],
   "source": [
    "from numpy import array\n",
    "import numpy.linalg as la\n",
    "from scipy import random\n",
    "\n",
    "A = array([[1, 1],[1, 1.001]])\n",
    "print('A is: ')\n",
    "print(A)\n",
    "b = random.rand(2,1)\n",
    "x = la.solve(A,b)\n",
    "print('x is: ')\n",
    "print(x)\n",
    "\n",
    "A = array([[1, 1],[1, 1.0001]])\n",
    "print('A is: ')\n",
    "print(A)\n",
    "b = random.rand(2,1)\n",
    "x = la.solve(A,b)\n",
    "print('x is: ')\n",
    "print(x)\n",
    "\n",
    "x = array([[1 -2 3 -4 5]])\n",
    "print(norm(x,2))"
   ]
  },
  {
   "cell_type": "code",
   "execution_count": null,
   "metadata": {},
   "outputs": [],
   "source": [
    "from numpy import array\n",
    "import numpy.linalg as la\n",
    "\n",
    "A = array([[1, -2, 3],[-4, 5, -6],[7, -8, 10]])\n",
    "print(A)\n",
    "\n",
    "print('The 1-norm of A is: ',la.norm(A,1))\n",
    "\n",
    "print('The Euclidean/2/Frobenius-norm of A is: ',la.norm(A,2))\n",
    "\n",
    "import numpy as np\n",
    "print('The infinity-norm of A is: ',la.norm(A,np.inf))\n"
   ]
  },
  {
   "cell_type": "code",
   "execution_count": null,
   "metadata": {
    "scrolled": true
   },
   "outputs": [],
   "source": [
    "from numpy import array\n",
    "import numpy.linalg as la\n",
    "from scipy.linalg import hilbert\n",
    "\n",
    "A = array([[1, -2, 3],[-4, 5, -6],[7, -8, 10]])\n",
    "print('A is: ')\n",
    "print(A)\n",
    "cond_A = la.cond(A)\n",
    "print('Condition number of A is: ',cond_A)\n",
    "\n",
    "# Hilbert Matrix\n",
    "B = hilbert(3)\n",
    "print('B is: ')\n",
    "print(B)\n",
    "cond_B = la.cond(B)\n",
    "print('Condition number of B is: ', cond_B)"
   ]
  },
  {
   "cell_type": "markdown",
   "metadata": {},
   "source": [
    "# Phép khử Gauss và phân tích LU (Gaussian Elimination & LU Decomposition)"
   ]
  },
  {
   "cell_type": "code",
   "execution_count": 41,
   "metadata": {},
   "outputs": [
    {
     "name": "stdout",
     "output_type": "stream",
     "text": [
      "[[1.         0.         0.         0.        ]\n",
      " [0.1        1.         0.         0.        ]\n",
      " [0.2        0.31683168 1.         0.        ]\n",
      " [0.3        0.22772277 0.03369673 1.        ]]\n",
      "[[10.         -1.          2.         -3.        ]\n",
      " [ 0.         10.1        -1.2         2.3       ]\n",
      " [ 0.          0.         19.98019802 -1.12871287]\n",
      " [ 0.          0.          0.         20.41427156]]\n"
     ]
    },
    {
     "data": {
      "text/plain": [
       "array([[ 0.00000000e+00,  0.00000000e+00,  0.00000000e+00,\n",
       "         0.00000000e+00],\n",
       "       [ 0.00000000e+00,  0.00000000e+00,  0.00000000e+00,\n",
       "        -2.22044605e-16],\n",
       "       [ 0.00000000e+00,  4.44089210e-16,  0.00000000e+00,\n",
       "         0.00000000e+00],\n",
       "       [ 4.44089210e-16, -2.22044605e-16,  0.00000000e+00,\n",
       "         0.00000000e+00]])"
      ]
     },
     "execution_count": 41,
     "metadata": {},
     "output_type": "execute_result"
    }
   ],
   "source": [
    "L, U = lu(A,True)\n",
    "\n",
    "print(L)\n",
    "print(U)\n",
    "\n",
    "from numpy import dot\n",
    "dot(L,U)-A"
   ]
  },
  {
   "cell_type": "code",
   "execution_count": null,
   "metadata": {
    "scrolled": true
   },
   "outputs": [],
   "source": [
    "from scipy.linalg import lu\n",
    "from numpy import array\n",
    "\n",
    "A = array([[10,-1,2,-3],[1,10,-1,2],[2,3,20,-1],[3,2,1,20]])\n",
    "print(A)\n",
    "\n",
    "P, L, U = lu(A)\n",
    "print(\"Ma tran P\")\n",
    "print(P)\n",
    "print(\"Ma tran L\")\n",
    "print(L)\n",
    "print(\"Ma tran U\")\n",
    "print(U)\n",
    "\n",
    "#print(P*L*U - A)   # Matlab thi duoc, Python thi 0\n",
    "print(dot(P,dot(L,U)) - A) # Dung trong Python"
   ]
  },
  {
   "cell_type": "markdown",
   "metadata": {},
   "source": [
    "# Iterative methods: Jacobi, Gauss-Seidel"
   ]
  },
  {
   "cell_type": "code",
   "execution_count": null,
   "metadata": {},
   "outputs": [],
   "source": [
    "from numpy import array, dot\n",
    "import numpy.linalg as la\n",
    "\n",
    "A = array([[3,1, 1],[1, 5, 2],[1, 8, 10]])\n",
    "\n",
    "b = array([5,8,19])\n",
    "\n",
    "P =  array([[3, 0, 0],[0, 5, 0],[0, 0, 10]])\n",
    "N = A - P\n",
    "ivP = inv(P)\n",
    "x0 = array([0,0,0]); xold = x0;\n",
    "\n",
    "for i in range(1,100):\n",
    "    xnew = inv(P) * (-N*xold+b)\n",
    "    \n",
    "print(xnew)\n"
   ]
  },
  {
   "cell_type": "markdown",
   "metadata": {},
   "source": [
    "# Least square - Over/Under-determined systems"
   ]
  },
  {
   "cell_type": "code",
   "execution_count": null,
   "metadata": {},
   "outputs": [],
   "source": [
    "print(\"Cach 1: phuong trinh chinh tac\")\n",
    "M = dot(A.T,A)\n",
    "print(M)\n",
    "n = dot(A.T,b)\n",
    "print(n)\n",
    "from numpy.linalg import solve\n"
   ]
  },
  {
   "cell_type": "code",
   "execution_count": null,
   "metadata": {},
   "outputs": [],
   "source": [
    "print(\"Cach 2: su dung phan tich QR\")\n",
    "from scipy.linalg import qr\n",
    "Q,R = qr(A)\n",
    "#print(Q)\n",
    "#print(R)\n",
    "#print(dot(Q,R)-A)\n",
    "\n",
    "Q1 = Q[:,0:2]\n",
    "R1 = R[0:2,:]\n",
    "print(Q1)\n",
    "print(R1)\n",
    "print(dot(Q1,R1)-A)\n",
    "\n",
    "p = dot(Q1.T,b)\n",
    "print(p)\n",
    "\n",
    "from numpy.linalg import solve\n",
    "x = solve(R1,p)\n",
    "print(x)"
   ]
  },
  {
   "cell_type": "code",
   "execution_count": null,
   "metadata": {},
   "outputs": [],
   "source": []
  }
 ],
 "metadata": {
  "kernelspec": {
   "display_name": "Python 3",
   "language": "python",
   "name": "python3"
  },
  "language_info": {
   "codemirror_mode": {
    "name": "ipython",
    "version": 3
   },
   "file_extension": ".py",
   "mimetype": "text/x-python",
   "name": "python",
   "nbconvert_exporter": "python",
   "pygments_lexer": "ipython3",
   "version": "3.8.5"
  }
 },
 "nbformat": 4,
 "nbformat_minor": 2
}
