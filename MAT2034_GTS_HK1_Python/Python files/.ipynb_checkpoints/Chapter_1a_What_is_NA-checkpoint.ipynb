{
 "cells": [
  {
   "cell_type": "markdown",
   "metadata": {},
   "source": [
    "# Why numerical analysis is needed? \n",
    "# Why (theoretical) analysis is not enough?"
   ]
  },
  {
   "cell_type": "markdown",
   "metadata": {},
   "source": [
    "# Example 1. Computing integral (from Prof. Ky Anh's book)"
   ]
  },
  {
   "cell_type": "code",
   "execution_count": 10,
   "metadata": {},
   "outputs": [
    {
     "name": "stdout",
     "output_type": "stream",
     "text": [
      "-4.47507315596451e+16\n"
     ]
    }
   ],
   "source": [
    "# Computing the integral \n",
    "# Using recursion        I_n = 1 - n * I_{n-1} ;  I_0 = 1/e\n",
    "                         \n",
    "                        # I_new = 1 - n * I_old \n",
    "                        # I_old = I_newI_n = int_0^1 x^n e^{x-1}dx (n>=1) \n",
    "            \n",
    "# I_200 = 1 - 200 * I_199\n",
    "# I_199 = 1 - 199 * I_198\n",
    "\n",
    "# numpy, scipy, matplotlib, mayavi\n",
    "# tensorflow, pandas, keras, scikit-learn\n",
    "\n",
    "from numpy import exp\n",
    "\n",
    "e = exp(1)\n",
    "I_old = 1/e   # This is I_{n-1}\n",
    "\n",
    "# Dem tu 0 nhu C => range(n+1) = 0, 1, 2, ..., n\n",
    "                  # arange(1,n+1,2) = 1,3,5, ...\n",
    "\n",
    "n = 19;                       # Notice the switch of sign - Chú ý thay đổi dấu khi n chẵn/lẻ\n",
    "\n",
    "for i in range(n+1):          # i = 0,1,2, ..., n = 19\n",
    "    I_new = 1 - i * I_old          # Notice about the loop - Chú ý vòng lặp 0 có end\n",
    "                                 # Chú ý thụt đầu dòng sai là đứt ngay\n",
    "    I_old = I_new\n",
    "\n",
    "print(I_new)        # Keep in mind the indent - Chú ý việc thụt đầu dòng"
   ]
  },
  {
   "cell_type": "code",
   "execution_count": 7,
   "metadata": {},
   "outputs": [
    {
     "name": "stdout",
     "output_type": "stream",
     "text": [
      "The result is:  0.009804855005376046\n",
      "The absolute error is:  1.5644972679651507e-14\n"
     ]
    }
   ],
   "source": [
    "# integration is not always possible theoretically\n",
    "# help(integrate.quad)\n",
    "\n",
    "# Computing the integral I_n = int_0^1 x^n e^{x-1}dx (n>=1)\n",
    "\n",
    "\n",
    "from numpy import exp, sqrt\n",
    "from scipy import integrate\n",
    "\n",
    "n = 100; \n",
    "\n",
    "# f(x) = x^n * e^{x-1} \n",
    "fx = lambda x : x**n * exp(x-1)                 # Viết hàm tạm thời kiểu lambda\n",
    "\n",
    "value, error = integrate.quad(fx, 0, 1)\n",
    "\n",
    "print('The result is: ',value)\n",
    "print('The absolute error is: ',error)"
   ]
  },
  {
   "cell_type": "code",
   "execution_count": 8,
   "metadata": {},
   "outputs": [
    {
     "name": "stdout",
     "output_type": "stream",
     "text": [
      "3.0\n",
      "3.0\n"
     ]
    }
   ],
   "source": [
    "def f(x):\n",
    "    from numpy import sqrt\n",
    "    p = 3;\n",
    "    return sqrt(x**p + 1)\n",
    "\n",
    "print(f(2))\n",
    "\n",
    "\n",
    "g = lambda x : sqrt(x**3 + 1)\n",
    "\n",
    "print(g(2))"
   ]
  },
  {
   "cell_type": "markdown",
   "metadata": {},
   "source": [
    "# Example 2. Inverse matrix undered perturbation"
   ]
  },
  {
   "cell_type": "code",
   "execution_count": 4,
   "metadata": {},
   "outputs": [
    {
     "name": "stdout",
     "output_type": "stream",
     "text": [
      "[[ 101. -100.]\n",
      " [-100.  100.]]\n",
      "[[ 1001. -1000.]\n",
      " [-1000.  1000.]]\n",
      "[ 1101.1 -1100. ]\n"
     ]
    }
   ],
   "source": [
    "# Perturbation may cause serious troubles\n",
    "\n",
    "import numpy as np\n",
    "from numpy.linalg import inv , cond  # linalg = linear algebra \n",
    "\n",
    "A = np.array([[1, 1],[1, 1.01]])\n",
    "\n",
    "#  A = \n",
    "#      1  1\n",
    "#      1  1.01 \n",
    "\n",
    "print(inv(A))\n",
    "\n",
    "B = np.array([[1, 1],[1, 1.001]])\n",
    "print(inv(B))\n",
    "\n",
    "print(cond(B))\n",
    "\n",
    "from numpy import dot\n",
    "\n",
    "b = np.array([1.1,0])\n",
    "\n",
    "print(dot(inv(B),b))\n"
   ]
  },
  {
   "cell_type": "markdown",
   "metadata": {},
   "source": [
    "# Example 4. Hilbert matrix of very big size"
   ]
  },
  {
   "cell_type": "code",
   "execution_count": null,
   "metadata": {},
   "outputs": [],
   "source": [
    "import scipy.linalg as la\n",
    "\n",
    "n = 3\n",
    "A = la.hilbert(n)\n",
    "print('A is: ',A)\n",
    "print('inv(A) is: ',la.inv(A))\n",
    "print('Determinant of A is: ',la.det(A))\n",
    "\n",
    "n = 100\n",
    "A = la.hilbert(n)\n",
    "print('A is: ')\n",
    "print(A)\n",
    "print('inv(A) is: ')\n",
    "print(la.inv(A))\n",
    "\n",
    "# Lets guess det(A) if n = 100?\n",
    "print('Determinant of A is: ',la.det(A))\n"
   ]
  },
  {
   "cell_type": "code",
   "execution_count": null,
   "metadata": {},
   "outputs": [],
   "source": []
  }
 ],
 "metadata": {
  "kernelspec": {
   "display_name": "Python 3",
   "language": "python",
   "name": "python3"
  },
  "language_info": {
   "codemirror_mode": {
    "name": "ipython",
    "version": 3
   },
   "file_extension": ".py",
   "mimetype": "text/x-python",
   "name": "python",
   "nbconvert_exporter": "python",
   "pygments_lexer": "ipython3",
   "version": "3.8.5"
  }
 },
 "nbformat": 4,
 "nbformat_minor": 4
}
