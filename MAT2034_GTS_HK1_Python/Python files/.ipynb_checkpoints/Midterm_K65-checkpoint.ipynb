{
 "cells": [
  {
   "cell_type": "code",
   "execution_count": 6,
   "metadata": {},
   "outputs": [
    {
     "name": "stdout",
     "output_type": "stream",
     "text": [
      "Number of rows of the Magic Square:11\n",
      "Magic Square for n = 11\n",
      "Sum of each row or column 671.0 \n",
      "\n",
      "54 42 30 18  6 115 103 91 79 67 66 \n",
      "41 29 17  5 114 102 90 78 77 65 53 \n",
      "28 16  4 113 101 89 88 76 64 52 40 \n",
      "15  3 112 100 99 87 75 63 51 39 27 \n",
      " 2 111 110 98 86 74 62 50 38 26 14 \n",
      "121 109 97 85 73 61 49 37 25 13  1 \n",
      "108 96 84 72 60 48 36 24 12 11 120 \n",
      "95 83 71 59 47 35 23 22 10 119 107 \n",
      "82 70 58 46 34 33 21  9 118 106 94 \n",
      "69 57 45 44 32 20  8 117 105 93 81 \n",
      "56 55 43 31 19  7 116 104 92 80 68 \n"
     ]
    }
   ],
   "source": [
    "#Function\n",
    "def generateSquare(n): \n",
    "    # 2-D array with all  \n",
    "    # slots set to 0 \n",
    "    magicSquare = [[0 for x in range(n)] \n",
    "                      for y in range(n)] \n",
    "    # initialize position of 1 \n",
    "    i = n / 2\n",
    "    j = n - 1\n",
    "    # Fill the square by placing values \n",
    "    num = 1\n",
    "    while num <= (n * n): \n",
    "        if i == -1 and j == n: # 3rd condition \n",
    "            j = n - 2\n",
    "            i = 0\n",
    "        else:  \n",
    "            # next number goes out of \n",
    "            # right side of square  \n",
    "            if j == n: \n",
    "                j = 0    \n",
    "            # next number goes  \n",
    "            # out of upper side \n",
    "            if i < 0: \n",
    "                i = n - 1\n",
    "        if magicSquare[int(i)][int(j)]: # 2nd condition \n",
    "            j = j - 2\n",
    "            i = i + 1\n",
    "            continue\n",
    "        else: \n",
    "            magicSquare[int(i)][int(j)] = num \n",
    "            num = num + 1\n",
    "        j = j + 1\n",
    "        i = i - 1 # 1st condition \n",
    "    # Printing the square \n",
    "    print (\"Magic Square for n =\", n) \n",
    "    print (\"Sum of each row or column\",n * (n * n + 1) / 2, \"\\n\") \n",
    "    for i in range(0, n): \n",
    "        for j in range(0, n): \n",
    "            print('%2d ' % (magicSquare[i][j]),end = '') \n",
    "            # To display output  \n",
    "            # in matrix form \n",
    "            if j == n - 1:  \n",
    "                print()\n",
    "# Driver Code \n",
    "# Works only when n is odd \n",
    "n=int(input(\"Number of rows of the Magic Square:\"))\n",
    "generateSquare(n)"
   ]
  },
  {
   "cell_type": "code",
   "execution_count": 7,
   "metadata": {},
   "outputs": [],
   "source": [
    "with open('Midterm_K65.txt', 'w') as f:\n",
    "    f.write('Midterm_K65')"
   ]
  },
  {
   "cell_type": "code",
   "execution_count": null,
   "metadata": {},
   "outputs": [],
   "source": [
    "import numpy as np\n",
    "import numpy.linalg as la\n",
    "\n",
    "A = generateSquare(11)"
   ]
  }
 ],
 "metadata": {
  "kernelspec": {
   "display_name": "Python 3",
   "language": "python",
   "name": "python3"
  },
  "language_info": {
   "codemirror_mode": {
    "name": "ipython",
    "version": 3
   },
   "file_extension": ".py",
   "mimetype": "text/x-python",
   "name": "python",
   "nbconvert_exporter": "python",
   "pygments_lexer": "ipython3",
   "version": "3.8.5"
  }
 },
 "nbformat": 4,
 "nbformat_minor": 4
}
