{
 "cells": [
  {
   "cell_type": "markdown",
   "metadata": {},
   "source": [
    "# Chữa BTVN Buổi 1"
   ]
  },
  {
   "cell_type": "code",
   "execution_count": 13,
   "metadata": {},
   "outputs": [
    {
     "name": "stdout",
     "output_type": "stream",
     "text": [
      "32\n",
      "None\n"
     ]
    }
   ],
   "source": [
    "# Horner's algorithm\n",
    "# import numpy as np\n",
    "def horner(a,x):\n",
    "    n = len(a)\n",
    "    s = a[0]\n",
    "    \n",
    "    for i in range(1,n):\n",
    "            s = s * x + a[i]\n",
    "    print(s)\n",
    "\n",
    "# test (1+1)^5 = 32\n",
    "import numpy as np\n",
    "a = np.array([1, 5, 10, 10, 5, 1])\n",
    "#a = input(\"Input vector he so cua da thuc: \")\n",
    "#print(a,type(a))\n",
    "\n",
    "len(a)\n",
    "x = 1\n",
    "print(horner(a,x))"
   ]
  },
  {
   "cell_type": "code",
   "execution_count": 14,
   "metadata": {},
   "outputs": [
    {
     "name": "stdout",
     "output_type": "stream",
     "text": [
      "Input vector: 1 5 10 10 5 1\n",
      "[1.0, 5.0, 10.0, 10.0, 5.0, 1.0]\n",
      "([1.0, 6.0, 16.0, 26.0, 31.0], 32.0)\n"
     ]
    }
   ],
   "source": [
    "a = input(\"Input vector: \")\n",
    "a = a.split(\" \")\n",
    "for i in range(len(a)):\n",
    "    a[i] = float(a[i])\n",
    "print(a)\n",
    "\n",
    "def my_func(p, c):\n",
    "    q = []\n",
    "    b = p[0]\n",
    "    for i in range(1,len(p)):\n",
    "        q.append(b)\n",
    "        b = b*c + p[i]\n",
    "    R = b\n",
    "    return q, R\n",
    "\n",
    "c = 1\n",
    "print( my_func(a,c))\n",
    "\n",
    "#a = np.array([1, 5, 10, 10, 5, 1])"
   ]
  },
  {
   "cell_type": "markdown",
   "metadata": {},
   "source": [
    "# Chương 1: Sai số"
   ]
  },
  {
   "cell_type": "markdown",
   "metadata": {},
   "source": [
    "# Nguồn gốc sai số: (1) dữ liệu đầu vào; (2) thuật toán"
   ]
  },
  {
   "cell_type": "code",
   "execution_count": null,
   "metadata": {},
   "outputs": [],
   "source": [
    "import numpy as np\n",
    "from numpy import exp, sqrt\n",
    "from math import factorial\n",
    "\n",
    "# Problem: Compute y = e^{sqrt{2}} using MacLaurin approximation \n",
    "# e^x = 1 + x + x^2/2! + x^3/3! + x^4/4! + ... + x^10/10! + R_n(x)\n",
    "\n",
    "x0 = eval(format(sqrt(2),'.6f'));\n",
    "print(x0,type(x0))\n",
    "\n",
    "print('Sai so dau vao la: ',abs(sqrt(2)-x0))\n",
    "\n",
    "y_exact = exp(sqrt(2))\n",
    "y_exact = eval(format(y_exact,'.6f'))\n",
    "print('Ket qua chinh xac la y_exact = ',y_exact)\n",
    "\n",
    "y_approx = 1\n",
    "\n",
    "for i in range(1,11):\n",
    "    y_approx += x0**i/factorial(i)\n",
    "    y_approx = eval(format(y_approx,'.6f'))\n",
    "    print('Sai so su dung xap xi MacLaurin toi bac i = ',i,' la: ',abs(y_exact-y_approx))   \n"
   ]
  },
  {
   "cell_type": "markdown",
   "metadata": {},
   "source": [
    "# Tính toán sai số tuyệt đối và tương đối sử dụng khai triển MacLaurin"
   ]
  },
  {
   "cell_type": "code",
   "execution_count": null,
   "metadata": {},
   "outputs": [],
   "source": [
    "from math import sin, cos\n",
    "def f(x):\n",
    "    value = (x*cos(x)-sin(x))/(x-sin(x))\n",
    "    return value\n",
    "\n",
    "print('the exact value is ',format(f(0.1),'e'))\n",
    "\n",
    "def sinP(x):\n",
    "    return x - x**3/6  #+ x**5/120\n",
    "\n",
    "def cosP(x):\n",
    "    return 1 - x**2/2  #+ x**4/24\n",
    "\n",
    "x = 0.1\n",
    "value = (x*cosP(x)-sinP(x))/(x-sinP(x))\n",
    "\n",
    "print('approximated value via MacLaurin expansion is ',format(value,'e'))\n",
    "\n",
    "delta_2 = abs((value-f(0.1))/hamf(0.1)) \n",
    "print('relative error is ',format(delta_2,'.6e'))"
   ]
  },
  {
   "cell_type": "code",
   "execution_count": null,
   "metadata": {},
   "outputs": [],
   "source": [
    "from math import atan\n",
    "def artan(x):\n",
    "    return x - x**3/3 + x**5/5\n",
    "\n",
    "# tinh gia tri chinh xac\n",
    "a = 4 * (atan(.5) + atan(1./3))\n",
    "a_xapxi = 4 * (artan(.5)+artan(1./3))\n",
    "\n",
    "# tinh sai so tuyet doi va tuong doi\n",
    "delta = abs(a_xapxi-a);\n",
    "print(format(delta,'.6e'))\n",
    "\n",
    "delta_2 = abs(delta/a);\n",
    "print(format(delta_2,'.6e'))"
   ]
  },
  {
   "cell_type": "markdown",
   "metadata": {},
   "source": [
    "# EXERCISES IN GREENBAUM & CHARTIER"
   ]
  },
  {
   "cell_type": "code",
   "execution_count": 3,
   "metadata": {},
   "outputs": [
    {
     "name": "stdout",
     "output_type": "stream",
     "text": [
      "-0.000000\n"
     ]
    }
   ],
   "source": [
    "# Exercise 13: Do you know the Fermat equation a^n + b^n = c^n for n > 3\n",
    "\n",
    "a = 1782; b = 1841; c = 1922; n = 12\n",
    "\n",
    "# part a)\n",
    "\n",
    "value = (a**n + b**n)**(1/n) - c\n",
    "\n",
    "print(format(value,'.6f'))\n",
    "\n",
    "# print(value)"
   ]
  },
  {
   "cell_type": "code",
   "execution_count": 27,
   "metadata": {},
   "outputs": [
    {
     "name": "stdout",
     "output_type": "stream",
     "text": [
      "[[9.43367764e+08]\n",
      " [5.49740593e+08]\n",
      " [2.12111770e+08]\n",
      " ...\n",
      " [1.82477553e+08]\n",
      " [9.86574020e+08]\n",
      " [1.38903932e+08]]\n"
     ]
    }
   ],
   "source": [
    "from numpy.random import rand\n",
    "\n",
    "a = 1e+6    # so tien toi thieu\n",
    "b = 1e+9    # so tien toi da\n",
    "n = 50000   # 50.000 tai khoan\n",
    "\n",
    "# Tao so tien trong moi tai khoan 1 cach ngau nhien\n",
    "# trong pham vi a, b\n",
    "tai_khoan = a + (b-a) * rand(n,1)\n"
   ]
  },
  {
   "cell_type": "markdown",
   "metadata": {},
   "source": [
    "# LOSS OF SIGNIFICANT DIGITS"
   ]
  },
  {
   "cell_type": "code",
   "execution_count": 19,
   "metadata": {
    "scrolled": true
   },
   "outputs": [
    {
     "name": "stdout",
     "output_type": "stream",
     "text": [
      "Đánh mất chữ số chắc là thế này\n",
      "x-y =  2.34567781864925e-11\n"
     ]
    }
   ],
   "source": [
    "x = 0.1234567891234567890\n",
    "y = 0.1234567891000000000\n",
    "\n",
    "print(\"Đánh mất chữ số chắc là thế này\")\n",
    "z = x - y\n",
    "print('x-y = ', z)\n",
    "\n",
    "print('Thay vì chính xác 19 chữ số thập phân như ban đầu ta chỉ còn chính xác 5 chữ số thập phân')\n",
    "#print(format(z,'e'))\n"
   ]
  },
  {
   "cell_type": "code",
   "execution_count": 1,
   "metadata": {},
   "outputs": [
    {
     "name": "stdout",
     "output_type": "stream",
     "text": [
      "0.0\n",
      "-1.666666666666667e-28\n"
     ]
    }
   ],
   "source": [
    "from numpy import sin\n",
    "\n",
    "x = 1e-9\n",
    "\n",
    "print(sin(x)-x)\n",
    "\n",
    "\n",
    "# Xấp xỉ sin(x) bằng khai triển MacLaurin sin(x) = x - x^3/3! + o(x^3)\n",
    "# sin(x) - x ~ (x - x**3/6) - x = - x**3/6 + o(x^3)\n",
    "\n",
    "v = - x**3/6\n",
    "print(v)"
   ]
  },
  {
   "cell_type": "code",
   "execution_count": null,
   "metadata": {},
   "outputs": [],
   "source": [
    "def giai_tamthuc(A):\n",
    "    n = len(A)\n",
    "    if n!=3:\n",
    "        print(\"Loi 0 phai tam thuc\")\n",
    "    elif A[0]==0:\n",
    "        print(\"Khong phai tam thuc\")\n",
    "    else:\n",
    "        delta = A[1]**2 - 4 * A[0]*A[2];\n",
    "        if (delta<0):\n",
    "            print(\"Vo nghiem\")\n",
    "        elif (delta==0):\n",
    "            x = A[1]/2;\n",
    "            print(x)\n",
    "        else:\n",
    "            from math import sqrt\n",
    "            x1 = (-A[1] - sqrt(delta))/(2*A[0]);\n",
    "            x2 = (-A[1] + sqrt(delta))/(2*A[0]);\n",
    "            print(x1)\n",
    "            print(x2)\n",
    "\n",
    "# test\n",
    "import numpy as np\n",
    "A = np.array([1,3,2])\n",
    "giai_tamthuc(A)\n"
   ]
  },
  {
   "cell_type": "code",
   "execution_count": 3,
   "metadata": {},
   "outputs": [
    {
     "name": "stdout",
     "output_type": "stream",
     "text": [
      "x1 =  0.0\n",
      "x2 =  -1000000000.0\n"
     ]
    },
    {
     "ename": "ZeroDivisionError",
     "evalue": "float division by zero",
     "output_type": "error",
     "traceback": [
      "\u001b[1;31m---------------------------------------------------------------------------\u001b[0m",
      "\u001b[1;31mZeroDivisionError\u001b[0m                         Traceback (most recent call last)",
      "\u001b[1;32m<ipython-input-3-c573cccc8d9e>\u001b[0m in \u001b[0;36m<module>\u001b[1;34m\u001b[0m\n\u001b[0;32m     14\u001b[0m \u001b[1;33m\u001b[0m\u001b[0m\n\u001b[0;32m     15\u001b[0m \u001b[0mx3\u001b[0m \u001b[1;33m=\u001b[0m \u001b[1;33m-\u001b[0m\u001b[1;36m2\u001b[0m\u001b[1;33m*\u001b[0m\u001b[0mc\u001b[0m\u001b[1;33m/\u001b[0m\u001b[1;33m(\u001b[0m\u001b[0mb\u001b[0m\u001b[1;33m+\u001b[0m\u001b[0msqrt\u001b[0m\u001b[1;33m(\u001b[0m\u001b[0mDe\u001b[0m\u001b[1;33m)\u001b[0m\u001b[1;33m)\u001b[0m\u001b[1;33m\u001b[0m\u001b[1;33m\u001b[0m\u001b[0m\n\u001b[1;32m---> 16\u001b[1;33m \u001b[0mx4\u001b[0m \u001b[1;33m=\u001b[0m \u001b[1;33m-\u001b[0m\u001b[1;36m2\u001b[0m\u001b[1;33m*\u001b[0m\u001b[0mc\u001b[0m\u001b[1;33m/\u001b[0m\u001b[1;33m(\u001b[0m\u001b[0mb\u001b[0m\u001b[1;33m-\u001b[0m\u001b[0msqrt\u001b[0m\u001b[1;33m(\u001b[0m\u001b[0mDe\u001b[0m\u001b[1;33m)\u001b[0m\u001b[1;33m)\u001b[0m\u001b[1;33m\u001b[0m\u001b[1;33m\u001b[0m\u001b[0m\n\u001b[0m\u001b[0;32m     17\u001b[0m \u001b[1;33m\u001b[0m\u001b[0m\n\u001b[0;32m     18\u001b[0m \u001b[0mprint\u001b[0m\u001b[1;33m(\u001b[0m\u001b[1;34m'x3 = '\u001b[0m\u001b[1;33m,\u001b[0m\u001b[0mx3\u001b[0m\u001b[1;33m)\u001b[0m\u001b[1;33m\u001b[0m\u001b[1;33m\u001b[0m\u001b[0m\n",
      "\u001b[1;31mZeroDivisionError\u001b[0m: float division by zero"
     ]
    }
   ],
   "source": [
    "b = 1e+9 + 1e-9\n",
    "a = 1 ;\n",
    "c = 1 ;\n",
    "\n",
    "from math import sqrt\n",
    "\n",
    "De = b**2 - 4 * a * c\n",
    "\n",
    "x1 = (-b+sqrt(De))/(2*a)\n",
    "x2 = (-b-sqrt(De))/(2*a)\n",
    "\n",
    "print('x1 = ',x1)\n",
    "print('x2 = ',x2)\n",
    "\n",
    "x3 = -2*c/(b+sqrt(De))\n",
    "# x4 = -2*c/(b-sqrt(De))\n",
    "\n",
    "print('x3 = ',x3)"
   ]
  },
  {
   "cell_type": "code",
   "execution_count": null,
   "metadata": {},
   "outputs": [],
   "source": []
  }
 ],
 "metadata": {
  "kernelspec": {
   "display_name": "Python 3",
   "language": "python",
   "name": "python3"
  },
  "language_info": {
   "codemirror_mode": {
    "name": "ipython",
    "version": 3
   },
   "file_extension": ".py",
   "mimetype": "text/x-python",
   "name": "python",
   "nbconvert_exporter": "python",
   "pygments_lexer": "ipython3",
   "version": "3.8.5"
  }
 },
 "nbformat": 4,
 "nbformat_minor": 2
}
