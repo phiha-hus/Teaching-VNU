{
 "cells": [
  {
   "cell_type": "markdown",
   "metadata": {
    "scrolled": true
   },
   "source": [
    "# GIỚI THIỆU SƠ LƯỢC VỀ PYTHON 3 VÀ JUPYTER NOTEBOOK"
   ]
  },
  {
   "cell_type": "markdown",
   "metadata": {},
   "source": [
    "# Basic floating point operations (flops) +, - , * , / , boolean & string"
   ]
  },
  {
   "cell_type": "code",
   "execution_count": null,
   "metadata": {},
   "outputs": [],
   "source": [
    "a = 2 + 3 + 4 - 5\n",
    "print(a)"
   ]
  },
  {
   "cell_type": "code",
   "execution_count": null,
   "metadata": {
    "scrolled": true
   },
   "outputs": [],
   "source": [
    "a * 2"
   ]
  },
  {
   "cell_type": "code",
   "execution_count": null,
   "metadata": {},
   "outputs": [],
   "source": [
    "a**2"
   ]
  },
  {
   "cell_type": "code",
   "execution_count": null,
   "metadata": {},
   "outputs": [],
   "source": [
    "1. + 1 == 3"
   ]
  },
  {
   "cell_type": "code",
   "execution_count": null,
   "metadata": {},
   "outputs": [],
   "source": [
    "1 + 1 != 3"
   ]
  },
  {
   "cell_type": "code",
   "execution_count": null,
   "metadata": {},
   "outputs": [],
   "source": [
    "a = \" I love you\"\n",
    "\n",
    "b = \" and you love me\"\n",
    "\n",
    "a+b\n",
    "\n",
    "\n",
    "# Numerical complexity - Do phuc tap cua thuat toan"
   ]
  },
  {
   "cell_type": "markdown",
   "metadata": {},
   "source": [
    "# Overflow and Underflow"
   ]
  },
  {
   "cell_type": "code",
   "execution_count": 1,
   "metadata": {
    "scrolled": true
   },
   "outputs": [
    {
     "data": {
      "text/plain": [
       "0.0"
      ]
     },
     "execution_count": 1,
     "metadata": {},
     "output_type": "execute_result"
    }
   ],
   "source": [
    "1 + 1e20 - 1e20"
   ]
  },
  {
   "cell_type": "code",
   "execution_count": 2,
   "metadata": {},
   "outputs": [
    {
     "data": {
      "text/plain": [
       "1.0"
      ]
     },
     "execution_count": 2,
     "metadata": {},
     "output_type": "execute_result"
    }
   ],
   "source": [
    "1 + (1e20-1e20)"
   ]
  },
  {
   "cell_type": "code",
   "execution_count": 3,
   "metadata": {},
   "outputs": [
    {
     "data": {
      "text/plain": [
       "1.0"
      ]
     },
     "execution_count": 3,
     "metadata": {},
     "output_type": "execute_result"
    }
   ],
   "source": [
    "1 + 1e14 - 1e14"
   ]
  },
  {
   "cell_type": "code",
   "execution_count": 5,
   "metadata": {},
   "outputs": [
    {
     "name": "stdout",
     "output_type": "stream",
     "text": [
      "Cach sai a =  0.0\n",
      "Cach dung a =  5e-17\n"
     ]
    }
   ],
   "source": [
    "from math import sqrt\n",
    "\n",
    "x = 1e-16   # = 10^{-16}\n",
    "\n",
    "a = sqrt(1+x) - 1     # can bac hai cua (1+x) - 1\n",
    "\n",
    "print('Cach sai a = ', a)\n",
    "\n",
    "#1/a * a                      # Never divide to a number near zero\n",
    "\n",
    "b = x/(sqrt(1+x) + 1)    # vi lien hop cua sqrt(1+x) - 1 chinh la sqrt(1+x) + 1\n",
    "\n",
    "print('Cach dung a = ', b)\n"
   ]
  },
  {
   "cell_type": "markdown",
   "metadata": {},
   "source": [
    "# Input data & print"
   ]
  },
  {
   "cell_type": "code",
   "execution_count": 6,
   "metadata": {},
   "outputs": [
    {
     "name": "stdout",
     "output_type": "stream",
     "text": [
      "22026.465794806703\n",
      "22026.4657948\n",
      "22026.47\n",
      "2.2026466e+04\n"
     ]
    }
   ],
   "source": [
    "from math import e\n",
    "\n",
    "print(e**10)\n",
    "\n",
    "print(format(e**10,'.7f'))    # 7 chu so thap phan\n",
    "\n",
    "print(format(e**10,'.7g'))    # 7 chu so tong cong\n",
    "\n",
    "print(format(e**10,'.7e'))  # 7 chu so thap phan co them luy thua 10\n"
   ]
  },
  {
   "cell_type": "code",
   "execution_count": 7,
   "metadata": {},
   "outputs": [
    {
     "name": "stdout",
     "output_type": "stream",
     "text": [
      "Input a: 12345\n",
      "12345 <class 'str'>\n",
      "12345 <class 'int'>\n",
      "Input b: 123.4566\n",
      "123.4566 <class 'float'>\n"
     ]
    }
   ],
   "source": [
    "# Simple way\n",
    "a = input('Input a: ')\n",
    "print(a,type(a))\n",
    "\n",
    "a = eval(a)      # evaluate\n",
    "print(a,type(a))\n",
    "\n",
    "# Better way\n",
    "b = eval(input('Input b: '))\n",
    "print(b,type(b))"
   ]
  },
  {
   "cell_type": "code",
   "execution_count": 8,
   "metadata": {},
   "outputs": [
    {
     "name": "stdout",
     "output_type": "stream",
     "text": [
      "Enter your Name: Thầy Hà Phi\n",
      "Hello, Thầy Hà Phi\n"
     ]
    }
   ],
   "source": [
    "x = input('Enter your Name: ')\n",
    "print('Hello, ' + x)"
   ]
  },
  {
   "cell_type": "markdown",
   "metadata": {},
   "source": [
    "# Functions & help"
   ]
  },
  {
   "cell_type": "code",
   "execution_count": null,
   "metadata": {},
   "outputs": [],
   "source": [
    "from math import factorial, pi\n",
    "from numpy import sin, cos\n",
    "\n",
    "#help(sin)\n",
    "\n",
    "a = factorial(3)\n",
    "print(a)\n",
    "\n",
    "b = sin(pi/2)\n",
    "print(b)\n",
    "print(cos(b))"
   ]
  },
  {
   "cell_type": "code",
   "execution_count": null,
   "metadata": {},
   "outputs": [],
   "source": [
    "\"\"\"\n",
    "Code nay tim binh phuong cua 1 so a bang phuong phap a**2\n",
    "\"\"\"\n",
    "def bp(a):\n",
    "    b = a**2\n",
    "    return b\n",
    "\n",
    "print(bp(2))\n",
    "\n",
    "\n",
    "mu2 = lambda x: x**2\n",
    "print(mu2(2))"
   ]
  },
  {
   "cell_type": "markdown",
   "metadata": {},
   "source": [
    "# Loops and conditional sentence (if, for, while)"
   ]
  },
  {
   "cell_type": "code",
   "execution_count": 9,
   "metadata": {},
   "outputs": [
    {
     "name": "stdout",
     "output_type": "stream",
     "text": [
      "i =  0  Can bac 2 cua i la  0.0\n",
      "i =  1  Can bac 2 cua i la  1.0\n",
      "i =  4  Can bac 2 cua i la  2.0\n",
      "i =  6  Can bac 2 cua i la  2.449489742783178\n"
     ]
    }
   ],
   "source": [
    "from math import sqrt\n",
    "for i in [0,1,4,6]:\n",
    "    print(\"i = \",i,\" Can bac 2 cua i la \",sqrt(i))   # in Python 3, print must be followed by ()"
   ]
  },
  {
   "cell_type": "code",
   "execution_count": 10,
   "metadata": {},
   "outputs": [
    {
     "name": "stdout",
     "output_type": "stream",
     "text": [
      "i =  1 ==> i^2 =  1\n",
      "i =  3 ==> i^2 =  9\n",
      "i =  5 ==> i^2 =  25\n",
      "i =  7 ==> i^2 =  49\n",
      "i =  9 ==> i^2 =  81\n",
      "i =  11 ==> i^2 =  121\n",
      "i =  13 ==> i^2 =  169\n",
      "i =  15 ==> i^2 =  225\n",
      "i =  17 ==> i^2 =  289\n",
      "i =  19 ==> i^2 =  361\n",
      "i =  21 ==> i^2 =  441\n"
     ]
    }
   ],
   "source": [
    "for i in range(1,22,2):\n",
    "    print(\"i = \",i,\"==> i^2 = \",i*i)\n",
    "\n",
    "#help(range)"
   ]
  },
  {
   "cell_type": "code",
   "execution_count": 13,
   "metadata": {
    "scrolled": false
   },
   "outputs": [
    {
     "name": "stdout",
     "output_type": "stream",
     "text": [
      "i =  0 ---- 1\n",
      "i =  2 ---- 3\n",
      "i =  4 ---- 5\n",
      "i =  6 ---- 36\n",
      "i =  8 ---- 64\n",
      "i =  10 ---- 1000\n",
      "i =  12 ---- 1728\n",
      "i =  14 ---- 2744\n",
      "i =  16 ---- 4096\n",
      "i =  18 ---- 5832\n"
     ]
    }
   ],
   "source": [
    "def sq(t):\n",
    "    return t**2\n",
    "\n",
    "for i in range(0,20,2):\n",
    "    if (i>5) and (i<10):\n",
    "        print(\"i = \",i,\"----\",sq(i))\n",
    "    elif (i>=10):    # Dac biet chu y dau cach o day la loi ngay\n",
    "        print(\"i = \",i,\"----\",i**3)\n",
    "    else:\n",
    "        print(\"i = \",i,\"----\",i+1)"
   ]
  },
  {
   "cell_type": "code",
   "execution_count": 18,
   "metadata": {},
   "outputs": [
    {
     "name": "stdout",
     "output_type": "stream",
     "text": [
      "gia tri ban dau la  1001000.9999999207\n",
      "Gia tri luc sau la:  1075757.4437650377\n"
     ]
    }
   ],
   "source": [
    "# Dung 1 vong lap for de tinh gia tri da thuc\n",
    "\n",
    "# x = 1.001\n",
    "# Tính P(x) = 1 + x + 2x^2 + .... + 1000 x^1000\n",
    "\n",
    "# Kiểm tra nếu P(x) < 1001 thì giảm x đi 0.0001 và tính P(x)\n",
    "# Nếu P(x) > 1001 thì tăng x lên 0.0001 và tính P(x)\n",
    "\n",
    "from numpy import exp\n",
    "\n",
    "x = 1.001\n",
    "m = 1001;\n",
    "n = 1 ; \n",
    "\n",
    "def p(x):\n",
    "    n = 1;\n",
    "    for i in range(1,m):\n",
    "        n += i * x**i\n",
    "    return n\n",
    "    \n",
    "print(\"gia tri ban dau la \",p(x))\n",
    "\n",
    "if (p(x)>1001):\n",
    "    x +=  1e-4\n",
    "else:\n",
    "    x -= 1e-4\n",
    "    \n",
    "print('Gia tri luc sau la: ',p(x))    \n",
    "    \n"
   ]
  },
  {
   "cell_type": "code",
   "execution_count": 28,
   "metadata": {},
   "outputs": [
    {
     "name": "stdout",
     "output_type": "stream",
     "text": [
      "1001000.9999999207\n",
      "1075757.4437650377\n"
     ]
    }
   ],
   "source": [
    "x = 1.001\n",
    "\n",
    "def p(x):\n",
    "    a = 1\n",
    "    for i in range(1, 1001):\n",
    "        a = a + i*(x**i)\n",
    "    return a\n",
    "\n",
    "result = p(x)\n",
    "\n",
    "print(result)\n",
    "\n",
    "if result < 1001:\n",
    "    print(p(x - 0.0001))\n",
    "elif result > 1001:\n",
    "    print(p(x + 0.0001))"
   ]
  },
  {
   "cell_type": "markdown",
   "metadata": {},
   "source": [
    "# while loop for computing machine epsilon"
   ]
  },
  {
   "cell_type": "code",
   "execution_count": 30,
   "metadata": {},
   "outputs": [
    {
     "name": "stdout",
     "output_type": "stream",
     "text": [
      "True\n"
     ]
    }
   ],
   "source": [
    "eps = 1e-100\n",
    "\n",
    "print(1 + eps == 1)\n"
   ]
  },
  {
   "cell_type": "code",
   "execution_count": 34,
   "metadata": {},
   "outputs": [
    {
     "name": "stdout",
     "output_type": "stream",
     "text": [
      "8.881784197001253e-17\n"
     ]
    }
   ],
   "source": [
    "eps = 0.1       # 1 + eps = 1 => eps ~ 0 : machine epsilon\n",
    "\n",
    "while (1+eps) != 1:\n",
    "    \n",
    "    #print(eps);\n",
    "    eps = eps/2;\n",
    "    \n",
    "print(eps)\n"
   ]
  },
  {
   "cell_type": "code",
   "execution_count": 35,
   "metadata": {},
   "outputs": [
    {
     "data": {
      "text/plain": [
       "sys.float_info(max=1.7976931348623157e+308, max_exp=1024, max_10_exp=308, min=2.2250738585072014e-308, min_exp=-1021, min_10_exp=-307, dig=15, mant_dig=53, epsilon=2.220446049250313e-16, radix=2, rounds=1)"
      ]
     },
     "execution_count": 35,
     "metadata": {},
     "output_type": "execute_result"
    }
   ],
   "source": [
    "import sys\n",
    "sys.float_info\n",
    "\n",
    "# Bieu dien dau phay dong - floating point arithmetic\n",
    "# a = +/- mantissa * 10^{exponent}\n"
   ]
  },
  {
   "cell_type": "code",
   "execution_count": null,
   "metadata": {},
   "outputs": [],
   "source": [
    "1.23456789-1.23456788"
   ]
  },
  {
   "cell_type": "code",
   "execution_count": null,
   "metadata": {},
   "outputs": [],
   "source": [
    "a = .1 + .1 + .1\n",
    "print(a)\n",
    "\n",
    "a == .3"
   ]
  },
  {
   "cell_type": "code",
   "execution_count": null,
   "metadata": {},
   "outputs": [],
   "source": [
    "round(.1+.1+.1,1) == round(.3,1)"
   ]
  },
  {
   "cell_type": "code",
   "execution_count": null,
   "metadata": {},
   "outputs": [],
   "source": [
    "from math import pi\n",
    "format(pi, '.12g')  # give 12 significant digits - compare to MATLAB command digits(d)"
   ]
  },
  {
   "cell_type": "code",
   "execution_count": null,
   "metadata": {},
   "outputs": [],
   "source": [
    "format(pi,'.2f')    # give 2 digits after the point"
   ]
  },
  {
   "cell_type": "code",
   "execution_count": null,
   "metadata": {},
   "outputs": [],
   "source": [
    "a = 10\n",
    "print(a,type(a))"
   ]
  },
  {
   "cell_type": "markdown",
   "metadata": {},
   "source": [
    "# Timing a function / procedure"
   ]
  },
  {
   "cell_type": "code",
   "execution_count": 36,
   "metadata": {},
   "outputs": [
    {
     "name": "stdout",
     "output_type": "stream",
     "text": [
      "1\n",
      "4\n",
      "9\n",
      "16\n",
      "25\n",
      "36\n",
      "49\n",
      "64\n",
      "81\n",
      "100\n",
      "121\n",
      "144\n",
      "169\n",
      "196\n",
      "225\n",
      "256\n",
      "289\n",
      "324\n",
      "361\n",
      "400\n",
      "441\n",
      "484\n",
      "529\n",
      "576\n",
      "625\n",
      "676\n",
      "729\n",
      "784\n",
      "841\n",
      "900\n",
      "961\n",
      "1024\n",
      "1089\n",
      "1156\n",
      "1225\n",
      "1296\n",
      "1369\n",
      "1444\n",
      "1521\n",
      "1600\n",
      "1681\n",
      "1764\n",
      "1849\n",
      "1936\n",
      "2025\n",
      "2116\n",
      "2209\n",
      "2304\n",
      "2401\n",
      "2500\n",
      "2601\n",
      "2704\n",
      "2809\n",
      "2916\n",
      "3025\n",
      "3136\n",
      "3249\n",
      "3364\n",
      "3481\n",
      "3600\n",
      "3721\n",
      "3844\n",
      "3969\n",
      "4096\n",
      "4225\n",
      "4356\n",
      "4489\n",
      "4624\n",
      "4761\n",
      "4900\n",
      "5041\n",
      "5184\n",
      "5329\n",
      "5476\n",
      "5625\n",
      "5776\n",
      "5929\n",
      "6084\n",
      "6241\n",
      "6400\n",
      "6561\n",
      "6724\n",
      "6889\n",
      "7056\n",
      "7225\n",
      "7396\n",
      "7569\n",
      "7744\n",
      "7921\n",
      "8100\n",
      "8281\n",
      "8464\n",
      "8649\n",
      "8836\n",
      "9025\n",
      "9216\n",
      "9409\n",
      "9604\n",
      "9801\n",
      "Processing time ----  0.0029153823852539062\n"
     ]
    }
   ],
   "source": [
    "import time\n",
    "tic = time.time()\n",
    "\n",
    "for i in range(1,100,1):\n",
    "    print(i**2)\n",
    "    \n",
    "toc = time.time()\n",
    "print(\"Processing time ---- \",toc-tic)"
   ]
  },
  {
   "cell_type": "markdown",
   "metadata": {},
   "source": [
    "# Arrays & Horner Algorithm"
   ]
  },
  {
   "cell_type": "code",
   "execution_count": null,
   "metadata": {},
   "outputs": [],
   "source": [
    "import numpy as np\n",
    "a = np.array([1, 2, 1])\n",
    "print(len(a),type(a))"
   ]
  },
  {
   "cell_type": "code",
   "execution_count": null,
   "metadata": {},
   "outputs": [],
   "source": [
    "a[1]"
   ]
  },
  {
   "cell_type": "code",
   "execution_count": null,
   "metadata": {
    "scrolled": true
   },
   "outputs": [],
   "source": [
    "a = [0, 1, 2, 3, 4];\n",
    "len(a)\n",
    "a[2:4] = [1, 1, 1]\n",
    "print(a)\n",
    "print(type(a))"
   ]
  },
  {
   "cell_type": "code",
   "execution_count": null,
   "metadata": {},
   "outputs": [],
   "source": [
    "a = [0, 1, 2, 3, 4];\n",
    "print(a[2:4])"
   ]
  },
  {
   "cell_type": "code",
   "execution_count": null,
   "metadata": {},
   "outputs": [],
   "source": [
    "# Horner's algorithm\n",
    "# import numpy as np\n",
    "def horner(a,x):\n",
    "    n = len(a)\n",
    "    s = a[n-1]\n",
    "    \n",
    "    for i in range(2,n+1,1):\n",
    "            s = s * x + a[n-i]\n",
    "    print(s)\n",
    "\n",
    "# test\n",
    "import numpy as np\n",
    "a = np.array([1, 2, 1])\n",
    "len(a)\n",
    "horner(a,3)\n"
   ]
  },
  {
   "cell_type": "code",
   "execution_count": null,
   "metadata": {},
   "outputs": [],
   "source": [
    "n = 7001;\n",
    "px = n;\n",
    "x = 1.1;\n",
    "\n",
    "for k in range(n):\n",
    "    px = px * x + (n-1)\n",
    "    \n",
    "print(\"%10.3e\"%px)\n",
    "    \n",
    "    "
   ]
  },
  {
   "cell_type": "code",
   "execution_count": null,
   "metadata": {},
   "outputs": [],
   "source": [
    "from time import time\n",
    "\n",
    "tic = time()\n",
    "\n",
    "n = 10e+3\n",
    "px = n+1;\n",
    "x = 1.1 \n",
    "\n",
    "for k in range(2,6001):\n",
    "    px += (k+1) * (x**k)\n",
    "\n",
    "#for k in range(6000,2,-1):\n",
    "#    px = px * x + k ; \n",
    "\n",
    "print(px)\n",
    "toc = time()\n",
    "\n",
    "print(toc-tic)"
   ]
  },
  {
   "cell_type": "markdown",
   "metadata": {},
   "source": [
    "# Vẽ hình trong Python"
   ]
  },
  {
   "cell_type": "code",
   "execution_count": 39,
   "metadata": {},
   "outputs": [
    {
     "data": {
      "text/plain": [
       "array([ 0.,  1.,  2.,  3.,  4.,  5.,  6.,  7.,  8.,  9., 10.])"
      ]
     },
     "execution_count": 39,
     "metadata": {},
     "output_type": "execute_result"
    }
   ],
   "source": [
    "from numpy import linspace\n",
    "linspace(0,10,11)\n",
    "\n",
    "\n",
    "# help(linspace)"
   ]
  },
  {
   "cell_type": "code",
   "execution_count": 54,
   "metadata": {},
   "outputs": [
    {
     "data": {
      "image/png": "[encoded data removed]",
      "text/plain": [
       "<Figure size 432x288 with 1 Axes>"
      ]
     },
     "metadata": {
      "needs_background": "light"
     },
     "output_type": "display_data"
    }
   ],
   "source": [
    "import numpy as np\n",
    "import matplotlib.pyplot as plt\n",
    "\n",
    "I = np.linspace(-10,10,1001);\n",
    "# J = sq(I)\n",
    "\n",
    "J = I ** 2\n",
    "K = I**2 + 2 * I \n",
    "# colors: r, b, k, y, m\n",
    "# shape: - , -., *, s, o\n",
    "\n",
    "plt.plot(I,J,'b-.',I,K,'r-');\n",
    "plt.title(\"Do thi cua ham bac 2\")\n",
    "plt.legend([\"x^2\",'x^2+2x'])\n",
    "\n",
    "plt.xlabel('truc hoanh')\n",
    "plt.ylabel('truc tung')\n",
    "\n",
    "plt.grid()    # khong co cung 0 sao\n",
    "plt.show()\n"
   ]
  },
  {
   "cell_type": "code",
   "execution_count": null,
   "metadata": {},
   "outputs": [],
   "source": [
    "import numpy as np\n",
    "import matplotlib.pyplot as plt\n",
    "\n",
    "X = np.linspace(-10,10,101);\n",
    "\n",
    "Y = X**2+1\n",
    "\n",
    "Z = 5 * X**2 + 1 \n",
    "\n",
    "plt.plot(X,Y,'r-.',X,Z,'bs')\n",
    "plt.title('Do thi ham bac 2')\n",
    "\n",
    "plt.xlabel('x')\n",
    "plt.ylabel('y')\n",
    "\n",
    "plt.legend(['x^2+1','5x^2+1'])\n",
    "plt.grid()\n",
    "\n",
    "plt.show()\n"
   ]
  },
  {
   "cell_type": "code",
   "execution_count": 55,
   "metadata": {},
   "outputs": [
    {
     "data": {
      "image/png": "[encoded data removed]",
      "text/plain": [
       "<Figure size 432x288 with 2 Axes>"
      ]
     },
     "metadata": {
      "needs_background": "light"
     },
     "output_type": "display_data"
    }
   ],
   "source": [
    "import numpy as np\n",
    "import matplotlib.pyplot as plt\n",
    "\n",
    "X = np.linspace(-10,10,101);\n",
    "\n",
    "Y = X**2+1\n",
    "\n",
    "Z = 5 * X**2 + 1 \n",
    "\n",
    "plt.subplot(2,2,1)\n",
    "\n",
    "plt.plot(X,Y,'r-.',X,Z,'bs')\n",
    "plt.title('Do thi ham bac 2')\n",
    "\n",
    "plt.xlabel('x')\n",
    "plt.ylabel('y')\n",
    "\n",
    "plt.legend(['x^2+1','5x^2+1'])\n",
    "plt.grid()\n",
    "\n",
    "\n",
    "plt.subplot(2,2,4)\n",
    "\n",
    "plt.plot(X,Y,'r-.',X,Z,'bs')\n",
    "plt.title('Do thi ham bac 2')\n",
    "\n",
    "plt.xlabel('x')\n",
    "plt.ylabel('y')\n",
    "\n",
    "plt.legend(['x^2+1','5x^2+1'])\n",
    "plt.grid()\n",
    "\n",
    "plt.show()\n"
   ]
  },
  {
   "cell_type": "markdown",
   "metadata": {},
   "source": [
    "# Exercises for students"
   ]
  },
  {
   "cell_type": "code",
   "execution_count": null,
   "metadata": {},
   "outputs": [],
   "source": [
    "\"\"\"\n",
    "Function convert length unit in US system to unit in UK system\n",
    "\"\"\"\n",
    "def convert(n,unit1,unit2):\n",
    "    if unit1 == 'm':\n",
    "        n *= 100\n",
    "    elif unit1 == 'mm':\n",
    "        n *= 0.1\n",
    "    elif unit1 == 'km':\n",
    "        n *= 100000\n",
    "    \n",
    "    m = 1;            \n",
    "    \n",
    "    if unit2 == 'foot':\n",
    "        m *= 12\n",
    "    elif unit2 == 'yard':\n",
    "        m *= 36\n",
    "    elif unit2 == 'mile':\n",
    "        m *= 1760 * 36\n",
    "                \n",
    "    value = n/(2.54*m)\n",
    "    return value\n",
    "\n",
    "# Test \n",
    "n = 640; unit1 = 'm'; unit2 = 'inch'\n",
    "value = convert(n,unit1,unit2)\n",
    "print(value)\n"
   ]
  },
  {
   "cell_type": "code",
   "execution_count": null,
   "metadata": {},
   "outputs": [],
   "source": [
    "c = 1490 ;\n",
    "fmin = 1e+4 ; fmax = 2e+4 ;\n",
    "\n",
    "lb_min = c/fmax ; lb_max = c/fmin ;\n",
    "\n",
    "length = 100/lb_min * 20;\n",
    "width = 100/lb_min * 20;\n",
    "height = 10/lb_min * 20 ;\n",
    "\n",
    "grid = length * width * height\n",
    "\n",
    "\n",
    "print(\"%10.3e\"% (grid))"
   ]
  },
  {
   "cell_type": "code",
   "execution_count": null,
   "metadata": {},
   "outputs": [],
   "source": [
    "# These are exercises No 3 and No 4 of Week 1\n",
    "\n",
    "c1 = 1490 ; c2 = 3000 ; \n",
    "fmin = 1e+4 ; fmax = 2e+4 ;\n",
    "\n",
    "def grid_size(c):\n",
    "    lb = c/fmax ; \n",
    "    length = 100/lb * 20;\n",
    "    width = 100/lb * 20;\n",
    "    height = 5/lb * 20 ;\n",
    "    value = length * width * height ;\n",
    "    return value\n",
    "\n",
    "#print(\"%10.3e\"% grid_size(c1))\n",
    "\n",
    "grid  = grid_size(c1) + grid_size(c2) ; \n",
    "print(\"%10.3e\"% (grid))\n",
    "\n",
    "memory = grid * 8\n",
    "print(\"%10.3e\"% (memory))"
   ]
  },
  {
   "cell_type": "code",
   "execution_count": null,
   "metadata": {},
   "outputs": [],
   "source": []
  }
 ],
 "metadata": {
  "kernelspec": {
   "display_name": "Python 3",
   "language": "python",
   "name": "python3"
  },
  "language_info": {
   "codemirror_mode": {
    "name": "ipython",
    "version": 3
   },
   "file_extension": ".py",
   "mimetype": "text/x-python",
   "name": "python",
   "nbconvert_exporter": "python",
   "pygments_lexer": "ipython3",
   "version": "3.8.5"
  }
 },
 "nbformat": 4,
 "nbformat_minor": 2
}
