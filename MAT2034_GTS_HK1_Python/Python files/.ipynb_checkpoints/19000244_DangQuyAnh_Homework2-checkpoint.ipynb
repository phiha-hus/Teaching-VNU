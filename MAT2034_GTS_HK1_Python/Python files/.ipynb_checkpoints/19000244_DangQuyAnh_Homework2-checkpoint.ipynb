{
 "cells": [
  {
   "cell_type": "code",
   "execution_count": null,
   "metadata": {
    "executionInfo": {
     "elapsed": 8,
     "status": "ok",
     "timestamp": 1633277481516,
     "user": {
      "displayName": "Phi Ha",
      "photoUrl": "https://lh3.googleusercontent.com/a-/AOh14GjGkfj5BZoAbChMdX51WwgDyV1IoEyakbHjvKeA=s64",
      "userId": "18400087595458265808"
     },
     "user_tz": -420
    },
    "id": "dd8f3833"
   },
   "outputs": [],
   "source": [
    "# Import package that used in the assigment\n",
    "import numpy as np\n",
    "import scipy.linalg as linalg"
   ]
  },
  {
   "cell_type": "markdown",
   "metadata": {
    "id": "eba4cda5"
   },
   "source": [
    "# Câu 1"
   ]
  },
  {
   "cell_type": "code",
   "execution_count": null,
   "metadata": {
    "executionInfo": {
     "elapsed": 1102,
     "status": "ok",
     "timestamp": 1633277481515,
     "user": {
      "displayName": "Phi Ha",
      "photoUrl": "https://lh3.googleusercontent.com/a-/AOh14GjGkfj5BZoAbChMdX51WwgDyV1IoEyakbHjvKeA=s64",
      "userId": "18400087595458265808"
     },
     "user_tz": -420
    },
    "id": "d3902d76"
   },
   "outputs": [],
   "source": [
    "def generate_matrix(t):\n",
    "    \"\"\"\n",
    "    Args:\n",
    "        t: represent to value t in matrix [[1, t], [t, 1+t^2]]\n",
    "    Returns:\n",
    "        matrix: a matrix corresponding to input\n",
    "    \"\"\"\n",
    "    \n",
    "    matrix = [[1, t], [t, 1 + t**2]]\n",
    "    \n",
    "    return np.array(matrix)"
   ]
  },
  {
   "cell_type": "code",
   "execution_count": null,
   "metadata": {
    "colab": {
     "base_uri": "https://localhost:8080/"
    },
    "executionInfo": {
     "elapsed": 7,
     "status": "ok",
     "timestamp": 1633277481516,
     "user": {
      "displayName": "Phi Ha",
      "photoUrl": "https://lh3.googleusercontent.com/a-/AOh14GjGkfj5BZoAbChMdX51WwgDyV1IoEyakbHjvKeA=s64",
      "userId": "18400087595458265808"
     },
     "user_tz": -420
    },
    "id": "32dd4ee9",
    "outputId": "3bfa6146-04a2-4b8a-e6bd-a69bfd67b144"
   },
   "outputs": [],
   "source": [
    "start = 100\n",
    "end = 1000\n",
    "step = 100\n",
    "\n",
    "for t in range(start, end+1, step):\n",
    "    # Take matrix\n",
    "    matrix = generate_matrix(t)\n",
    "    \n",
    "    # Calculate norm 1, 2, infty\n",
    "    norm1 = np.linalg.norm(matrix, ord=1)\n",
    "    norm2 = np.linalg.norm(matrix, ord=2)\n",
    "    normInfty = np.linalg.norm(matrix, ord=np.inf)\n",
    "    \n",
    "    # Calculate conditioning\n",
    "    conditioning = np.linalg.cond(matrix)\n",
    "    \n",
    "    # print\n",
    "    print(f\"t = {t} \\nMatrix: \\n{matrix} \\nConditioning: {conditioning}\")\n",
    "    print(f\"Norm 1: {norm1}\\nNorm 2: {norm2}\\nNorm Infinity: {normInfty}\\n\\n\")"
   ]
  },
  {
   "cell_type": "markdown",
   "metadata": {
    "id": "229663b8"
   },
   "source": [
    "# Câu 2"
   ]
  },
  {
   "cell_type": "code",
   "execution_count": null,
   "metadata": {
    "id": "e175b98a"
   },
   "outputs": [],
   "source": [
    "def hermit_matrix(n):\n",
    "    \"\"\"\n",
    "    Args:\n",
    "        n: degree of hermit matrix\n",
    "    Output:\n",
    "        matrix: hermit matrix that corresponding to n\n",
    "    \"\"\"\n",
    "    \n",
    "    # Create zero matrix with dimensions nxn\n",
    "    matrix = np.zeros((n, n))\n",
    "    \n",
    "    # Update value in hermit matrix\n",
    "    for row in range(n):\n",
    "        for col in range(n):\n",
    "            matrix[row, col] = (1 / (row + col + 1)) ** n\n",
    "    \n",
    "    return matrix"
   ]
  },
  {
   "cell_type": "code",
   "execution_count": null,
   "metadata": {
    "id": "7545c3aa",
    "outputId": "4a58f70e-b042-4aab-cdaa-38dfde067d96"
   },
   "outputs": [],
   "source": [
    "# Test function\n",
    "hermit5 = hermit_matrix(5)\n",
    "hermit12 = hermit_matrix(12)\n",
    "\n",
    "# Calculte norm\n",
    "matrix_list = [hermit5, hermit12]\n",
    "# Loop and calculate\n",
    "for matrix in matrix_list:\n",
    "    \n",
    "    # Calculate norm 1, 2, infty\n",
    "    norm1 = np.linalg.norm(matrix, ord=1)\n",
    "    norm2 = np.linalg.norm(matrix, ord=2)\n",
    "    normInfty = np.linalg.norm(matrix, ord=np.inf)\n",
    "    \n",
    "    # Calculate conditioning\n",
    "    conditioning = np.linalg.cond(matrix)\n",
    "    \n",
    "    # print\n",
    "    print(f\"Matrix: \\n{matrix} \\nConditioning: {conditioning}\")\n",
    "    print(f\"Norm 1: {norm1}\\nNorm 2: {norm2}\\nNorm Infinity: {normInfty}\\n\\n\")"
   ]
  },
  {
   "cell_type": "markdown",
   "metadata": {
    "id": "a111eeb8"
   },
   "source": [
    "# Câu 3\n",
    "\n",
    "a) Hãy sử dụng phương pháp khử Gauss trong lý thuyết để tìm phân tích LU\n",
    "và giải hệ phương trình sau\n",
    "\n",
    "\\begin{align*}\n",
    "    2x_1 + 4x_2 + 3x_3 &= 3 \\\\\n",
    "    3x_1 + x_2 - 2x_3 &= 3 \\\\\n",
    "    4x_1 + 11x_2 + 7x_3 &= 4\n",
    "\\end{align*}"
   ]
  },
  {
   "cell_type": "markdown",
   "metadata": {
    "id": "f9261d9a"
   },
   "source": [
    "Ta có: \n",
    "\n",
    "$$\n",
    "A\n",
    "=\n",
    "\\begin{bmatrix}\n",
    "2 & 4 & 3 & 3  \\\\\n",
    "3 & 1 & -2 & 3  \\\\\n",
    "4 & 11 & 7 & 4 \n",
    "\\end{bmatrix}\n",
    "$$\n",
    "\n",
    "$\n",
    "H_2 = H_2 - \\frac32 H_1 \\\n",
    "H_3 = H_3 - 2H_1\n",
    "$\n",
    "\n",
    "$$\n",
    "=\n",
    "\\begin{bmatrix}\n",
    "2 & 4 & 3 & 3  \\\\\n",
    "0 & -5 & -\\frac{13}{2} & -\\frac32  \\\\\n",
    "0 & 3 & 1 & -2 \n",
    "\\end{bmatrix}\n",
    "$$\n",
    "\n",
    "$H_3 = H_3 + \\frac35 H_2$\n",
    "\n",
    "$$\n",
    "=\n",
    "\\begin{bmatrix}\n",
    "2 & 4 & 3 & 3  \\\\\n",
    "0 & -5 & -\\frac{13}{2} & -\\frac32  \\\\\n",
    "0 & 0 & -\\frac{29}{10} & -\\frac{29}{10}\n",
    "\\end{bmatrix}\n",
    "$$\n",
    "\n",
    "$\\Rightarrow x_3=1, x_2=-1, x_1=2$\n",
    "\n",
    "$$\n",
    "L_1 = \n",
    "\\begin{bmatrix}\n",
    "1 & 0 & 0   \\\\\n",
    "-\\frac32 & 1 & 0  \\\\\n",
    "-2 & 0 & 1\n",
    "\\end{bmatrix}\n",
    "$$\n",
    "\n",
    "$$\n",
    "L_2 = \n",
    "\\begin{bmatrix}\n",
    "1 & 0 & 0   \\\\\n",
    "0 & 1 & 0  \\\\\n",
    "0 & \\frac35 & 1\n",
    "\\end{bmatrix}\n",
    "$$\n",
    "\n",
    "\n",
    "$$\n",
    "L = (L_1 L_2)^{-1}\n",
    "=\n",
    "\\begin{bmatrix}\n",
    "1 & 0 & 0   \\\\\n",
    "\\frac32 & 1 & 0  \\\\\n",
    "2 & -\\frac35 & 1\n",
    "\\end{bmatrix}\n",
    "$$\n",
    "\n",
    "$$\n",
    "U =\n",
    "\\begin{bmatrix}\n",
    "2 & 4 & 3  \\\\\n",
    "0 & -5 & -\\frac{13}{2} \\\\\n",
    "0 & 0 & -\\frac{29}{10} \n",
    "\\end{bmatrix}\n",
    "$$"
   ]
  },
  {
   "cell_type": "code",
   "execution_count": null,
   "metadata": {
    "id": "40b7aac8",
    "outputId": "4d600fc4-ad4a-4767-8e24-057508637b76"
   },
   "outputs": [],
   "source": [
    "# Test\n",
    "L = [[1, 0, 0], [3 / 2, 1, 0], [2, -3 / 5, 1]]\n",
    "U = [[2, 4, 3], [0, -5, -13 / 2], [0, 0, -29 / 10]]\n",
    "L = np.array(L)\n",
    "U = np.array(U)\n",
    "\n",
    "np.dot(L, U)"
   ]
  },
  {
   "cell_type": "markdown",
   "metadata": {
    "id": "33118662"
   },
   "source": [
    "## b\n",
    "\n",
    "**Thực hành:** Viết hàm trong Python để tìm phân tích $A = LU$ và giải hệ phương trình $Ax = b$ ở trên. So sánh kết quả của các em với cách giải sử dụng toolbox linalg trong Python."
   ]
  },
  {
   "cell_type": "code",
   "execution_count": null,
   "metadata": {
    "id": "60ce3c41",
    "outputId": "97823481-24a4-4eb7-c4ed-a3d6a74216e1"
   },
   "outputs": [],
   "source": [
    "A = [[2, 4, 3], [3, 1, -2], [4, 11, 7]]\n",
    "A = np.array(A, dtype=float)\n",
    "b = [3, 3, 4]\n",
    "\n",
    "def LUdecomp(A):\n",
    "    \"\"\"\n",
    "    Args:\n",
    "        A: a nxn matrix\n",
    "    Return: \n",
    "        L: lower triangular matrix\n",
    "        U: uper triangular matrix\n",
    "    Note: A = LU\n",
    "    \"\"\"\n",
    "    \n",
    "    # Initialize L is an unit matrix\n",
    "    L = np.eye(3)\n",
    "    n = len(A)\n",
    "    \n",
    "    # Loop and use gauss elimation\n",
    "    for col in range(n-1):\n",
    "        for row in range(col + 1, n):\n",
    "            if A[row, col] != 0:\n",
    "                lam = A[row, col] / A[col, col]\n",
    "                A[row, col:n] = A[row, col:n] - lam * A[col, col:n]\n",
    "                L[row, col] = lam\n",
    "    \n",
    "    return L, A\n",
    "\n",
    "L, U = LUdecomp(A)\n",
    "print(f\"L: \\n{L} \\nU: \\n{U}\")\n",
    "\n",
    "def solve(L, U, b):\n",
    "    \"\"\"\n",
    "    Args:\n",
    "        L: a lower triangle matrix\n",
    "        U: a upper triangle matrix\n",
    "        b: a vector\n",
    "    Return:\n",
    "        Solution of Ax = b, where A = L * U\n",
    "    \"\"\"   \n",
    "    n = len(L)\n",
    "    \n",
    "    # Because A=LU, Ax=b <-> LUx=b. Assign Ux=y, we will solve Ly=b, then Ux=y\n",
    "    \n",
    "    # Solve Ly=b\n",
    "    for idx in range(1, n):\n",
    "        b[idx] = b[idx] - np.dot(L[idx, 0:idx], b[0:idx])\n",
    "    \n",
    "    # Solve Ux = y\n",
    "    b[n-1] = b[n-1] / U[n-1, n-1]\n",
    "    for idx in range(n-2, -1, -1):\n",
    "        b[idx] = (b[idx] - np.dot(U[idx, idx+1:n], b[idx+1 : n])) / U[idx, idx]\n",
    "    \n",
    "    return b\n",
    "\n",
    "solve(L, U, b)"
   ]
  },
  {
   "cell_type": "code",
   "execution_count": null,
   "metadata": {
    "id": "cbd11cfd",
    "outputId": "f6ac5761-8c0b-4286-f3eb-013801a7865f"
   },
   "outputs": [],
   "source": [
    "# Use tool\n",
    "A = [[2, 4, 3], [3, 1, -2], [4, 11, 7]]\n",
    "A = np.array(A, dtype=float)\n",
    "b = [3, 3, 4]\n",
    "np.linalg.solve(A, b)"
   ]
  },
  {
   "cell_type": "markdown",
   "metadata": {
    "id": "bf95e5e3"
   },
   "source": [
    "# Câu 4"
   ]
  },
  {
   "cell_type": "code",
   "execution_count": 3,
   "metadata": {
    "id": "91dc1be8"
   },
   "outputs": [
    {
     "data": {
      "text/plain": [
       "array([30.,  4., 73.])"
      ]
     },
     "execution_count": 3,
     "metadata": {},
     "output_type": "execute_result"
    }
   ],
   "source": [
    "import numpy as np\n",
    "from numpy import dot\n",
    "\n",
    "A = [[2, 4, 3], [3, 1, -2], [4, 11, 7]]\n",
    "A = np.array(A, dtype=float)\n",
    "b = [3, 3, 4]\n",
    "\n",
    "\n",
    "dot(A,b)\n",
    "\n",
    "A@b"
   ]
  },
  {
   "cell_type": "code",
   "execution_count": null,
   "metadata": {
    "id": "e42e8eb7"
   },
   "outputs": [],
   "source": []
  },
  {
   "cell_type": "code",
   "execution_count": null,
   "metadata": {
    "id": "815e2ff0"
   },
   "outputs": [],
   "source": []
  },
  {
   "cell_type": "code",
   "execution_count": null,
   "metadata": {
    "id": "4d48a731"
   },
   "outputs": [],
   "source": []
  },
  {
   "cell_type": "markdown",
   "metadata": {
    "id": "7b821149"
   },
   "source": [
    "# Câu 5\n",
    "\n",
    "Tìm hiểu các ma trận Pascal, Leslie và Van der Monde trong module `scipy.linalg`. Tìm các phân tích LU và PLU của chúng, ứng với các ma trận cỡ 3 × 3 hoặc 4 × 4.\n",
    "\n",
    "## Pascal matrix"
   ]
  },
  {
   "cell_type": "code",
   "execution_count": null,
   "metadata": {
    "id": "dc216b74",
    "outputId": "0a9ebc1a-3cbe-4122-f9d7-98f3cce5e3f4"
   },
   "outputs": [],
   "source": [
    "# Pascal Matrix \n",
    "pascal3 = linalg.pascal(3)\n",
    "\n",
    "# LU \n",
    "linalg.lu(pascal3, permute_l=True)    # if you decomposite to PLU, change permute_l=False"
   ]
  },
  {
   "cell_type": "code",
   "execution_count": null,
   "metadata": {
    "id": "95d3765a",
    "outputId": "5aaf40b7-9499-477c-ddc8-1bfed2f79239"
   },
   "outputs": [],
   "source": [
    "# Pascal Matrix \n",
    "pascal4 = linalg.pascal(4)\n",
    "\n",
    "# LU \n",
    "linalg.lu(pascal4, permute_l=True)    # if you decomposite to PLU, change permute_l=False"
   ]
  },
  {
   "cell_type": "markdown",
   "metadata": {
    "id": "68e63c0a"
   },
   "source": [
    "## Leslie matrix"
   ]
  },
  {
   "cell_type": "code",
   "execution_count": null,
   "metadata": {
    "id": "eedba4a3",
    "outputId": "db2919e6-fab6-4d03-c7f2-58ccfa09643b"
   },
   "outputs": [],
   "source": [
    "# Leslie matrix\n",
    "leslie3 = linalg.leslie([0.1, 2.0, 1.0], [0.2, 0.8])\n",
    "\n",
    "# LU \n",
    "linalg.lu(leslie3, permute_l=True)    # if you decomposite to PLU, change permute_l=False"
   ]
  },
  {
   "cell_type": "code",
   "execution_count": null,
   "metadata": {
    "id": "2bd48f14",
    "outputId": "7e0f64f5-23ff-4c3c-8254-d7e7e1b8e235"
   },
   "outputs": [],
   "source": [
    "# Leslie matrix\n",
    "leslie4 = linalg.leslie([0.1, 2.0, 1.0, 0.1], [0.2, 0.8, 0.7])\n",
    "\n",
    "# LU \n",
    "linalg.lu(leslie4, permute_l=True)    # if you decomposite to PLU, change permute_l=False"
   ]
  },
  {
   "cell_type": "markdown",
   "metadata": {
    "id": "37f9b852"
   },
   "source": [
    "## Van der Monde matrix "
   ]
  },
  {
   "cell_type": "code",
   "execution_count": null,
   "metadata": {
    "id": "ce463bda",
    "outputId": "2013d8b1-9f7f-4c6a-ccf9-d73dfac73f0d"
   },
   "outputs": [],
   "source": [
    "# Vandermode matrix\n",
    "vander3 = np.vander([1, 2, 3])\n",
    "\n",
    "# LU \n",
    "linalg.lu(vander3, permute_l=True)    # if you decomposite to PLU, change permute_l=False"
   ]
  },
  {
   "cell_type": "code",
   "execution_count": null,
   "metadata": {
    "id": "4a89e773",
    "outputId": "3a4831eb-a377-4710-d701-32e3d1c7cd07"
   },
   "outputs": [],
   "source": [
    "# Vandermode matrix\n",
    "vander4 = np.vander([1, 2, 3, 4])\n",
    "\n",
    "# LU \n",
    "linalg.lu(vander4, permute_l=True)    # if you decomposite to PLU, change permute_l=False"
   ]
  },
  {
   "cell_type": "markdown",
   "metadata": {
    "id": "96956488"
   },
   "source": [
    "# Câu 6\n",
    "\n",
    "Tìm các phân tích PLU của các ma trận A dưới đây và giải hệ phương trình vi phân tương ứng, với b là random vector, làm tròn 4 chữ số thập phân khi tính toán bằng tay.\n",
    "\n",
    "(i) $$ \n",
    "A = \n",
    "\\begin{bmatrix}\n",
    "4 & -1 & -2 \\\\\n",
    "-1 & 4 & -1 \\\\\n",
    "-1 & -2 & 4\n",
    "\\end{bmatrix}\n",
    "$$"
   ]
  },
  {
   "cell_type": "code",
   "execution_count": null,
   "metadata": {
    "id": "1832dcae",
    "outputId": "7626b513-ec09-4d65-806d-89e6d547f8d1"
   },
   "outputs": [],
   "source": [
    "# Initialize\n",
    "A = [[4, -1, -2], [-1, 4, -1], [-1, -2, 4]]\n",
    "b = np.random.randint(10, size=3)\n",
    "A = np.array(A)\n",
    "print(f\"Ax' = b, where \\nA = {A}, \\nb = {b}\\n\\n\")\n",
    "\n",
    "# PLU decomposition\n",
    "P, L, U = linalg.lu(A)\n",
    "print(f\"P matrix: \\n{P} \\nL matrix: \\n{L} \\nU matrix: \\n{U}\")\n",
    "\n",
    "# Solve\n",
    "LU, pivot = linalg.lu_factor(A) # another presentation of PLU decomposition\n",
    "print(f\"\\n\\nLU matrix: \\n{LU} \\npivot: {pivot}\")\n",
    "x = linalg.lu_solve((LU, pivot), b)\n",
    "\n",
    "# Print\n",
    "print(\"\\n\\nx' = \", np.round(x, 4))"
   ]
  },
  {
   "cell_type": "markdown",
   "metadata": {
    "id": "3c9f4627"
   },
   "source": [
    "(ii) $$ \n",
    "A = \n",
    "\\begin{bmatrix}\n",
    "3 & 1 & -1 \\\\\n",
    "-1 & 4 & 1 \\\\\n",
    "2 & -1 & 6\n",
    "\\end{bmatrix}\n",
    "$$"
   ]
  },
  {
   "cell_type": "code",
   "execution_count": null,
   "metadata": {
    "id": "ae25df51",
    "outputId": "f6cacdcf-bff3-42c2-86fb-4cb6aec4d231"
   },
   "outputs": [],
   "source": [
    "# Initialize\n",
    "A = [[3, 1, -1], [-1, 4, 1], [2, -1, 6]]\n",
    "b = np.random.randint(10, size=3)\n",
    "A = np.array(A)\n",
    "print(f\"Ax' = b, where \\nA = {A}, \\nb = {b}\\n\\n\")\n",
    "\n",
    "# PLU decomposition\n",
    "P, L, U = linalg.lu(A)\n",
    "print(f\"P matrix: \\n{P} \\nL matrix: \\n{L} \\nU matrix: \\n{U}\")\n",
    "\n",
    "# Solve\n",
    "LU, pivot = linalg.lu_factor(A) # another presentation of PLU decomposition\n",
    "print(f\"\\n\\nLU matrix: \\n{LU} \\npivot: {pivot}\")\n",
    "x = linalg.lu_solve((LU, pivot), b)\n",
    "\n",
    "# Print\n",
    "print(\"\\n\\nx' = \", np.round(x, 4))"
   ]
  },
  {
   "cell_type": "markdown",
   "metadata": {
    "id": "74cd0b90"
   },
   "source": [
    "(iii) $$ \n",
    "A = \n",
    "\\begin{bmatrix}\n",
    "0 & 1 & 0 & 0 \\\\\n",
    "2 & 0 & 1 & 0 \\\\\n",
    "0 & 2 & 0 & 1 \\\\\n",
    "0 & 0 & 2 & 0\n",
    "\\end{bmatrix}\n",
    "$$"
   ]
  },
  {
   "cell_type": "code",
   "execution_count": null,
   "metadata": {
    "id": "eb1b675a",
    "outputId": "3ba5c00a-9402-4e85-d72a-22419aeeb5e2"
   },
   "outputs": [],
   "source": [
    "# Initialize\n",
    "A = [[0, 1, 0, 0], [2, 0, 1, 0], [0, 2, 0, 1], [0, 0, 2, 0]]\n",
    "b = np.random.randint(10, size=4)\n",
    "A = np.array(A)\n",
    "print(f\"Ax' = b, where \\nA = {A}, \\nb = {b}\\n\\n\")\n",
    "\n",
    "# PLU decomposition\n",
    "P, L, U = linalg.lu(A)\n",
    "print(f\"P matrix: \\n{P} \\nL matrix: \\n{L} \\nU matrix: \\n{U}\")\n",
    "\n",
    "# Solve\n",
    "LU, pivot = linalg.lu_factor(A) # another presentation of PLU decomposition\n",
    "print(f\"\\n\\nLU matrix: \\n{LU} \\npivot: {pivot}\")\n",
    "x = linalg.lu_solve((LU, pivot), b)\n",
    "\n",
    "# Print\n",
    "print(\"\\n\\nx' = \", np.round(x, 4))"
   ]
  },
  {
   "cell_type": "markdown",
   "metadata": {
    "id": "d26102d6"
   },
   "source": [
    "(iv) $$ \n",
    "A = \n",
    "\\begin{bmatrix}\n",
    "2 & 2 & 0 & 0 \\\\\n",
    "2 & 2 & 1 & 0 \\\\\n",
    "1 & 1 & 0 & 2 \\\\\n",
    "0 & 1 & 0 & 0\n",
    "\\end{bmatrix}\n",
    "$$"
   ]
  },
  {
   "cell_type": "code",
   "execution_count": null,
   "metadata": {
    "id": "7b2f0832",
    "outputId": "68b09f66-259c-4d3e-aa93-025543301279"
   },
   "outputs": [],
   "source": [
    "# Initialize\n",
    "A = [[2, 2, 0, 0], [2, 2, 1, 0], [1, 1, 0, 2], [0, 1, 0, 0]]\n",
    "b = np.random.randint(10, size=4)\n",
    "A = np.array(A)\n",
    "print(f\"Ax' = b, where \\nA = {A}, \\nb = {b}\\n\\n\")\n",
    "\n",
    "# PLU decomposition\n",
    "P, L, U = linalg.lu(A)\n",
    "print(f\"P matrix: \\n{P} \\nL matrix: \\n{L} \\nU matrix: \\n{U}\")\n",
    "\n",
    "# Solve\n",
    "LU, pivot = linalg.lu_factor(A) # another presentation of PLU decomposition\n",
    "print(f\"\\n\\nLU matrix: \\n{LU} \\npivot: {pivot}\")\n",
    "x = linalg.lu_solve((LU, pivot), b)\n",
    "\n",
    "# Print\n",
    "print(\"\\n\\nx' = \", np.round(x, 4))"
   ]
  },
  {
   "cell_type": "markdown",
   "metadata": {
    "id": "ad4bd51a"
   },
   "source": [
    "# Câu 7\n",
    "\n",
    "Trong trường hợp ma trận A là đối xứng, xác định dương thì phương pháp Cholesky thường được sử dụng. Hãy đọc phương pháp này trang 116-120 (Giáo trình ĐHBK) hoặc Section 2.4 (Giáo trình Kiusalass) và tìm hiểu hàm `numpy.linalg.cholesky` trong Python. Áp dụng để giải hệ phương trình sau đối với vế phải b lần lượt bằng $[2, 3, 0]^T$ và $[2, 5, -2]^T$\n",
    "\n",
    "\\begin{align*}\n",
    "    4x_1 + -2x_2 + 4x_3 &= b_1 \\\\\n",
    "    -2x_1 + 5x_2 - 4x_3 &= b_2 \\\\\n",
    "    4x_1 + -4x_2 + 6x_3 &= b_3\n",
    "\\end{align*}"
   ]
  },
  {
   "cell_type": "code",
   "execution_count": null,
   "metadata": {
    "id": "4bcb1642",
    "outputId": "7ffcded3-09ed-4c4a-803c-6a2cb85d81ab"
   },
   "outputs": [],
   "source": [
    "# Initialize matrix and vector\n",
    "A = [[4, -2, 4], [-2, 5, -4], [4, -4, 6]]\n",
    "A = np.array(A)\n",
    "b1 = [2, 3, 0]\n",
    "b2 = [2, 5, -2]\n",
    "\n",
    "# Decomposition using cholesky method\n",
    "L = np.linalg.cholesky(A)\n",
    "\n",
    "# Implement function for solving algebric equation\n",
    "def solve(L, b):\n",
    "    \"\"\"\n",
    "    Args:\n",
    "        L: a lower triangle matrix is decomposited using cholesky method\n",
    "        b: a vector\n",
    "    Return:\n",
    "        Solution of Ax = b, where A = L * L.T\n",
    "    \"\"\"    \n",
    "    n = len(L)\n",
    "    \n",
    "    # Solve Ly=b\n",
    "    for idx in range(0, n):\n",
    "        b[idx] = (b[idx] - np.dot(L[idx, 0:idx], b[0:idx])) / L[idx, idx]\n",
    "    \n",
    "    # Solve L.Tx = y\n",
    "    LT = L.T\n",
    "    b[n-1] = b[n-1] / U[n-1, n-1]\n",
    "    for idx in range(n-2, -1, -1):\n",
    "        b[idx] = (b[idx] - np.dot(LT[idx, idx+1:n], b[idx+1 : n])) / LT[idx, idx]\n",
    "    \n",
    "    return b\n",
    "\n",
    "# Using implemented function for solving\n",
    "x = solve(L, b1)\n",
    "y = solve(L, b2)\n",
    "print(f\"x = {x} \\ny = {y}\")"
   ]
  },
  {
   "cell_type": "code",
   "execution_count": null,
   "metadata": {
    "id": "69ebcd29",
    "outputId": "ac20a2f1-ad1e-43a9-c2f1-22f650ff7a40"
   },
   "outputs": [],
   "source": [
    "# Using library to solve\n",
    "\n",
    "b1 = [2, 3, 0]\n",
    "b2 = [2, 5, -2]\n",
    "\n",
    "x = np.linalg.solve(A, b1)\n",
    "y= np.linalg.solve(A, b2)\n",
    "print(f\"x = {x} \\ny = {y}\")"
   ]
  }
 ],
 "metadata": {
  "colab": {
   "name": "19000244_DangQuyAnh_Homework2.ipynb",
   "provenance": []
  },
  "kernelspec": {
   "display_name": "Python 3",
   "language": "python",
   "name": "python3"
  },
  "language_info": {
   "codemirror_mode": {
    "name": "ipython",
    "version": 3
   },
   "file_extension": ".py",
   "mimetype": "text/x-python",
   "name": "python",
   "nbconvert_exporter": "python",
   "pygments_lexer": "ipython3",
   "version": "3.8.5"
  }
 },
 "nbformat": 4,
 "nbformat_minor": 5
}
