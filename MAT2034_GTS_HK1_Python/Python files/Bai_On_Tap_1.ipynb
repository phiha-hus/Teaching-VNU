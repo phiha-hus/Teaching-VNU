{
 "cells": [
  {
   "cell_type": "code",
   "execution_count": 57,
   "id": "aaea6913",
   "metadata": {},
   "outputs": [],
   "source": [
    "import numpy as np\n",
    "import copy\n",
    "\n",
    "def div_diff(x, y):    \n",
    "    n = len(x)\n",
    "    coef = y.copy()\n",
    "    for i in range(1,n):\n",
    "        coef[i:n] = (coef[i:n] - coef[i-1]) / (x[i:n] - x[i-1])\n",
    "    return coef\n",
    "\n",
    "def poly_eval(x,y,z):    \n",
    "    n = len(x) ;\n",
    "    c = div_diff(x,y) ;\n",
    "    p = c[0];\n",
    "    r = 1;\n",
    "    for i in range(1,n):\n",
    "        r *= z - x[i-1] ;\n",
    "        p += c[i] * r\n",
    "    return p"
   ]
  },
  {
   "cell_type": "code",
   "execution_count": 91,
   "id": "0579014b",
   "metadata": {},
   "outputs": [],
   "source": [
    "import numpy as np\n",
    "import scipy as sp\n",
    "\n",
    "#f = lambda x: x**2 + (1/(1+25*x**2)) * np.sin(x)\n",
    "#x = np.array([1.0, 1.3, 1.6, 1.9, 2.2, 2.5])\n",
    "#print(f(x))\n",
    "\n",
    "f = lambda x: x**4 + 2*x + 1\n",
    "\n",
    "a, b, n = 0, 3, 4\n",
    "x_data = np.linspace(a,b,n)\n",
    "#print(x_data)\n",
    "y_data = f(x_data)\n",
    "\n",
    "z = np.array([x_data[1], x_data[n-2]]) + np.sqrt(2) * 1e-6"
   ]
  },
  {
   "cell_type": "code",
   "execution_count": 105,
   "id": "c3c8f138",
   "metadata": {},
   "outputs": [],
   "source": [
    "def forward_Newton(x_data,y_data,z):\n",
    "    import numpy as np\n",
    "    # Test forward Newton interpolation and error\n",
    "    c= div_diff(x_data,y_data)\n",
    "    fz = poly_eval(x_data,y_data,z)\n",
    "    return fz\n",
    "    \n",
    "def backward_Newton(x_data,y_data,z):\n",
    "    import numpy as np\n",
    "    # Test backward Newton interpolation and error\n",
    "    x_data = np.flip(x_data)\n",
    "    #print(x_data)\n",
    "    y_data = np.flip(y_data)\n",
    "    c= div_diff(x_data,y_data)\n",
    "    fz = poly_eval(x_data,y_data,z)\n",
    "    return fz\n",
    "    \n",
    "def compare_forward_backward_Newton(x_data,y_data,z):\n",
    "    fz_exact = f(z)\n",
    "    #print(x_data)\n",
    "    fz = forward_Newton(x_data,y_data,z)\n",
    "    err_1 = fz-fz_exact\n",
    "\n",
    "    fz = backward_Newton(x_data,y_data,z)\n",
    "    #print(x_data)\n",
    "    err_2 = fz-fz_exact\n",
    "    err_2 = np.flip(err_2)\n",
    "    \n",
    "    return err_1, err_2"
   ]
  },
  {
   "cell_type": "code",
   "execution_count": 106,
   "id": "7717fcda",
   "metadata": {},
   "outputs": [
    {
     "name": "stdout",
     "output_type": "stream",
     "text": [
      "[  9.30324266 -42.88275614]\n"
     ]
    }
   ],
   "source": [
    "err_1, err_2 = compare_forward_backward_Newton(x_data,y_data,z)\n",
    "print(err_1 - err_2)"
   ]
  },
  {
   "cell_type": "code",
   "execution_count": 107,
   "id": "34edb740",
   "metadata": {},
   "outputs": [
    {
     "name": "stdout",
     "output_type": "stream",
     "text": [
      "[-2.9142843   2.91428713]\n",
      "[  9.30324266 -42.88275614]\n",
      "Sai so cua forward Newton la [-0.05980599  0.1276773 ]\n",
      "Sai so cua backward Newton la [-9.36304865 43.01043343]\n"
     ]
    }
   ],
   "source": [
    "import numpy as np\n",
    "import scipy as sp\n",
    "\n",
    "f = lambda x: np.exp(x)\n",
    "\n",
    "a, b, n = -3, 3, 71\n",
    "x_data = np.linspace(a,b,n)\n",
    "y_data = f(x_data)\n",
    "\n",
    "z = np.array([x_data[1], x_data[n-2]]) + np.sqrt(2) * 1e-6\n",
    "print(z)\n",
    "\n",
    "err_1, err_2 = compare_forward_backward_Newton(x_data,y_data,z)\n",
    "print(err_1 - err_2)\n",
    "print('Sai so cua forward Newton la', err_1)\n",
    "print('Sai so cua backward Newton la', err_2)"
   ]
  },
  {
   "cell_type": "code",
   "execution_count": null,
   "id": "64dfce09",
   "metadata": {},
   "outputs": [],
   "source": []
  }
 ],
 "metadata": {
  "kernelspec": {
   "display_name": "Python 3 (ipykernel)",
   "language": "python",
   "name": "python3"
  },
  "language_info": {
   "codemirror_mode": {
    "name": "ipython",
    "version": 3
   },
   "file_extension": ".py",
   "mimetype": "text/x-python",
   "name": "python",
   "nbconvert_exporter": "python",
   "pygments_lexer": "ipython3",
   "version": "3.9.13"
  }
 },
 "nbformat": 4,
 "nbformat_minor": 5
}
