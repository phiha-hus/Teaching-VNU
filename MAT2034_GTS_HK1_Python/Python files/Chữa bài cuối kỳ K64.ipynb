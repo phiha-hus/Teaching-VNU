{
 "cells": [
  {
   "cell_type": "markdown",
   "metadata": {},
   "source": [
    "# Bài 1: Phương pháp lặp đơn\n",
    "a) Hãy áp dụng phương pháp lặp đơn $x_{n+1} = 1 + e^{-x_n}$ để giải phương trình $ 1 + e^{-x} - x  = 0 $? \\\\\n",
    "\\textbf{Đề thi viết yêu cầu phải kiểm tra tính chất ánh xạ co. Đề lập trình yêu cầu phải vẽ hình để thể hiện rõ ràng tính tự ánh và tính co của ánh xạ.} \\\\\n",
    "b) Sử dụng phương pháp lặp đơn trên và công thức ước lượng tiên nghiệm để tìm $n$ sao cho sai số tuyệt đối của $x_n$, với $x_0 = 1.5$, $\\leq 1e-5$."
   ]
  },
  {
   "cell_type": "code",
   "execution_count": 10,
   "metadata": {},
   "outputs": [
    {
     "data": {
      "image/png": "[encoded data removed]",
      "text/plain": [
       "<Figure size 432x288 with 3 Axes>"
      ]
     },
     "metadata": {
      "needs_background": "light"
     },
     "output_type": "display_data"
    }
   ],
   "source": [
    "import numpy as np\n",
    "import matplotlib.pyplot as plt\n",
    "\n",
    "# Part a\n",
    "f = lambda x: 1+ np.exp(-x)-x\n",
    "\n",
    "g = lambda x: 1+ np.exp(-x)\n",
    "dg = lambda x: -np.exp(-x)\n",
    "\n",
    "T = np.linspace(-5,5,100)\n",
    "T1 = np.linspace(1,2,100)\n",
    "\n",
    "plt.subplot(2,3,1)\n",
    "plt.plot(T,f(T))\n",
    "plt.grid()\n",
    "\n",
    "plt.subplot(2,3,4)\n",
    "plt.plot(T1,g(T1))\n",
    "plt.grid()\n",
    "\n",
    "plt.subplot(2,3,6)\n",
    "plt.plot(T1,dg(T1))\n",
    "plt.grid()\n",
    "plt.show()"
   ]
  },
  {
   "cell_type": "code",
   "execution_count": 14,
   "metadata": {},
   "outputs": [],
   "source": [
    "# Giai phuong trinh f(x)=0 nhung duoc viet duoi dang moi  x= g(x)\n",
    "\"\"\"\n",
    "g : ham so, x0: gia tri ban dau, bat ky\n",
    "nmax : so luong toi da cac phep lap, tol: sai so\n",
    "x0 : nghiem, i: so luong phep lap thuc te de dat duoc sai so tol\n",
    "\"\"\"\n",
    "def lapdon(g,x0,nmax,tol):    \n",
    "    i = 1;\n",
    "    \n",
    "    for i in range(nmax):\n",
    "        x1 = g(x0); \n",
    "        g1 = g(x1);\n",
    "        if abs(x1-g1)>tol :\n",
    "            x0 = x1;\n",
    "            x1 = g(x1);\n",
    "            g1 = g(x1);\n",
    "            i += 1;\n",
    "        else:\n",
    "            print(\"No la ---\",x1);\n",
    "            print(\"so phep lap la: \",i)\n",
    "            break\n",
    "        if i>nmax:\n",
    "            print(\"Co the phep lap don nay 0 cho ket qua\")\n",
    "            x1 = None;\n",
    "    return x1, i"
   ]
  },
  {
   "cell_type": "code",
   "execution_count": 15,
   "metadata": {},
   "outputs": [
    {
     "name": "stdout",
     "output_type": "stream",
     "text": [
      "No la --- 1.2784718839153602\n",
      "so phep lap la:  7\n"
     ]
    }
   ],
   "source": [
    "x, i = lapdon(g,1.5,100,1e-5)"
   ]
  },
  {
   "cell_type": "markdown",
   "metadata": {},
   "source": [
    "# Bài 2\n",
    "Sử dụng phương pháp bình phương tối thiểu với phân tích QR, hãy tìm hàm có dạng $f(x) = A \\sqrt{x+1}+ Bx$ để xấp xỉ tốt nhất bảng số liệu sau. \n",
    "\\begin{center}\n",
    "\t\\begin{tabular}[5]{l|l|l|l|l|l}\n",
    "\t\tx    & 4 & 5 & 6 & 7 & 8 \\\\ \\hline\n",
    "\t\tf(x) & 1 & 2.5 & 1.2 & 3.3 & 1.4 \\\\\n",
    "\t\\end{tabular}\t\n",
    "\\end{center}"
   ]
  },
  {
   "cell_type": "code",
   "execution_count": 28,
   "metadata": {},
   "outputs": [
    {
     "name": "stdout",
     "output_type": "stream",
     "text": [
      "[[2.23606798 4.        ]\n",
      " [2.44948974 5.        ]\n",
      " [2.64575131 6.        ]\n",
      " [2.82842712 7.        ]\n",
      " [3.         8.        ]]\n",
      "The vector solution [A B] is:  [0.65723978 0.0255377 ]\n"
     ]
    }
   ],
   "source": [
    "x = np.array([4, 5, 6, 7, 8])\n",
    "x1 = np.sqrt(x+np.ones(np.size(x)))\n",
    "\n",
    "A1 = np.vstack((x1,x)).T\n",
    "print(A1)\n",
    "\n",
    "y = np.array([1,2.5,1.2,3.3,1.4]).T\n",
    "\n",
    "import numpy.linalg as la\n",
    "Q, R = la.qr(A1)\n",
    "x = la.solve(R,Q.T@y)\n",
    "print(\"The vector solution [A B] is: \",x)"
   ]
  },
  {
   "cell_type": "markdown",
   "metadata": {},
   "source": [
    "# Bài 3\n",
    "Cho bảng số liệu sau. \n",
    "\\begin{center}\n",
    "\t\\begin{tabular}[5]{l|l|l|l|l} \n",
    "\t\tx    & 0.97 & 1.00 & 1.05 \\\\ \\hline\n",
    "\t\ty(x) & 0.8504 & 0.8415 & 0.8261 \\\\\n",
    "\t\\end{tabular}\t\n",
    "\\end{center}\n",
    "% \n",
    "Sử dụng bảng số liệu trên, hãy thực hiện các yêu cầu sau: \\\\\n",
    "a) Tính gần đúng đa thức nội suy $y'(x)$ tại $x=1$.\\\\\n",
    "b) Tính gần đúng đa thức nội suy $y\"(x)$ tại $x=1$.\t"
   ]
  },
  {
   "cell_type": "code",
   "execution_count": null,
   "metadata": {},
   "outputs": [],
   "source": []
  },
  {
   "cell_type": "markdown",
   "metadata": {},
   "source": [
    "# Bài 4\n",
    "Xét bài toán Cauchy  \n",
    "\\begin{align}\n",
    "\ty'(x) &= y \\ (x+1), \\quad 1 \\leq x, \\\\\n",
    "\ty(1)  &= 2 \\ . \n",
    "\\end{align}\n",
    "%\n",
    "a) Sử dụng phương pháp Heun, tính xấp xỉ $y(x)$ tại $x=1.2$ với bước $h = 0.1$. \\\\\n",
    "b) Sử dụng phương pháp Euler ẩn, tính xấp xỉ $y(x)$ tại $x=1.2$ với bước $h = 0.1$. \\\\\t"
   ]
  },
  {
   "cell_type": "code",
   "execution_count": 30,
   "metadata": {},
   "outputs": [],
   "source": [
    "def euler_imp(f,y0,x0,xf,N):  \n",
    "    \n",
    "    import numpy as np\n",
    "    \n",
    "    I = np.linspace(x0,xf,N) ;\n",
    "    h = (xf-x0)/N ; \n",
    "       \n",
    "    y_old = y0 ; y = [y0];\n",
    "    \n",
    "    for i in range(1,N):        \n",
    "        # y_new = y_old + h * f(I[i],y_old) ;  # Theo CT Euler an: y_{i+1} = y_i + h * f(x_{i+1}, y_{i+1}) => Giai pt\n",
    "        \n",
    "        f2 = lambda y_new: y_new - y_old - h * f(I[i],y_new)\n",
    "        # Neu 0 co Newton thi dung ham san co fsolve (solve, linsolve)\n",
    "        from scipy.optimize import fsolve\n",
    "        y_new = fsolve(f2,y_old)\n",
    "        \n",
    "        y_old = y_new        \n",
    "        y.append(y_new)  \n",
    "       \n",
    "    return I, y"
   ]
  },
  {
   "cell_type": "code",
   "execution_count": 37,
   "metadata": {},
   "outputs": [
    {
     "name": "stderr",
     "output_type": "stream",
     "text": [
      "C:\\Users\\DELL\\anaconda3\\lib\\site-packages\\numpy\\core\\_asarray.py:136: VisibleDeprecationWarning: Creating an ndarray from ragged nested sequences (which is a list-or-tuple of lists-or-tuples-or ndarrays with different lengths or shapes) is deprecated. If you meant to do this, you must specify 'dtype=object' when creating the ndarray\n",
      "  return array(a, dtype, copy=False, order=order, subok=True)\n"
     ]
    },
    {
     "data": {
      "image/png": "[encoded data removed]",
      "text/plain": [
       "<Figure size 432x288 with 1 Axes>"
      ]
     },
     "metadata": {
      "needs_background": "light"
     },
     "output_type": "display_data"
    },
    {
     "name": "stdout",
     "output_type": "stream",
     "text": [
      "The value of y at x = 1.2 by implicit Euler is [3.06136719]\n"
     ]
    }
   ],
   "source": [
    "f = lambda x, y: y * (x+1)\n",
    "y0, x0, xf, N = 2, 1, 2, 100\n",
    "x, y = euler_imp(f,y0,x0,xf,N)\n",
    "\n",
    "import matplotlib.pyplot as plt\n",
    "plt.plot(x,y,'r--')\n",
    "plt.grid()\n",
    "plt.show()\n",
    "\n",
    "print(\"The value of y at x = 1.2 by implicit Euler is\",y[20])"
   ]
  },
  {
   "cell_type": "code",
   "execution_count": 38,
   "metadata": {},
   "outputs": [],
   "source": [
    "def Heun(f,t0,tf,x0,n):\n",
    "    import numpy as np\n",
    "    I = np.linspace(t0,tf,n+1) ;\n",
    "    h = (tf-t0)/n ;\n",
    "    x = [x0];    \n",
    "    xi = x0 ;\n",
    "    \n",
    "    for i in range(0,n):        \n",
    "        y_ip1 = xi + h * f(I[i],xi) ;\n",
    "        x_ip1 = xi + h/2 * ( f(I[i],xi) + f(I[i+1],y_ip1) );\n",
    "        xi = x_ip1 ;          \n",
    "        x.append(x_ip1)\n",
    "        #x = np.array([x, xi]);        \n",
    "        \n",
    "    return I, x   "
   ]
  },
  {
   "cell_type": "code",
   "execution_count": 39,
   "metadata": {},
   "outputs": [
    {
     "data": {
      "image/png": "[encoded data removed]",
      "text/plain": [
       "<Figure size 432x288 with 1 Axes>"
      ]
     },
     "metadata": {
      "needs_background": "light"
     },
     "output_type": "display_data"
    },
    {
     "name": "stdout",
     "output_type": "stream",
     "text": [
      "The value of y at x = 1.2 by Heun is 1.1198898596795077\n"
     ]
    }
   ],
   "source": [
    "f = lambda x, y: y * (x+1)\n",
    "y0, x0, xf, N = 2, 1, 2, 100\n",
    "x, y = Heun(f,y0,x0,xf,N)\n",
    "\n",
    "import matplotlib.pyplot as plt\n",
    "plt.plot(x,y,'r--')\n",
    "plt.grid()\n",
    "plt.show()\n",
    "\n",
    "print(\"The value of y at x = 1.2 by Heun is\",y[20])"
   ]
  },
  {
   "cell_type": "code",
   "execution_count": null,
   "metadata": {},
   "outputs": [],
   "source": []
  }
 ],
 "metadata": {
  "kernelspec": {
   "display_name": "Python 3",
   "language": "python",
   "name": "python3"
  },
  "language_info": {
   "codemirror_mode": {
    "name": "ipython",
    "version": 3
   },
   "file_extension": ".py",
   "mimetype": "text/x-python",
   "name": "python",
   "nbconvert_exporter": "python",
   "pygments_lexer": "ipython3",
   "version": "3.8.5"
  }
 },
 "nbformat": 4,
 "nbformat_minor": 4
}
