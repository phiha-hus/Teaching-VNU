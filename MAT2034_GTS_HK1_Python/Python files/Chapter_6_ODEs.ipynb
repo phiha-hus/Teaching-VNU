{
 "cells": [
  {
   "cell_type": "markdown",
   "metadata": {},
   "source": [
    "# Chương 6: Giải Số PTVP"
   ]
  },
  {
   "cell_type": "code",
   "execution_count": 1,
   "metadata": {},
   "outputs": [],
   "source": [
    "def euler_exp(f,y0,x0,xf,N):  \n",
    "    \n",
    "    import numpy as np\n",
    "    \n",
    "    I = np.linspace(x0,xf,N) ;\n",
    "    h = (xf-x0)/N ; \n",
    "       \n",
    "    y_old = y0 ; y = [y0];\n",
    "    \n",
    "    for i in range(1,N):        \n",
    "        y_new = y_old + h * f(I[i],y_old) ;  # Theo CT Euler hien: y_{i+1} = y_i + h * f(x_i, y_i)\n",
    "        y_old = y_new        \n",
    "        y.append(y_new)  \n",
    "       \n",
    "    return I, y\n"
   ]
  },
  {
   "cell_type": "code",
   "execution_count": 3,
   "metadata": {},
   "outputs": [
    {
     "data": {
      "image/png": "[encoded data removed]",
      "text/plain": [
       "<Figure size 432x288 with 1 Axes>"
      ]
     },
     "metadata": {
      "needs_background": "light"
     },
     "output_type": "display_data"
    }
   ],
   "source": [
    "# Test equation: y'(x) = 2 * (x+1); y(0) = 1;   No chinh xac  la y(x) = (x+1)^2\n",
    "\n",
    "f = lambda x, y: 2*(x+1)\n",
    "y0, x0, xf, N = 1, 0, 5, 100\n",
    "x, y = euler_exp(f,y0,x0,xf,N)\n",
    "#x, y = euler_imp(f,y0,x0,xf,N)\n",
    "\n",
    "import matplotlib.pyplot as plt\n",
    "plt.plot(x,y,'r-.')\n",
    "plt.grid()"
   ]
  },
  {
   "cell_type": "code",
   "execution_count": 9,
   "metadata": {},
   "outputs": [],
   "source": [
    "def euler_imp(f,y0,x0,xf,N):  \n",
    "    \n",
    "    import numpy as np\n",
    "    \n",
    "    I = np.linspace(x0,xf,N) ;\n",
    "    h = (xf-x0)/N ; \n",
    "       \n",
    "    y_old = y0 ; y = [y0];\n",
    "    \n",
    "    for i in range(1,N):        \n",
    "        # y_new = y_old + h * f(I[i],y_old) ;  # Theo CT Euler an: y_{i+1} = y_i + h * f(x_{i+1}, y_{i+1}) => Giai pt\n",
    "        \n",
    "        f2 = lambda y_new: y_new - y_old - h * f(I[i],y_new)\n",
    "        # Neu 0 co Newton thi dung ham san co fsolve (solve, linsolve)\n",
    "        from scipy.optimize import fsolve\n",
    "        y_new = fsolve(f2,y_old)\n",
    "        \n",
    "        y_old = y_new        \n",
    "        y.append(y_new)  \n",
    "       \n",
    "    return I, y\n"
   ]
  },
  {
   "cell_type": "code",
   "execution_count": 10,
   "metadata": {},
   "outputs": [
    {
     "name": "stderr",
     "output_type": "stream",
     "text": [
      "C:\\Users\\DELL\\anaconda3\\lib\\site-packages\\numpy\\core\\_asarray.py:136: VisibleDeprecationWarning: Creating an ndarray from ragged nested sequences (which is a list-or-tuple of lists-or-tuples-or ndarrays with different lengths or shapes) is deprecated. If you meant to do this, you must specify 'dtype=object' when creating the ndarray\n",
      "  return array(a, dtype, copy=False, order=order, subok=True)\n"
     ]
    },
    {
     "data": {
      "image/png": "[encoded data removed]",
      "text/plain": [
       "<Figure size 432x288 with 1 Axes>"
      ]
     },
     "metadata": {
      "needs_background": "light"
     },
     "output_type": "display_data"
    }
   ],
   "source": [
    "# Test equation: y'(x) = 2 * (x+1); y(0) = 1;   No chinh xac  la y(x) = (x+1)^2\n",
    "\n",
    "f = lambda x, y: 2*(x+1)\n",
    "y0, x0, xf, N = 1, 0, 5, 100\n",
    "#x, y = euler_exp(f,y0,x0,xf,N)\n",
    "x, y = euler_imp(f,y0,x0,xf,N)\n",
    "\n",
    "import matplotlib.pyplot as plt\n",
    "plt.plot(x,y,'r-')\n",
    "plt.grid()"
   ]
  },
  {
   "cell_type": "code",
   "execution_count": 12,
   "metadata": {},
   "outputs": [],
   "source": [
    "def midpoint_exp(f,x0,xf,y0,N):\n",
    "    import numpy as np\n",
    "    I = np.linspace(x0,xf,N+1) ;\n",
    "    h = (xf-x0)/N ;\n",
    "    \n",
    "    y = [y0];    \n",
    "    yi = y0 ;\n",
    "    \n",
    "    for i in range(N):        \n",
    "        y_ip05 = yi + h/2 * f(I[i],yi) ;        \n",
    "        x_ip05 = I[i] + h/2 ;        \n",
    "        y_ip1 = yi + h * f(x_ip05,y_ip05) ;\n",
    "        yi = y_ip1 ;          \n",
    "        y.append(y_ip1)\n",
    "    return I, y   "
   ]
  },
  {
   "cell_type": "code",
   "execution_count": 30,
   "metadata": {},
   "outputs": [],
   "source": [
    "def Heun(f,t0,tf,x0,n):\n",
    "    import numpy as np\n",
    "    I = np.linspace(t0,tf,n+1) ;\n",
    "    h = (tf-t0)/n ;\n",
    "    x = [x0];    \n",
    "    xi = x0 ;\n",
    "    \n",
    "    for i in range(0,n):        \n",
    "        y_ip1 = xi + h * f(I[i],xi) ;\n",
    "        x_ip1 = xi + h/2 * ( f(I[i],xi) + f(I[i+1],y_ip1) );\n",
    "        xi = x_ip1 ;          \n",
    "        x.append(x_ip1)\n",
    "        #x = np.array([x, xi]);        \n",
    "        \n",
    "    return I, x   "
   ]
  },
  {
   "cell_type": "code",
   "execution_count": 22,
   "metadata": {},
   "outputs": [],
   "source": [
    "def trap_imp(f,t0,tf,x0,n):\n",
    "    import numpy as np\n",
    "    from scipy.optimize import fsolve\n",
    "    I = np.linspace(t0,tf,n+1) ;\n",
    "    h = (tf-t0)/n ;\n",
    "    x = [x0];    \n",
    "    xi = x0 ;\n",
    "    \n",
    "    for i in range(0,n):        \n",
    "        def f2(x_ip1): return x_ip1 - xi - h/2 * ( f(I[i],xi) + f(I[i+1],x_ip1) )\n",
    "        x_ip1 = fsolve(f2,xi)\n",
    "        #xi = x0\n",
    "        xi = x_ip1 ;          \n",
    "        x.append(x_ip1)\n",
    "        #x = np.array([x, xi]);        \n",
    "        \n",
    "    return I, x    \n"
   ]
  },
  {
   "cell_type": "code",
   "execution_count": 37,
   "metadata": {},
   "outputs": [
    {
     "name": "stderr",
     "output_type": "stream",
     "text": [
      "<ipython-input-37-b2d8cebccc8b>:21: VisibleDeprecationWarning: Creating an ndarray from ragged nested sequences (which is a list-or-tuple of lists-or-tuples-or ndarrays with different lengths or shapes) is deprecated. If you meant to do this, you must specify 'dtype=object' when creating the ndarray\n",
      "  plt.semilogy(I, abs(y3 - Y), label='Trapezoid')\n"
     ]
    },
    {
     "data": {
      "text/plain": [
       "<matplotlib.legend.Legend at 0x115cbfead60>"
      ]
     },
     "execution_count": 37,
     "metadata": {},
     "output_type": "execute_result"
    },
    {
     "data": {
      "image/png": "[encoded data removed]",
      "text/plain": [
       "<Figure size 720x360 with 1 Axes>"
      ]
     },
     "metadata": {
      "needs_background": "light"
     },
     "output_type": "display_data"
    }
   ],
   "source": [
    "import numpy as np\n",
    "f = lambda x, y: -4 * y + x**2\n",
    "f_exact = lambda x: 31/32 * np.exp(-4*x) + x**2 / 4 - x / 8 + 1/32\n",
    "\n",
    "x0, xf = 0, 10\n",
    "h = 0.001\n",
    "n = int((xf-x0) / h)\n",
    "y0 = 1 \n",
    "\n",
    "Y = f_exact(I)\n",
    "\n",
    "I, y1 = midpoint_exp(f,x0,xf,y0,n)\n",
    "I, y3 = trap_imp(f,x0,xf,y0,n)\n",
    "I, y4 = Heun(f,x0,xf,y0,n)\n",
    "\n",
    "# Plot error\n",
    "plt.figure(figsize=(10, 5))\n",
    "\n",
    "plt.semilogy(I, abs(y1 - Y), label='Midpoint-Ex')\n",
    "#plt.semilogy(I, abs(y1 - Y), label='Midpoint-Im')\n",
    "plt.semilogy(I, abs(y3 - Y), label='Trapezoid')\n",
    "plt.semilogy(I, abs(y4 - Y), label='Heun')\n",
    "plt.grid()\n",
    "plt.legend(fontsize=14)"
   ]
  },
  {
   "cell_type": "code",
   "execution_count": null,
   "metadata": {},
   "outputs": [],
   "source": []
  }
 ],
 "metadata": {
  "kernelspec": {
   "display_name": "Python 3",
   "language": "python",
   "name": "python3"
  },
  "language_info": {
   "codemirror_mode": {
    "name": "ipython",
    "version": 3
   },
   "file_extension": ".py",
   "mimetype": "text/x-python",
   "name": "python",
   "nbconvert_exporter": "python",
   "pygments_lexer": "ipython3",
   "version": "3.8.5"
  }
 },
 "nbformat": 4,
 "nbformat_minor": 4
}
