{
 "cells": [
  {
   "cell_type": "code",
   "execution_count": 6,
   "metadata": {},
   "outputs": [
    {
     "name": "stdout",
     "output_type": "stream",
     "text": [
      "[[1 2 3]\n",
      " [4 5 6]\n",
      " [7 8 0]]\n"
     ]
    }
   ],
   "source": [
    "from numpy import array\n",
    "import numpy.linalg as la\n",
    "\n",
    "A = array([[1, 2, 3],[4, 5, 6],[7, 8, 0]])\n",
    "#la.norm(A,1)\n",
    "print(A)"
   ]
  },
  {
   "cell_type": "code",
   "execution_count": 23,
   "metadata": {
    "scrolled": true
   },
   "outputs": [
    {
     "name": "stdout",
     "output_type": "stream",
     "text": [
      "[[10 -1  2 -3]\n",
      " [ 1 10 -1  2]\n",
      " [ 2  3 20 -1]\n",
      " [ 3  2  1 20]]\n",
      "Ma tran P\n",
      "[[1. 0. 0. 0.]\n",
      " [0. 1. 0. 0.]\n",
      " [0. 0. 1. 0.]\n",
      " [0. 0. 0. 1.]]\n",
      "Ma tran L\n",
      "[[1.         0.         0.         0.        ]\n",
      " [0.1        1.         0.         0.        ]\n",
      " [0.2        0.31683168 1.         0.        ]\n",
      " [0.3        0.22772277 0.03369673 1.        ]]\n",
      "Ma tran U\n",
      "[[10.         -1.          2.         -3.        ]\n",
      " [ 0.         10.1        -1.2         2.3       ]\n",
      " [ 0.          0.         19.98019802 -1.12871287]\n",
      " [ 0.          0.          0.         20.41427156]]\n",
      "[[ 0.00000000e+00  0.00000000e+00  0.00000000e+00  0.00000000e+00]\n",
      " [ 0.00000000e+00  0.00000000e+00  0.00000000e+00 -2.22044605e-16]\n",
      " [ 0.00000000e+00  4.44089210e-16  0.00000000e+00  0.00000000e+00]\n",
      " [ 4.44089210e-16 -2.22044605e-16  0.00000000e+00  0.00000000e+00]]\n"
     ]
    }
   ],
   "source": [
    "from scipy.linalg import lu\n",
    "from numpy import array\n",
    "\n",
    "A = array([[10,-1,2,-3],[1,10,-1,2],[2,3,20,-1],[3,2,1,20]])\n",
    "print(A)\n",
    "\n",
    "P, L, U = lu(A)\n",
    "print(\"Ma tran P\")\n",
    "print(P)\n",
    "print(\"Ma tran L\")\n",
    "print(L)\n",
    "print(\"Ma tran U\")\n",
    "print(U)\n",
    "\n",
    "#print(P*L*U - A)   # Matlab thi duoc, Python thi 0\n",
    "print(dot(P,dot(L,U)) - A) # Dung trong Python"
   ]
  },
  {
   "cell_type": "code",
   "execution_count": 20,
   "metadata": {},
   "outputs": [
    {
     "name": "stdout",
     "output_type": "stream",
     "text": [
      "[[0.14285714 1.         0.        ]\n",
      " [0.57142857 0.5        1.        ]\n",
      " [1.         0.         0.        ]]\n",
      "[[7.         8.         0.        ]\n",
      " [0.         0.85714286 3.        ]\n",
      " [0.         0.         4.5       ]]\n"
     ]
    },
    {
     "data": {
      "text/plain": [
       "array([[0., 0., 0.],\n",
       "       [0., 0., 0.],\n",
       "       [0., 0., 0.]])"
      ]
     },
     "execution_count": 20,
     "metadata": {},
     "output_type": "execute_result"
    }
   ],
   "source": [
    "L, U = lu(A,True)\n",
    "\n",
    "print(L)\n",
    "print(U)\n",
    "\n",
    "from numpy import dot\n",
    "dot(L,U)-A"
   ]
  },
  {
   "cell_type": "code",
   "execution_count": 24,
   "metadata": {},
   "outputs": [
    {
     "name": "stdout",
     "output_type": "stream",
     "text": [
      "[[0 0 1]\n",
      " [1 0 0]\n",
      " [0 1 0]]\n",
      "[[1.         0.         0.        ]\n",
      " [0.5        1.         0.        ]\n",
      " [0.33333333 0.25       1.        ]]\n",
      "[[2 3 1]\n",
      " [0 1 2]\n",
      " [0 0 2]]\n"
     ]
    }
   ],
   "source": [
    "P = array([[0,0,1],[1,0,0],[0,1,0]])\n",
    "L = array([[1,0,0],[0.5,1,0],[1/3.,1/4.,1]])\n",
    "U = array([[2,3,1],[0,1,2],[0,0,2]])\n",
    "print(P)\n",
    "print(L)\n",
    "print(U)\n"
   ]
  },
  {
   "cell_type": "code",
   "execution_count": 30,
   "metadata": {},
   "outputs": [
    {
     "name": "stdout",
     "output_type": "stream",
     "text": [
      "A la\n",
      "[[0.66666667 1.25       2.83333333]\n",
      " [2.         3.         1.        ]\n",
      " [1.         2.5        2.5       ]]\n",
      "b la\n",
      "[1 2 3]\n"
     ]
    }
   ],
   "source": [
    "A = dot(P,dot(L,U))\n",
    "print(\"A la\")\n",
    "print(A)\n",
    "\n",
    "b = array([1,2,3])\n",
    "print(\"b la\")\n",
    "print(b)"
   ]
  },
  {
   "cell_type": "code",
   "execution_count": 35,
   "metadata": {},
   "outputs": [
    {
     "name": "stdout",
     "output_type": "stream",
     "text": [
      "[[ 1  1]\n",
      " [ 1 -1]\n",
      " [ 2  1]]\n",
      "[2 0 4]\n"
     ]
    }
   ],
   "source": [
    "A = array([[1,1],[1,-1],[2,1]])\n",
    "print(A)\n",
    "b = array([2,0,4])\n",
    "print(b)"
   ]
  },
  {
   "cell_type": "code",
   "execution_count": 39,
   "metadata": {},
   "outputs": [
    {
     "name": "stdout",
     "output_type": "stream",
     "text": [
      "Cach 1: phuong trinh chinh tac\n",
      "[[6 2]\n",
      " [2 3]]\n",
      "[10  6]\n",
      "[1.28571429 1.14285714]\n"
     ]
    }
   ],
   "source": [
    "print(\"Cach 1: phuong trinh chinh tac\")\n",
    "M = dot(A.T,A)\n",
    "print(M)\n",
    "n = dot(A.T,b)\n",
    "print(n)\n",
    "from numpy.linalg import solve\n"
   ]
  },
  {
   "cell_type": "code",
   "execution_count": 52,
   "metadata": {},
   "outputs": [
    {
     "name": "stdout",
     "output_type": "stream",
     "text": [
      "Cach 2: su dung phan tich QR\n",
      "[[-0.40824829  0.43643578]\n",
      " [-0.40824829 -0.87287156]\n",
      " [-0.81649658  0.21821789]]\n",
      "[[-2.44948974 -0.81649658]\n",
      " [ 0.          1.52752523]]\n",
      "[[2.22044605e-16 4.44089210e-16]\n",
      " [0.00000000e+00 2.22044605e-16]\n",
      " [0.00000000e+00 2.22044605e-16]]\n",
      "[-4.0824829   1.74574312]\n",
      "[1.28571429 1.14285714]\n"
     ]
    }
   ],
   "source": [
    "print(\"Cach 2: su dung phan tich QR\")\n",
    "from scipy.linalg import qr\n",
    "Q,R = qr(A)\n",
    "#print(Q)\n",
    "#print(R)\n",
    "#print(dot(Q,R)-A)\n",
    "\n",
    "Q1 = Q[:,0:2]\n",
    "R1 = R[0:2,:]\n",
    "print(Q1)\n",
    "print(R1)\n",
    "print(dot(Q1,R1)-A)\n",
    "\n",
    "p = dot(Q1.T,b)\n",
    "print(p)\n",
    "\n",
    "from numpy.linalg import solve\n",
    "x = solve(R1,p)\n",
    "print(x)"
   ]
  },
  {
   "cell_type": "code",
   "execution_count": 6,
   "metadata": {},
   "outputs": [
    {
     "ename": "ImportError",
     "evalue": "cannot import name 'inv' from 'numpy' (C:\\Users\\phiha\\AppData\\Local\\Continuum\\anaconda3\\lib\\site-packages\\numpy\\__init__.py)",
     "output_type": "error",
     "traceback": [
      "\u001b[1;31m---------------------------------------------------------------------------\u001b[0m",
      "\u001b[1;31mImportError\u001b[0m                               Traceback (most recent call last)",
      "\u001b[1;32m<ipython-input-6-fbe8ce4cba66>\u001b[0m in \u001b[0;36m<module>\u001b[1;34m\u001b[0m\n\u001b[1;32m----> 1\u001b[1;33m \u001b[1;32mfrom\u001b[0m \u001b[0mnumpy\u001b[0m \u001b[1;32mimport\u001b[0m \u001b[0marray\u001b[0m\u001b[1;33m,\u001b[0m \u001b[0mdot\u001b[0m\u001b[1;33m,\u001b[0m \u001b[0minv\u001b[0m\u001b[1;33m\u001b[0m\u001b[1;33m\u001b[0m\u001b[0m\n\u001b[0m\u001b[0;32m      2\u001b[0m \u001b[1;32mimport\u001b[0m \u001b[0mnumpy\u001b[0m\u001b[1;33m.\u001b[0m\u001b[0mlinalg\u001b[0m \u001b[1;32mas\u001b[0m \u001b[0mla\u001b[0m\u001b[1;33m\u001b[0m\u001b[1;33m\u001b[0m\u001b[0m\n\u001b[0;32m      3\u001b[0m \u001b[1;33m\u001b[0m\u001b[0m\n\u001b[0;32m      4\u001b[0m \u001b[0mA\u001b[0m \u001b[1;33m=\u001b[0m \u001b[0marray\u001b[0m\u001b[1;33m(\u001b[0m\u001b[1;33m[\u001b[0m\u001b[1;33m[\u001b[0m\u001b[1;36m3\u001b[0m\u001b[1;33m,\u001b[0m\u001b[1;36m1\u001b[0m\u001b[1;33m,\u001b[0m \u001b[1;36m1\u001b[0m\u001b[1;33m]\u001b[0m\u001b[1;33m,\u001b[0m\u001b[1;33m[\u001b[0m\u001b[1;36m1\u001b[0m\u001b[1;33m,\u001b[0m \u001b[1;36m5\u001b[0m\u001b[1;33m,\u001b[0m \u001b[1;36m2\u001b[0m\u001b[1;33m]\u001b[0m\u001b[1;33m,\u001b[0m\u001b[1;33m[\u001b[0m\u001b[1;36m1\u001b[0m\u001b[1;33m,\u001b[0m \u001b[1;36m8\u001b[0m\u001b[1;33m,\u001b[0m \u001b[1;36m10\u001b[0m\u001b[1;33m]\u001b[0m\u001b[1;33m]\u001b[0m\u001b[1;33m)\u001b[0m\u001b[1;33m\u001b[0m\u001b[1;33m\u001b[0m\u001b[0m\n\u001b[0;32m      5\u001b[0m \u001b[1;33m\u001b[0m\u001b[0m\n",
      "\u001b[1;31mImportError\u001b[0m: cannot import name 'inv' from 'numpy' (C:\\Users\\phiha\\AppData\\Local\\Continuum\\anaconda3\\lib\\site-packages\\numpy\\__init__.py)"
     ]
    }
   ],
   "source": [
    "from numpy import array, dot\n",
    "import numpy.linalg as la\n",
    "\n",
    "A = array([[3,1, 1],[1, 5, 2],[1, 8, 10]])\n",
    "\n",
    "b = array([5,8,19])\n",
    "\n",
    "P =  array([[3, 0, 0],[0, 5, 0],[0, 0, 10]])\n",
    "N = A - P\n",
    "ivP = inv(P)\n",
    "x0 = array([0,0,0]); xold = x0;\n",
    "\n",
    "for i in range(1,100):\n",
    "    xnew = inv(P) * (-N*xold+b)\n",
    "    \n",
    "print(xnew)\n"
   ]
  },
  {
   "cell_type": "code",
   "execution_count": null,
   "metadata": {},
   "outputs": [],
   "source": []
  }
 ],
 "metadata": {
  "kernelspec": {
   "display_name": "Python 3",
   "language": "python",
   "name": "python3"
  },
  "language_info": {
   "codemirror_mode": {
    "name": "ipython",
    "version": 3
   },
   "file_extension": ".py",
   "mimetype": "text/x-python",
   "name": "python",
   "nbconvert_exporter": "python",
   "pygments_lexer": "ipython3",
   "version": "3.7.3"
  }
 },
 "nbformat": 4,
 "nbformat_minor": 2
}
