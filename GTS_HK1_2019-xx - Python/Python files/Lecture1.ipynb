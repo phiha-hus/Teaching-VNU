{
 "cells": [
  {
   "cell_type": "markdown",
   "metadata": {
    "scrolled": true
   },
   "source": [
    "# GIỚI THIỆU SƠ LƯỢC VỀ PYTHON 3 VÀ JUPYER NOTEBOOK"
   ]
  },
  {
   "cell_type": "code",
   "execution_count": 5,
   "metadata": {},
   "outputs": [
    {
     "name": "stdout",
     "output_type": "stream",
     "text": [
      "4\n"
     ]
    }
   ],
   "source": [
    "a = 2 + 3 + 4 - 5\n",
    "print(a)"
   ]
  },
  {
   "cell_type": "code",
   "execution_count": 6,
   "metadata": {
    "scrolled": true
   },
   "outputs": [
    {
     "data": {
      "text/plain": [
       "8"
      ]
     },
     "execution_count": 6,
     "metadata": {},
     "output_type": "execute_result"
    }
   ],
   "source": [
    "a * 2"
   ]
  },
  {
   "cell_type": "code",
   "execution_count": 7,
   "metadata": {},
   "outputs": [
    {
     "data": {
      "text/plain": [
       "16"
      ]
     },
     "execution_count": 7,
     "metadata": {},
     "output_type": "execute_result"
    }
   ],
   "source": [
    "a**2"
   ]
  },
  {
   "cell_type": "code",
   "execution_count": 11,
   "metadata": {},
   "outputs": [
    {
     "data": {
      "text/plain": [
       "False"
      ]
     },
     "execution_count": 11,
     "metadata": {},
     "output_type": "execute_result"
    }
   ],
   "source": [
    "1. + 1 == 3"
   ]
  },
  {
   "cell_type": "code",
   "execution_count": 10,
   "metadata": {},
   "outputs": [
    {
     "data": {
      "text/plain": [
       "True"
      ]
     },
     "execution_count": 10,
     "metadata": {},
     "output_type": "execute_result"
    }
   ],
   "source": [
    "1 + 1 != 3"
   ]
  },
  {
   "cell_type": "code",
   "execution_count": 6,
   "metadata": {},
   "outputs": [
    {
     "data": {
      "text/plain": [
       "' I love you and you love me'"
      ]
     },
     "execution_count": 6,
     "metadata": {},
     "output_type": "execute_result"
    }
   ],
   "source": [
    "a = \" I love you\"\n",
    "\n",
    "b = \" and you love me\"\n",
    "\n",
    "a+b"
   ]
  },
  {
   "cell_type": "code",
   "execution_count": 17,
   "metadata": {},
   "outputs": [
    {
     "name": "stdout",
     "output_type": "stream",
     "text": [
      "6\n",
      "1.0\n"
     ]
    }
   ],
   "source": [
    "from math import factorial, sin, pi\n",
    "#from numpy import linalg\n",
    "from scipy import cosh\n",
    "#from matplotlib.pyplot import plot\n",
    "\n",
    "a = factorial(3)\n",
    "print(a)\n",
    "\n",
    "b = sin(pi/2)\n",
    "print(b)\n",
    "# print(cosh(2))"
   ]
  },
  {
   "cell_type": "code",
   "execution_count": 20,
   "metadata": {},
   "outputs": [
    {
     "name": "stdout",
     "output_type": "stream",
     "text": [
      "4\n"
     ]
    }
   ],
   "source": [
    "\"\"\"\n",
    "Code nay tim binh phuong cua 1 so a\n",
    "bang phuong phap a**2\n",
    "\"\"\"\n",
    "def bp(a):\n",
    "    b = a**2\n",
    "    return b\n",
    "\n",
    "print(bp(2))"
   ]
  },
  {
   "cell_type": "code",
   "execution_count": 5,
   "metadata": {
    "scrolled": true
   },
   "outputs": [
    {
     "data": {
      "text/plain": [
       "0.0"
      ]
     },
     "execution_count": 5,
     "metadata": {},
     "output_type": "execute_result"
    }
   ],
   "source": [
    "1 + 1e20 - 1e20"
   ]
  },
  {
   "cell_type": "code",
   "execution_count": 6,
   "metadata": {},
   "outputs": [
    {
     "data": {
      "text/plain": [
       "1.0"
      ]
     },
     "execution_count": 6,
     "metadata": {},
     "output_type": "execute_result"
    }
   ],
   "source": [
    "1 + (1e20-1e20)"
   ]
  },
  {
   "cell_type": "code",
   "execution_count": 5,
   "metadata": {},
   "outputs": [
    {
     "data": {
      "text/plain": [
       "1.0"
      ]
     },
     "execution_count": 5,
     "metadata": {},
     "output_type": "execute_result"
    }
   ],
   "source": [
    "1 + 1e14 - 1e14"
   ]
  },
  {
   "cell_type": "code",
   "execution_count": 21,
   "metadata": {},
   "outputs": [
    {
     "data": {
      "text/plain": [
       "24"
      ]
     },
     "execution_count": 21,
     "metadata": {},
     "output_type": "execute_result"
    }
   ],
   "source": [
    "from math import sqrt, factorial\n",
    "sqrt(25)\n",
    "\n",
    "import math as mp\n",
    "\n",
    "mp.sqrt(25)\n",
    "\n",
    "mp.factorial(4)"
   ]
  },
  {
   "cell_type": "code",
   "execution_count": 22,
   "metadata": {},
   "outputs": [
    {
     "name": "stdout",
     "output_type": "stream",
     "text": [
      "i =  0  Can bac 2 cua i la  0.0\n",
      "i =  1  Can bac 2 cua i la  1.0\n",
      "i =  4  Can bac 2 cua i la  2.0\n",
      "i =  6  Can bac 2 cua i la  2.449489742783178\n"
     ]
    }
   ],
   "source": [
    "from math import sqrt\n",
    "for i in [0,1,4,6]:\n",
    "    print(\"i = \",i,\" Can bac 2 cua i la \",sqrt(i))   # in Python 3, print must be followed by ()"
   ]
  },
  {
   "cell_type": "code",
   "execution_count": 23,
   "metadata": {},
   "outputs": [
    {
     "name": "stdout",
     "output_type": "stream",
     "text": [
      "i =  1 ==> i^2 =  1\n",
      "i =  3 ==> i^2 =  9\n",
      "i =  5 ==> i^2 =  25\n",
      "i =  7 ==> i^2 =  49\n",
      "i =  9 ==> i^2 =  81\n",
      "i =  11 ==> i^2 =  121\n",
      "i =  13 ==> i^2 =  169\n",
      "i =  15 ==> i^2 =  225\n",
      "i =  17 ==> i^2 =  289\n",
      "i =  19 ==> i^2 =  361\n"
     ]
    }
   ],
   "source": [
    "for i in range(1,20,2):\n",
    "    print(\"i = \",i,\"==> i^2 = \",i*i)"
   ]
  },
  {
   "cell_type": "code",
   "execution_count": 27,
   "metadata": {},
   "outputs": [
    {
     "name": "stdout",
     "output_type": "stream",
     "text": [
      "i =  0 ---- 1\n",
      "i =  2 ---- 3\n",
      "i =  4 ---- 5\n",
      "i =  6 ---- 36\n",
      "i =  8 ---- 64\n",
      "i =  10 ---- 11\n",
      "i =  12 ---- 1728\n",
      "i =  14 ---- 2744\n",
      "i =  16 ---- 4096\n",
      "i =  18 ---- 5832\n"
     ]
    }
   ],
   "source": [
    "def sq(t):\n",
    "    return t**2\n",
    "\n",
    "for i in range(0,20,2):\n",
    "    if (i>5) and (i<10):\n",
    "        print(\"i = \",i,\"----\",sq(i))\n",
    "    elif (i>10):    # Dac biet chu y dau cach o day la loi ngay\n",
    "        print(\"i = \",i,\"----\",i**3)\n",
    "    else:\n",
    "        print(\"i = \",i,\"----\",i+1)"
   ]
  },
  {
   "cell_type": "markdown",
   "metadata": {},
   "source": [
    "## while loop for computing machine epsilon"
   ]
  },
  {
   "cell_type": "code",
   "execution_count": 6,
   "metadata": {},
   "outputs": [
    {
     "name": "stdout",
     "output_type": "stream",
     "text": [
      "8.881784197001253e-17\n"
     ]
    }
   ],
   "source": [
    "eps = 0.1\n",
    "while (1+eps) != 1:\n",
    "    #print(eps);\n",
    "    eps = eps/2;\n",
    "print(eps)"
   ]
  },
  {
   "cell_type": "code",
   "execution_count": 7,
   "metadata": {},
   "outputs": [
    {
     "data": {
      "text/plain": [
       "sys.float_info(max=1.7976931348623157e+308, max_exp=1024, max_10_exp=308, min=2.2250738585072014e-308, min_exp=-1021, min_10_exp=-307, dig=15, mant_dig=53, epsilon=2.220446049250313e-16, radix=2, rounds=1)"
      ]
     },
     "execution_count": 7,
     "metadata": {},
     "output_type": "execute_result"
    }
   ],
   "source": [
    "import sys\n",
    "sys.float_info"
   ]
  },
  {
   "cell_type": "code",
   "execution_count": 6,
   "metadata": {},
   "outputs": [
    {
     "data": {
      "text/plain": [
       "9.99999993922529e-09"
      ]
     },
     "execution_count": 6,
     "metadata": {},
     "output_type": "execute_result"
    }
   ],
   "source": [
    "1.23456789-1.23456788"
   ]
  },
  {
   "cell_type": "code",
   "execution_count": 8,
   "metadata": {},
   "outputs": [
    {
     "name": "stdout",
     "output_type": "stream",
     "text": [
      "0.30000000000000004\n"
     ]
    },
    {
     "data": {
      "text/plain": [
       "False"
      ]
     },
     "execution_count": 8,
     "metadata": {},
     "output_type": "execute_result"
    }
   ],
   "source": [
    "a = .1 + .1 + .1\n",
    "print(a)\n",
    "\n",
    "a == .3"
   ]
  },
  {
   "cell_type": "code",
   "execution_count": 15,
   "metadata": {},
   "outputs": [
    {
     "data": {
      "text/plain": [
       "True"
      ]
     },
     "execution_count": 15,
     "metadata": {},
     "output_type": "execute_result"
    }
   ],
   "source": [
    "round(.1+.1+.1,1) == round(.3,1)"
   ]
  },
  {
   "cell_type": "code",
   "execution_count": 2,
   "metadata": {},
   "outputs": [
    {
     "data": {
      "text/plain": [
       "'3.14159265359'"
      ]
     },
     "execution_count": 2,
     "metadata": {},
     "output_type": "execute_result"
    }
   ],
   "source": [
    "from math import pi\n",
    "format(pi, '.12g')  # give 12 significant digits - compare to MATLAB command digits(d)"
   ]
  },
  {
   "cell_type": "code",
   "execution_count": 10,
   "metadata": {},
   "outputs": [
    {
     "data": {
      "text/plain": [
       "'3.14'"
      ]
     },
     "execution_count": 10,
     "metadata": {},
     "output_type": "execute_result"
    }
   ],
   "source": [
    "format(pi,'.2f')    # give 2 digits after the point"
   ]
  },
  {
   "cell_type": "code",
   "execution_count": 1,
   "metadata": {},
   "outputs": [
    {
     "name": "stdout",
     "output_type": "stream",
     "text": [
      "10 <class 'int'>\n"
     ]
    }
   ],
   "source": [
    "a = 10\n",
    "print(a,type(a))"
   ]
  },
  {
   "cell_type": "markdown",
   "metadata": {},
   "source": [
    "## Arrays & Horner Algorithm"
   ]
  },
  {
   "cell_type": "code",
   "execution_count": 10,
   "metadata": {},
   "outputs": [
    {
     "name": "stdout",
     "output_type": "stream",
     "text": [
      "3 <class 'numpy.ndarray'>\n"
     ]
    }
   ],
   "source": [
    "import numpy as np\n",
    "a = np.array([1, 2, 1])\n",
    "print(len(a),type(a))"
   ]
  },
  {
   "cell_type": "code",
   "execution_count": 14,
   "metadata": {},
   "outputs": [
    {
     "data": {
      "text/plain": [
       "2"
      ]
     },
     "execution_count": 14,
     "metadata": {},
     "output_type": "execute_result"
    }
   ],
   "source": [
    "a[1]"
   ]
  },
  {
   "cell_type": "code",
   "execution_count": 7,
   "metadata": {
    "scrolled": true
   },
   "outputs": [
    {
     "name": "stdout",
     "output_type": "stream",
     "text": [
      "[0, 1, 1, 1, 1, 4]\n",
      "<class 'list'>\n"
     ]
    }
   ],
   "source": [
    "a = [0, 1, 2, 3, 4];\n",
    "len(a)\n",
    "a[2:4] = [1, 1, 1]\n",
    "print(a)\n",
    "print(type(a))"
   ]
  },
  {
   "cell_type": "code",
   "execution_count": 21,
   "metadata": {},
   "outputs": [
    {
     "name": "stdout",
     "output_type": "stream",
     "text": [
      "[2, 3]\n"
     ]
    }
   ],
   "source": [
    "a = [0, 1, 2, 3, 4];\n",
    "print(a[2:4])"
   ]
  },
  {
   "cell_type": "code",
   "execution_count": 21,
   "metadata": {},
   "outputs": [
    {
     "name": "stdout",
     "output_type": "stream",
     "text": [
      "16\n"
     ]
    }
   ],
   "source": [
    "# Horner's algorithm\n",
    "# import numpy as np\n",
    "def horner(a,x):\n",
    "    n = len(a)\n",
    "    s = a[n-1]\n",
    "    \n",
    "    for i in range(2,n+1,1):\n",
    "            s = s * x + a[n-i]\n",
    "    print(s)\n",
    "\n",
    "# test\n",
    "import numpy as np\n",
    "a = np.array([1, 2, 1])\n",
    "len(a)\n",
    "horner(a,3)\n"
   ]
  },
  {
   "cell_type": "code",
   "execution_count": 19,
   "metadata": {},
   "outputs": [
    {
     "name": "stdout",
     "output_type": "stream",
     "text": [
      "4.750e+294\n"
     ]
    }
   ],
   "source": [
    "n = 7001;\n",
    "px = n;\n",
    "x = 1.1;\n",
    "\n",
    "for k in range(n):\n",
    "    px = px * x + (n-1)\n",
    "    \n",
    "print(\"%10.3e\"%px)\n",
    "    \n",
    "    "
   ]
  },
  {
   "cell_type": "code",
   "execution_count": 7,
   "metadata": {},
   "outputs": [
    {
     "name": "stdout",
     "output_type": "stream",
     "text": [
      "1.4962458336203725e+253\n",
      "0.003999948501586914\n"
     ]
    }
   ],
   "source": [
    "from time import time\n",
    "\n",
    "tic = time()\n",
    "\n",
    "n = 10e+3\n",
    "px = n+1;\n",
    "x = 1.1 \n",
    "\n",
    "for k in range(2,6001):\n",
    "    px += (k+1) * (x**k)\n",
    "\n",
    "#for k in range(6000,2,-1):\n",
    "#    px = px * x + k ; \n",
    "\n",
    "print(px)\n",
    "toc = time()\n",
    "\n",
    "print(toc-tic)"
   ]
  },
  {
   "cell_type": "markdown",
   "metadata": {},
   "source": [
    "# # Vẽ hình trong Python"
   ]
  },
  {
   "cell_type": "code",
   "execution_count": 28,
   "metadata": {},
   "outputs": [
    {
     "data": {
      "text/plain": [
       "array([ 0.,  1.,  2.,  3.,  4.,  5.,  6.,  7.,  8.,  9., 10.])"
      ]
     },
     "execution_count": 28,
     "metadata": {},
     "output_type": "execute_result"
    }
   ],
   "source": [
    "from numpy import linspace\n",
    "linspace(0,10,11)"
   ]
  },
  {
   "cell_type": "code",
   "execution_count": 29,
   "metadata": {},
   "outputs": [
    {
     "data": {
      "image/png": "[encoded data removed]",
      "text/plain": [
       "<Figure size 432x288 with 1 Axes>"
      ]
     },
     "metadata": {
      "needs_background": "light"
     },
     "output_type": "display_data"
    }
   ],
   "source": [
    "import numpy as np\n",
    "import matplotlib.pyplot as plt\n",
    "\n",
    "I = np.linspace(-10,10,101);\n",
    "J = sq(I)\n",
    "\n",
    "plt.plot(I,J,'ro');\n",
    "plt.title(\"Do thi cua ham bac 2\")\n",
    "plt.legend(\"x^2\")\n",
    "\n",
    "plt.grid()    # khong co cung 0 sao\n",
    "plt.show()\n"
   ]
  },
  {
   "cell_type": "code",
   "execution_count": 11,
   "metadata": {},
   "outputs": [
    {
     "data": {
      "image/png": "[encoded data removed]",
      "text/plain": [
       "<Figure size 432x288 with 1 Axes>"
      ]
     },
     "metadata": {
      "needs_background": "light"
     },
     "output_type": "display_data"
    }
   ],
   "source": [
    "import numpy as np\n",
    "import matplotlib.pyplot as plt\n",
    "\n",
    "X = np.linspace(-10,10,101);\n",
    "\n",
    "Y = X**2+1\n",
    "\n",
    "Z = 5 * X**2 + 1 \n",
    "\n",
    "plt.plot(X,Y,'r-.',X,Z,'bs')\n",
    "plt.title('Do thi ham bac 2')\n",
    "\n",
    "plt.xlabel('x')\n",
    "plt.ylabel('y')\n",
    "\n",
    "plt.legend(['x^2+1','5x^2+1'])\n",
    "plt.grid()\n",
    "\n",
    "plt.show()\n"
   ]
  },
  {
   "cell_type": "code",
   "execution_count": 12,
   "metadata": {},
   "outputs": [
    {
     "data": {
      "image/png": "[encoded data removed]",
      "text/plain": [
       "<Figure size 432x288 with 2 Axes>"
      ]
     },
     "metadata": {
      "needs_background": "light"
     },
     "output_type": "display_data"
    }
   ],
   "source": [
    "import numpy as np\n",
    "import matplotlib.pyplot as plt\n",
    "\n",
    "X = np.linspace(-10,10,101);\n",
    "\n",
    "Y = X**2+1\n",
    "\n",
    "Z = 5 * X**2 + 1 \n",
    "\n",
    "plt.subplot(2,2,1)\n",
    "\n",
    "plt.plot(X,Y,'r-.',X,Z,'bs')\n",
    "plt.title('Do thi ham bac 2')\n",
    "\n",
    "plt.xlabel('x')\n",
    "plt.ylabel('y')\n",
    "\n",
    "plt.legend(['x^2+1','5x^2+1'])\n",
    "plt.grid()\n",
    "\n",
    "\n",
    "plt.subplot(2,2,4)\n",
    "\n",
    "plt.plot(X,Y,'r-.',X,Z,'bs')\n",
    "plt.title('Do thi ham bac 2')\n",
    "\n",
    "plt.xlabel('x')\n",
    "plt.ylabel('y')\n",
    "\n",
    "plt.legend(['x^2+1','5x^2+1'])\n",
    "plt.grid()\n",
    "\n",
    "plt.show()\n"
   ]
  },
  {
   "cell_type": "markdown",
   "metadata": {},
   "source": [
    "## Exercises for students"
   ]
  },
  {
   "cell_type": "code",
   "execution_count": 3,
   "metadata": {},
   "outputs": [
    {
     "name": "stdout",
     "output_type": "stream",
     "text": [
      "25196.850393700788\n"
     ]
    }
   ],
   "source": [
    "\"\"\"\n",
    "Function convert length unit in US system to unit in UK system\n",
    "\"\"\"\n",
    "def convert(n,unit1,unit2):\n",
    "    if unit1 == 'm':\n",
    "        n *= 100\n",
    "    elif unit1 == 'mm':\n",
    "        n *= 0.1\n",
    "    elif unit1 == 'km':\n",
    "        n *= 100000\n",
    "    \n",
    "    m = 1;            \n",
    "    \n",
    "    if unit2 == 'foot':\n",
    "        m *= 12\n",
    "    elif unit2 == 'yard':\n",
    "        m *= 36\n",
    "    elif unit2 == 'mile':\n",
    "        m *= 1760 * 36\n",
    "                \n",
    "    value = n/(2.54*m)\n",
    "    return value\n",
    "\n",
    "# Test \n",
    "n = 640; unit1 = 'm'; unit2 = 'inch'\n",
    "value = convert(n,unit1,unit2)\n",
    "print(value)\n"
   ]
  },
  {
   "cell_type": "code",
   "execution_count": 24,
   "metadata": {},
   "outputs": [
    {
     "name": "stdout",
     "output_type": "stream",
     "text": [
      " 1.935e+12\n"
     ]
    }
   ],
   "source": [
    "c = 1490 ;\n",
    "fmin = 1e+4 ; fmax = 2e+4 ;\n",
    "\n",
    "lb_min = c/fmax ; lb_max = c/fmin ;\n",
    "\n",
    "length = 100/lb_min * 20;\n",
    "width = 100/lb_min * 20;\n",
    "height = 10/lb_min * 20 ;\n",
    "\n",
    "grid = length * width * height\n",
    "\n",
    "\n",
    "print(\"%10.3e\"% (grid))"
   ]
  },
  {
   "cell_type": "markdown",
   "metadata": {},
   "source": [
    "## These are exercises No 3 and No 4 of Week 1"
   ]
  },
  {
   "cell_type": "code",
   "execution_count": 4,
   "metadata": {},
   "outputs": [
    {
     "name": "stdout",
     "output_type": "stream",
     "text": [
      " 1.086e+12\n",
      " 8.687e+12\n"
     ]
    }
   ],
   "source": [
    "c1 = 1490 ; c2 = 3000 ; \n",
    "fmin = 1e+4 ; fmax = 2e+4 ;\n",
    "\n",
    "def grid_size(c):\n",
    "    lb = c/fmax ; \n",
    "    length = 100/lb * 20;\n",
    "    width = 100/lb * 20;\n",
    "    height = 5/lb * 20 ;\n",
    "    value = length * width * height ;\n",
    "    return value\n",
    "\n",
    "#print(\"%10.3e\"% grid_size(c1))\n",
    "\n",
    "grid  = grid_size(c1) + grid_size(c2) ; \n",
    "print(\"%10.3e\"% (grid))\n",
    "\n",
    "memory = grid * 8\n",
    "print(\"%10.3e\"% (memory))"
   ]
  },
  {
   "cell_type": "code",
   "execution_count": null,
   "metadata": {},
   "outputs": [],
   "source": []
  }
 ],
 "metadata": {
  "kernelspec": {
   "display_name": "Python 3",
   "language": "python",
   "name": "python3"
  },
  "language_info": {
   "codemirror_mode": {
    "name": "ipython",
    "version": 3
   },
   "file_extension": ".py",
   "mimetype": "text/x-python",
   "name": "python",
   "nbconvert_exporter": "python",
   "pygments_lexer": "ipython3",
   "version": "3.8.5"
  }
 },
 "nbformat": 4,
 "nbformat_minor": 2
}
