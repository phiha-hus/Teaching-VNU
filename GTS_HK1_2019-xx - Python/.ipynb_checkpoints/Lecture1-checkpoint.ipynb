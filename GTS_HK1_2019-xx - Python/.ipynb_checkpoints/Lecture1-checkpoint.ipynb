{
 "cells": [
  {
   "cell_type": "code",
   "execution_count": 2,
   "metadata": {
    "scrolled": true
   },
   "outputs": [
    {
     "data": {
      "text/plain": [
       "0.16666666666666666"
      ]
     },
     "execution_count": 2,
     "metadata": {},
     "output_type": "execute_result"
    }
   ],
   "source": [
    "1/6"
   ]
  },
  {
   "cell_type": "code",
   "execution_count": 5,
   "metadata": {},
   "outputs": [
    {
     "data": {
      "text/plain": [
       "0.0"
      ]
     },
     "execution_count": 5,
     "metadata": {},
     "output_type": "execute_result"
    }
   ],
   "source": [
    "1 + 1e20 - 1e20"
   ]
  },
  {
   "cell_type": "code",
   "execution_count": 6,
   "metadata": {},
   "outputs": [
    {
     "data": {
      "text/plain": [
       "1.0"
      ]
     },
     "execution_count": 6,
     "metadata": {},
     "output_type": "execute_result"
    }
   ],
   "source": [
    "1 + (1e20-1e20)"
   ]
  },
  {
   "cell_type": "code",
   "execution_count": 5,
   "metadata": {},
   "outputs": [
    {
     "data": {
      "text/plain": [
       "1.0"
      ]
     },
     "execution_count": 5,
     "metadata": {},
     "output_type": "execute_result"
    }
   ],
   "source": [
    "1 + 1e14 - 1e14"
   ]
  },
  {
   "cell_type": "code",
   "execution_count": 12,
   "metadata": {},
   "outputs": [
    {
     "data": {
      "text/plain": [
       "5.0"
      ]
     },
     "execution_count": 12,
     "metadata": {},
     "output_type": "execute_result"
    }
   ],
   "source": [
    "from math import sqrt\n",
    "sqrt(25)\n",
    "\n",
    "import math as mp\n",
    "mp.sqrt(25)"
   ]
  },
  {
   "cell_type": "code",
   "execution_count": 6,
   "metadata": {},
   "outputs": [
    {
     "data": {
      "text/plain": [
       "24"
      ]
     },
     "execution_count": 6,
     "metadata": {},
     "output_type": "execute_result"
    }
   ],
   "source": [
    "def sq(t):\n",
    "    return t**2\n",
    "\n",
    "sq(4)\n",
    "24"
   ]
  },
  {
   "cell_type": "code",
   "execution_count": 24,
   "metadata": {},
   "outputs": [
    {
     "name": "stdout",
     "output_type": "stream",
     "text": [
      "i =  0 ---- 0\n",
      "i =  1 ---- 1\n",
      "i =  4 ---- 16\n",
      "i =  6 ---- 36\n"
     ]
    }
   ],
   "source": [
    "for i in [0,1,4,6]:\n",
    "    print(\"i = \",i,\"----\",sq(i))   # in Python 3, print must be followed by ()"
   ]
  },
  {
   "cell_type": "code",
   "execution_count": 20,
   "metadata": {},
   "outputs": [
    {
     "name": "stdout",
     "output_type": "stream",
     "text": [
      "i =  1 ---- 1\n",
      "i =  3 ---- 9\n",
      "i =  5 ---- 25\n",
      "i =  7 ---- 49\n",
      "i =  9 ---- 81\n",
      "i =  11 ---- 121\n",
      "i =  13 ---- 169\n",
      "i =  15 ---- 225\n",
      "i =  17 ---- 289\n",
      "i =  19 ---- 361\n"
     ]
    }
   ],
   "source": [
    "for i in range(1,20,2):\n",
    "    print(\"i = \",i,\"----\",i*i)"
   ]
  },
  {
   "cell_type": "code",
   "execution_count": 19,
   "metadata": {},
   "outputs": [
    {
     "data": {
      "text/plain": [
       "array([ 0.,  1.,  2.,  3.,  4.,  5.,  6.,  7.,  8.,  9., 10.])"
      ]
     },
     "execution_count": 19,
     "metadata": {},
     "output_type": "execute_result"
    }
   ],
   "source": [
    "from numpy import linspace\n",
    "linspace(0,10,11)"
   ]
  },
  {
   "cell_type": "code",
   "execution_count": 23,
   "metadata": {},
   "outputs": [
    {
     "data": {
      "image/png": "[encoded data removed]",
      "text/plain": [
       "<Figure size 432x288 with 1 Axes>"
      ]
     },
     "metadata": {
      "needs_background": "light"
     },
     "output_type": "display_data"
    }
   ],
   "source": [
    "import numpy as np\n",
    "import matplotlib.pyplot as plt\n",
    "\n",
    "I = np.linspace(-10,10,101);\n",
    "J = sq(I)\n",
    "\n",
    "plt.plot(I,J,'ro');\n",
    "plt.title(\"Do thi cua ham bac 2\")\n",
    "plt.legend(\"x^2\")\n",
    "\n",
    "plt.grid()    # khong co cung 0 sao\n",
    "plt.show()\n"
   ]
  },
  {
   "cell_type": "code",
   "execution_count": 29,
   "metadata": {},
   "outputs": [
    {
     "name": "stdout",
     "output_type": "stream",
     "text": [
      "i =  0 ---- 1\n",
      "i =  2 ---- 3\n",
      "i =  4 ---- 5\n",
      "i =  6 ---- 36\n",
      "i =  8 ---- 64\n",
      "i =  10 ---- 11\n",
      "i =  12 ---- 1728\n",
      "i =  14 ---- 2744\n",
      "i =  16 ---- 4096\n",
      "i =  18 ---- 5832\n"
     ]
    }
   ],
   "source": [
    "def sq(t):\n",
    "    return t**2\n",
    "\n",
    "for i in range(0,20,2):\n",
    "    if (i>5) and (i<10):\n",
    "        print(\"i = \",i,\"----\",sq(i))\n",
    "    elif (i>10):    # Dac biet chu y dau cach o day la loi ngay\n",
    "        print(\"i = \",i,\"----\",i**3)\n",
    "    else:\n",
    "        print(\"i = \",i,\"----\",i+1)"
   ]
  },
  {
   "cell_type": "code",
   "execution_count": 31,
   "metadata": {},
   "outputs": [
    {
     "data": {
      "text/plain": [
       "3"
      ]
     },
     "execution_count": 31,
     "metadata": {},
     "output_type": "execute_result"
    }
   ],
   "source": [
    "import numpy as np\n",
    "a = np.array([1, 2, 1])\n",
    "len(a)"
   ]
  },
  {
   "cell_type": "code",
   "execution_count": 14,
   "metadata": {},
   "outputs": [
    {
     "data": {
      "text/plain": [
       "2"
      ]
     },
     "execution_count": 14,
     "metadata": {},
     "output_type": "execute_result"
    }
   ],
   "source": [
    "a[1]"
   ]
  },
  {
   "cell_type": "code",
   "execution_count": 32,
   "metadata": {},
   "outputs": [
    {
     "name": "stdout",
     "output_type": "stream",
     "text": [
      "0.1\n",
      "0.05\n",
      "0.025\n",
      "0.0125\n",
      "0.00625\n",
      "0.003125\n",
      "0.0015625\n",
      "0.00078125\n",
      "0.000390625\n",
      "0.0001953125\n",
      "9.765625e-05\n",
      "4.8828125e-05\n",
      "2.44140625e-05\n",
      "1.220703125e-05\n",
      "6.103515625e-06\n",
      "3.0517578125e-06\n",
      "1.52587890625e-06\n",
      "7.62939453125e-07\n",
      "3.814697265625e-07\n",
      "1.9073486328125e-07\n",
      "9.5367431640625e-08\n",
      "4.76837158203125e-08\n",
      "2.384185791015625e-08\n",
      "1.1920928955078126e-08\n",
      "5.960464477539063e-09\n",
      "2.9802322387695314e-09\n",
      "1.4901161193847657e-09\n",
      "7.450580596923829e-10\n",
      "3.7252902984619143e-10\n",
      "1.8626451492309571e-10\n",
      "9.313225746154786e-11\n",
      "4.656612873077393e-11\n",
      "2.3283064365386964e-11\n",
      "1.1641532182693482e-11\n",
      "5.820766091346741e-12\n",
      "2.9103830456733705e-12\n",
      "1.4551915228366853e-12\n",
      "7.275957614183426e-13\n",
      "3.637978807091713e-13\n",
      "1.8189894035458566e-13\n",
      "9.094947017729283e-14\n",
      "4.5474735088646414e-14\n",
      "2.2737367544323207e-14\n",
      "1.1368683772161604e-14\n",
      "5.684341886080802e-15\n",
      "2.842170943040401e-15\n",
      "1.4210854715202005e-15\n",
      "7.105427357601002e-16\n",
      "3.552713678800501e-16\n",
      "1.7763568394002506e-16\n"
     ]
    }
   ],
   "source": [
    "# while loop for computing machine epsilon\n",
    "eps = 0.1\n",
    "while (1+eps) != 1:\n",
    "    print(eps);\n",
    "    eps = eps/2;    "
   ]
  },
  {
   "cell_type": "code",
   "execution_count": 7,
   "metadata": {},
   "outputs": [
    {
     "data": {
      "text/plain": [
       "sys.float_info(max=1.7976931348623157e+308, max_exp=1024, max_10_exp=308, min=2.2250738585072014e-308, min_exp=-1021, min_10_exp=-307, dig=15, mant_dig=53, epsilon=2.220446049250313e-16, radix=2, rounds=1)"
      ]
     },
     "execution_count": 7,
     "metadata": {},
     "output_type": "execute_result"
    }
   ],
   "source": [
    "import sys\n",
    "sys.float_info"
   ]
  },
  {
   "cell_type": "code",
   "execution_count": 6,
   "metadata": {},
   "outputs": [
    {
     "data": {
      "text/plain": [
       "9.99999993922529e-09"
      ]
     },
     "execution_count": 6,
     "metadata": {},
     "output_type": "execute_result"
    }
   ],
   "source": [
    "1.23456789-1.23456788"
   ]
  },
  {
   "cell_type": "code",
   "execution_count": 2,
   "metadata": {},
   "outputs": [
    {
     "data": {
      "text/plain": [
       "'3.14159265359'"
      ]
     },
     "execution_count": 2,
     "metadata": {},
     "output_type": "execute_result"
    }
   ],
   "source": [
    "from math import pi\n",
    "format(pi, '.12g')  # give 12 significant digits - compare to MATLAB command digits(d)"
   ]
  },
  {
   "cell_type": "code",
   "execution_count": 10,
   "metadata": {},
   "outputs": [
    {
     "data": {
      "text/plain": [
       "'3.14'"
      ]
     },
     "execution_count": 10,
     "metadata": {},
     "output_type": "execute_result"
    }
   ],
   "source": [
    "format(pi,'.2f')    # give 2 digits after the point"
   ]
  },
  {
   "cell_type": "code",
   "execution_count": 8,
   "metadata": {},
   "outputs": [
    {
     "name": "stdout",
     "output_type": "stream",
     "text": [
      "0.30000000000000004\n"
     ]
    },
    {
     "data": {
      "text/plain": [
       "False"
      ]
     },
     "execution_count": 8,
     "metadata": {},
     "output_type": "execute_result"
    }
   ],
   "source": [
    "a = .1 + .1 + .1\n",
    "print(a)\n",
    "\n",
    "a == .3"
   ]
  },
  {
   "cell_type": "code",
   "execution_count": 15,
   "metadata": {},
   "outputs": [
    {
     "data": {
      "text/plain": [
       "True"
      ]
     },
     "execution_count": 15,
     "metadata": {},
     "output_type": "execute_result"
    }
   ],
   "source": [
    "round(.1+.1+.1,1) == round(.3,1)"
   ]
  },
  {
   "cell_type": "code",
   "execution_count": 21,
   "metadata": {},
   "outputs": [
    {
     "name": "stdout",
     "output_type": "stream",
     "text": [
      "16\n"
     ]
    }
   ],
   "source": [
    "# Horner's algorithm\n",
    "# import numpy as np\n",
    "def horner(a,x):\n",
    "    n = len(a)\n",
    "    s = a[n-1]\n",
    "    \n",
    "    for i in range(2,n+1,1):\n",
    "            s = s * x + a[n-i]\n",
    "    print(s)\n",
    "\n",
    "# test\n",
    "import numpy as np\n",
    "a = np.array([1, 2, 1])\n",
    "len(a)\n",
    "horner(a,3)\n"
   ]
  },
  {
   "cell_type": "code",
   "execution_count": 3,
   "metadata": {},
   "outputs": [
    {
     "data": {
      "text/plain": [
       "-2.0"
      ]
     },
     "execution_count": 3,
     "metadata": {},
     "output_type": "execute_result"
    }
   ],
   "source": [
    "2 + 2 - 4 * 3/2"
   ]
  },
  {
   "cell_type": "code",
   "execution_count": 4,
   "metadata": {},
   "outputs": [
    {
     "data": {
      "text/plain": [
       "100.0"
      ]
     },
     "execution_count": 4,
     "metadata": {},
     "output_type": "execute_result"
    }
   ],
   "source": [
    "1e2"
   ]
  },
  {
   "cell_type": "code",
   "execution_count": 9,
   "metadata": {},
   "outputs": [
    {
     "data": {
      "text/plain": [
       "0.0"
      ]
     },
     "execution_count": 9,
     "metadata": {},
     "output_type": "execute_result"
    }
   ],
   "source": [
    "1 + 1e18 - 1e18"
   ]
  },
  {
   "cell_type": "code",
   "execution_count": 13,
   "metadata": {},
   "outputs": [
    {
     "data": {
      "text/plain": [
       "1e+20"
      ]
     },
     "execution_count": 13,
     "metadata": {},
     "output_type": "execute_result"
    }
   ],
   "source": [
    "1+1e20"
   ]
  },
  {
   "cell_type": "code",
   "execution_count": 14,
   "metadata": {},
   "outputs": [
    {
     "data": {
      "text/plain": [
       "1.0"
      ]
     },
     "execution_count": 14,
     "metadata": {},
     "output_type": "execute_result"
    }
   ],
   "source": [
    "1 + 1e-20"
   ]
  },
  {
   "cell_type": "code",
   "execution_count": 11,
   "metadata": {},
   "outputs": [
    {
     "name": "stdout",
     "output_type": "stream",
     "text": [
      "1\n",
      "4\n",
      "9\n",
      "16\n",
      "25\n",
      "36\n",
      "49\n",
      "64\n",
      "81\n",
      "100\n",
      "121\n",
      "144\n",
      "169\n",
      "196\n",
      "225\n",
      "256\n",
      "289\n",
      "324\n",
      "361\n"
     ]
    }
   ],
   "source": [
    "for k in range(1,20,1):\n",
    "    print(k ** 2)"
   ]
  },
  {
   "cell_type": "code",
   "execution_count": 34,
   "metadata": {},
   "outputs": [
    {
     "data": {
      "text/plain": [
       "1.0"
      ]
     },
     "execution_count": 34,
     "metadata": {},
     "output_type": "execute_result"
    }
   ],
   "source": [
    "1 + 1e-17"
   ]
  },
  {
   "cell_type": "code",
   "execution_count": 1,
   "metadata": {},
   "outputs": [],
   "source": [
    "a = 2"
   ]
  },
  {
   "cell_type": "code",
   "execution_count": 2,
   "metadata": {},
   "outputs": [],
   "source": [
    "b = a*2.0"
   ]
  },
  {
   "cell_type": "code",
   "execution_count": 3,
   "metadata": {},
   "outputs": [
    {
     "name": "stdout",
     "output_type": "stream",
     "text": [
      "4.0\n"
     ]
    }
   ],
   "source": [
    "print(b)"
   ]
  },
  {
   "cell_type": "code",
   "execution_count": 4,
   "metadata": {},
   "outputs": [
    {
     "data": {
      "text/plain": [
       "int"
      ]
     },
     "execution_count": 4,
     "metadata": {},
     "output_type": "execute_result"
    }
   ],
   "source": [
    "type(a)"
   ]
  },
  {
   "cell_type": "code",
   "execution_count": null,
   "metadata": {},
   "outputs": [],
   "source": [
    "type(b)"
   ]
  },
  {
   "cell_type": "code",
   "execution_count": 1,
   "metadata": {},
   "outputs": [
    {
     "name": "stdout",
     "output_type": "stream",
     "text": [
      "10 <class 'int'>\n"
     ]
    }
   ],
   "source": [
    "a = 10\n",
    "print(a,type(a))"
   ]
  },
  {
   "cell_type": "code",
   "execution_count": null,
   "metadata": {},
   "outputs": [],
   "source": []
  },
  {
   "cell_type": "code",
   "execution_count": null,
   "metadata": {},
   "outputs": [],
   "source": [
    "a"
   ]
  },
  {
   "cell_type": "code",
   "execution_count": null,
   "metadata": {},
   "outputs": [],
   "source": [
    "type(a)"
   ]
  },
  {
   "cell_type": "code",
   "execution_count": 1,
   "metadata": {},
   "outputs": [],
   "source": [
    "a = 1+1"
   ]
  },
  {
   "cell_type": "code",
   "execution_count": 2,
   "metadata": {},
   "outputs": [
    {
     "name": "stdout",
     "output_type": "stream",
     "text": [
      "2\n"
     ]
    }
   ],
   "source": [
    "print(a)"
   ]
  },
  {
   "cell_type": "code",
   "execution_count": 3,
   "metadata": {},
   "outputs": [
    {
     "name": "stdout",
     "output_type": "stream",
     "text": [
      "8\n"
     ]
    },
    {
     "data": {
      "text/plain": [
       "8"
      ]
     },
     "execution_count": 3,
     "metadata": {},
     "output_type": "execute_result"
    }
   ],
   "source": [
    "def dodai(b):    \n",
    "    n = len(b)\n",
    "    print(n)\n",
    "    return n\n",
    "\n",
    "b = '12232322'\n",
    "dodai(b)\n"
   ]
  },
  {
   "cell_type": "code",
   "execution_count": 7,
   "metadata": {},
   "outputs": [],
   "source": [
    "a = 1"
   ]
  },
  {
   "cell_type": "code",
   "execution_count": 8,
   "metadata": {},
   "outputs": [],
   "source": [
    "b = 2 * 2"
   ]
  },
  {
   "cell_type": "code",
   "execution_count": 9,
   "metadata": {},
   "outputs": [
    {
     "data": {
      "text/plain": [
       "16"
      ]
     },
     "execution_count": 9,
     "metadata": {},
     "output_type": "execute_result"
    }
   ],
   "source": [
    "b ** 2"
   ]
  },
  {
   "cell_type": "code",
   "execution_count": 10,
   "metadata": {},
   "outputs": [
    {
     "name": "stdout",
     "output_type": "stream",
     "text": [
      "4\n"
     ]
    }
   ],
   "source": [
    "print(b)"
   ]
  },
  {
   "cell_type": "code",
   "execution_count": 11,
   "metadata": {},
   "outputs": [
    {
     "data": {
      "text/plain": [
       "int"
      ]
     },
     "execution_count": 11,
     "metadata": {},
     "output_type": "execute_result"
    }
   ],
   "source": [
    "type(b)"
   ]
  },
  {
   "cell_type": "code",
   "execution_count": 12,
   "metadata": {},
   "outputs": [],
   "source": [
    "b = 4.0"
   ]
  },
  {
   "cell_type": "code",
   "execution_count": 14,
   "metadata": {},
   "outputs": [
    {
     "data": {
      "text/plain": [
       "True"
      ]
     },
     "execution_count": 14,
     "metadata": {},
     "output_type": "execute_result"
    }
   ],
   "source": [
    ".1 + .1 == .2"
   ]
  },
  {
   "cell_type": "code",
   "execution_count": 16,
   "metadata": {},
   "outputs": [
    {
     "data": {
      "text/plain": [
       "False"
      ]
     },
     "execution_count": 16,
     "metadata": {},
     "output_type": "execute_result"
    }
   ],
   "source": [
    ".1 + .1 != .2"
   ]
  },
  {
   "cell_type": "code",
   "execution_count": 17,
   "metadata": {},
   "outputs": [
    {
     "name": "stdout",
     "output_type": "stream",
     "text": [
      "0\n",
      "1\n",
      "4\n",
      "9\n",
      "16\n",
      "25\n",
      "36\n",
      "49\n",
      "64\n",
      "81\n",
      "100\n"
     ]
    }
   ],
   "source": [
    "# In binh phuong cac so tu 1 den 10\n",
    "\n",
    "for k in range(0,11):\n",
    "    print(k**2)"
   ]
  },
  {
   "cell_type": "code",
   "execution_count": 18,
   "metadata": {},
   "outputs": [
    {
     "name": "stdout",
     "output_type": "stream",
     "text": [
      "Thay Phi dep trai qua\n",
      "Thay Phi dep trai qua\n",
      "Thay Phi dep trai qua\n"
     ]
    }
   ],
   "source": [
    "# Vi du ve ham so \n",
    "\"\"\"\n",
    "asldlaasldflasldfasldfla sdfasdfa;sd;fa;sdfas\n",
    "asdfaksdfkaskdfkaskdfkasdf\n",
    "asdfasdfassdsdfasdas\n",
    "\"\"\"\n",
    "def in_ra(n):\n",
    "    for k in range(n):\n",
    "        print(\"Thay Phi dep trai qua\")\n",
    "        \n",
    "n = 3;\n",
    "in_ra(n)"
   ]
  },
  {
   "cell_type": "code",
   "execution_count": 20,
   "metadata": {
    "scrolled": true
   },
   "outputs": [
    {
     "name": "stdout",
     "output_type": "stream",
     "text": [
      "[0, 1, 1, 1, 1, 4]\n"
     ]
    }
   ],
   "source": [
    "a = [0, 1, 2, 3, 4];\n",
    "len(a)\n",
    "a[2:4] = [1, 1, 1]\n",
    "print(a)"
   ]
  },
  {
   "cell_type": "code",
   "execution_count": 21,
   "metadata": {},
   "outputs": [
    {
     "name": "stdout",
     "output_type": "stream",
     "text": [
      "[2, 3]\n"
     ]
    }
   ],
   "source": [
    "a = [0, 1, 2, 3, 4];\n",
    "print(a[2:4])"
   ]
  },
  {
   "cell_type": "code",
   "execution_count": 4,
   "metadata": {},
   "outputs": [
    {
     "name": "stdout",
     "output_type": "stream",
     "text": [
      "4.7499075637496086e+294\n"
     ]
    }
   ],
   "source": [
    "n = 7001;\n",
    "px = n;\n",
    "x = 1.1;\n",
    "\n",
    "for k in range(n):\n",
    "    px = px * x + (n-1)\n",
    "    \n",
    "print(px)\n",
    "    \n",
    "    "
   ]
  },
  {
   "cell_type": "code",
   "execution_count": 1,
   "metadata": {},
   "outputs": [],
   "source": [
    "a = 1 + 2"
   ]
  },
  {
   "cell_type": "code",
   "execution_count": 2,
   "metadata": {},
   "outputs": [
    {
     "name": "stdout",
     "output_type": "stream",
     "text": [
      "3\n"
     ]
    }
   ],
   "source": [
    "print(a)"
   ]
  },
  {
   "cell_type": "code",
   "execution_count": 7,
   "metadata": {},
   "outputs": [
    {
     "data": {
      "text/plain": [
       "6"
      ]
     },
     "execution_count": 7,
     "metadata": {},
     "output_type": "execute_result"
    }
   ],
   "source": [
    "a * 2"
   ]
  },
  {
   "cell_type": "code",
   "execution_count": 8,
   "metadata": {},
   "outputs": [
    {
     "data": {
      "text/plain": [
       "9"
      ]
     },
     "execution_count": 8,
     "metadata": {},
     "output_type": "execute_result"
    }
   ],
   "source": [
    "a**2"
   ]
  },
  {
   "cell_type": "code",
   "execution_count": 9,
   "metadata": {},
   "outputs": [
    {
     "data": {
      "text/plain": [
       "True"
      ]
     },
     "execution_count": 9,
     "metadata": {},
     "output_type": "execute_result"
    }
   ],
   "source": [
    "1 + 1 == 2"
   ]
  },
  {
   "cell_type": "code",
   "execution_count": 10,
   "metadata": {},
   "outputs": [
    {
     "data": {
      "text/plain": [
       "True"
      ]
     },
     "execution_count": 10,
     "metadata": {},
     "output_type": "execute_result"
    }
   ],
   "source": [
    "1 + 1 != 3"
   ]
  },
  {
   "cell_type": "code",
   "execution_count": 11,
   "metadata": {},
   "outputs": [
    {
     "data": {
      "text/plain": [
       "' I love youyou love me'"
      ]
     },
     "execution_count": 11,
     "metadata": {},
     "output_type": "execute_result"
    }
   ],
   "source": [
    "a = \" I love you\"\n",
    "\n",
    "b = \"you love me\"\n",
    "\n",
    "a+b"
   ]
  },
  {
   "cell_type": "code",
   "execution_count": 13,
   "metadata": {},
   "outputs": [
    {
     "name": "stdout",
     "output_type": "stream",
     "text": [
      "24\n"
     ]
    }
   ],
   "source": [
    "from math import factorial\n",
    "\n",
    "a = factorial(4)\n",
    "rint(a)"
   ]
  },
  {
   "cell_type": "code",
   "execution_count": 25,
   "metadata": {},
   "outputs": [
    {
     "name": "stdout",
     "output_type": "stream",
     "text": [
      "4\n"
     ]
    }
   ],
   "source": [
    "\"\"\"\n",
    "Code nay tim binh phuong cua 1 so a\n",
    "bang phuong phap a**2\n",
    "\"\"\"\n",
    "def bp(a):\n",
    "    b = a**2\n",
    "    return b\n",
    "\n",
    "print(bp(2))"
   ]
  },
  {
   "cell_type": "code",
   "execution_count": 48,
   "metadata": {},
   "outputs": [
    {
     "name": "stdout",
     "output_type": "stream",
     "text": [
      "1.4962458336203725e+253\n",
      "0.004998207092285156\n"
     ]
    }
   ],
   "source": [
    "from time import time\n",
    "\n",
    "tic = time()\n",
    "\n",
    "n = 6e+3\n",
    "px = n+1;\n",
    "x = 1.1 \n",
    "\n",
    "for k in range(2,6001):\n",
    "    px += (k+1) * (x**k)\n",
    "\n",
    "#for k in range(6000,2,-1):\n",
    "#    px = px * x + k ; \n",
    "\n",
    "print(px)\n",
    "toc = time()\n",
    "\n",
    "print(toc-tic)"
   ]
  },
  {
   "cell_type": "code",
   "execution_count": null,
   "metadata": {},
   "outputs": [],
   "source": [
    "from math import factorial, exp\n",
    "n = 1; a = 1;\n",
    "e = exp(1)\n",
    "\n",
    "while (abs(e-a)>1e-6):\n",
    "    n += 1\n",
    "    print(n)\n",
    "    a += 1/factorial(n)\n",
    "    print(a)\n",
    "    \n"
   ]
  },
  {
   "cell_type": "code",
   "execution_count": null,
   "metadata": {},
   "outputs": [],
   "source": [
    "def sq(t):\n",
    "    return t**2 \n",
    "\n",
    "import numpy as np\n",
    "import matplotlib.pyplot as plt\n",
    "\n",
    "I = np.linspace(-10,10,101);\n",
    "\n",
    "J = sq(I)\n",
    "\n",
    "plt.subplot(2,2,1)\n",
    "plt.plot(I,J,'ro',I,I**2-50,'b-.');\n",
    "plt.title(\"Do thi cua ham bac 2\")\n",
    "plt.legend(['x^2','x^3'])\n",
    "\n",
    "plt.grid()    # khong co cung 0 sao\n",
    "plt.show(1)\n",
    "\n",
    "\n",
    "plt.subplot(2,2,4)\n",
    "plt.plot(I,J,'ro',I,I**2-50,'b-.');\n",
    "plt.title(\"Do thi cua ham bac 2\")\n",
    "plt.legend(['x^2','x^3'])\n",
    "plt.show(1)\n",
    "\n"
   ]
  },
  {
   "cell_type": "code",
   "execution_count": null,
   "metadata": {},
   "outputs": [],
   "source": []
  }
 ],
 "metadata": {
  "kernelspec": {
   "display_name": "Python 3",
   "language": "python",
   "name": "python3"
  },
  "language_info": {
   "codemirror_mode": {
    "name": "ipython",
    "version": 3
   },
   "file_extension": ".py",
   "mimetype": "text/x-python",
   "name": "python",
   "nbconvert_exporter": "python",
   "pygments_lexer": "ipython3",
   "version": "3.7.3"
  }
 },
 "nbformat": 4,
 "nbformat_minor": 2
}
