{
 "cells": [
  {
   "cell_type": "code",
   "execution_count": 7,
   "metadata": {},
   "outputs": [
    {
     "name": "stdout",
     "output_type": "stream",
     "text": [
      "1.234567e-03\n"
     ]
    }
   ],
   "source": [
    "a = 0.001234567\n",
    "print(format(a,'.6e'))"
   ]
  },
  {
   "cell_type": "code",
   "execution_count": 8,
   "metadata": {},
   "outputs": [
    {
     "name": "stdout",
     "output_type": "stream",
     "text": [
      "1.234566e-03\n"
     ]
    }
   ],
   "source": [
    "b = 0.001234566\n",
    "print(format(b,'.6e'))"
   ]
  },
  {
   "cell_type": "code",
   "execution_count": 11,
   "metadata": {},
   "outputs": [
    {
     "name": "stdout",
     "output_type": "stream",
     "text": [
      "Đánh mất chữ số chắc là thế này\n",
      "1.000000e-09\n"
     ]
    }
   ],
   "source": [
    "print(\"Đánh mất chữ số chắc là thế này\")\n",
    "c = a -b\n",
    "print(format(c,'.6e'))"
   ]
  },
  {
   "cell_type": "code",
   "execution_count": 6,
   "metadata": {},
   "outputs": [
    {
     "name": "stdout",
     "output_type": "stream",
     "text": [
      "1.0\n"
     ]
    }
   ],
   "source": [
    "from math import sin, pi, atan\n",
    "print(atan(1)*4/pi)"
   ]
  },
  {
   "cell_type": "code",
   "execution_count": 1,
   "metadata": {},
   "outputs": [
    {
     "name": "stdout",
     "output_type": "stream",
     "text": [
      "2.718281828459045\n"
     ]
    }
   ],
   "source": [
    "from math import e\n",
    "print(e)"
   ]
  },
  {
   "cell_type": "code",
   "execution_count": 3,
   "metadata": {},
   "outputs": [
    {
     "name": "stdout",
     "output_type": "stream",
     "text": [
      "-8.459045020003941e-09\n",
      "-3.111908754803122e-09\n"
     ]
    }
   ],
   "source": [
    "e2 = 2.71828182 # 8 cso sau .\n",
    "s = 9 # co 9 chu so chac\n",
    "\n",
    "delta_e = e2-e # tinh sai so tuyet doi\n",
    "print(delta_e)\n",
    "\n",
    "delta2_e = delta_e/e # tinh sai so tuong doi\n",
    "print(delta2_e)\n",
    "\n"
   ]
  },
  {
   "cell_type": "code",
   "execution_count": 31,
   "metadata": {},
   "outputs": [
    {
     "name": "stdout",
     "output_type": "stream",
     "text": [
      "0.000000e+00\n"
     ]
    }
   ],
   "source": [
    "x = 1e-6\n",
    "from math import sqrt\n",
    "\n",
    "c = round(sqrt(1+x**2),6) # tinh toan chinh xac den 6 chu so thap phan\n",
    "print(format(c-1,'.6e')) "
   ]
  },
  {
   "cell_type": "code",
   "execution_count": 30,
   "metadata": {},
   "outputs": [
    {
     "name": "stdout",
     "output_type": "stream",
     "text": [
      "5.000000e-13\n",
      "5.000445e-13\n"
     ]
    }
   ],
   "source": [
    "d = x**2;\n",
    "c = d/(sqrt(1+d)+1)   # tranh danh mat cac chu so chac\n",
    "print(format(c,'.6e'))\n",
    "\n",
    "c = sqrt(1+d) - 1\n",
    "print(format(c,'.6e'))"
   ]
  },
  {
   "cell_type": "code",
   "execution_count": 36,
   "metadata": {},
   "outputs": [
    {
     "name": "stdout",
     "output_type": "stream",
     "text": [
      "0.0\n",
      "-1.66666666667e-19\n",
      "-1.66653732372e-19\n"
     ]
    }
   ],
   "source": [
    "from math import sin\n",
    "x = 1e-6;\n",
    "y = round(sin(x),12); # lam tron den 12 chu so thap phan\n",
    "print(y-x)\n",
    "\n",
    "d = -x**3/6\n",
    "print(format(d,'.12g'))\n",
    "\n",
    "print(format(sin(x)-x,'.12g'))"
   ]
  },
  {
   "cell_type": "code",
   "execution_count": 7,
   "metadata": {},
   "outputs": [
    {
     "name": "stdout",
     "output_type": "stream",
     "text": [
      "8\n"
     ]
    }
   ],
   "source": [
    "n = 1;\n",
    "x = 1e-1; u = x;\n",
    "d = x**n/n ;\n",
    "\n",
    "while (d>5e-9):\n",
    "    n += 1 ;\n",
    "    u = u * x;\n",
    "    d = u/n ;\n",
    "    \n",
    "print(n)"
   ]
  },
  {
   "cell_type": "code",
   "execution_count": 2,
   "metadata": {},
   "outputs": [
    {
     "name": "stdout",
     "output_type": "stream",
     "text": [
      "0.09531018095238097\n"
     ]
    }
   ],
   "source": [
    "S = 0;\n",
    "for k in range(1,n,2):\n",
    "    S = S + x**k/k\n",
    "for k in range(2,n,2):\n",
    "    S = S - x**k/k\n",
    "\n",
    "print(S)\n",
    "    \n",
    "    "
   ]
  },
  {
   "cell_type": "code",
   "execution_count": 5,
   "metadata": {},
   "outputs": [
    {
     "name": "stdout",
     "output_type": "stream",
     "text": [
      "0.09531018095238097\n"
     ]
    }
   ],
   "source": [
    "S = 0;\n",
    "for k in range(1,n):\n",
    "    S = S + (-1)**(k-1) * x**k/k\n",
    "print(S)   "
   ]
  },
  {
   "cell_type": "code",
   "execution_count": 9,
   "metadata": {},
   "outputs": [
    {
     "name": "stdout",
     "output_type": "stream",
     "text": [
      "0.7853981633974483\n"
     ]
    }
   ],
   "source": [
    "from math import atan\n",
    "a  = 1\n",
    "print(atan(a))"
   ]
  },
  {
   "cell_type": "code",
   "execution_count": 11,
   "metadata": {},
   "outputs": [
    {
     "name": "stdout",
     "output_type": "stream",
     "text": [
      "3.983478e-03\n",
      "1.267980e-03\n"
     ]
    }
   ],
   "source": [
    "from math import atan\n",
    "def artan(x):\n",
    "    return x - x**3/3 + x**5/5\n",
    "\n",
    "# tinh gia tri chinh xac\n",
    "a = 4 * (atan(.5) + atan(1./3))\n",
    "a_xapxi = 4 * (artan(.5)+artan(1./3))\n",
    "\n",
    "# tinh sai so tuyet doi va tuong doi\n",
    "delta = abs(a_xapxi-a);\n",
    "print(format(delta,'.6e'))\n",
    "\n",
    "delta_2 = abs(delta/a);\n",
    "print(format(delta_2,'.6e'))\n",
    "\n"
   ]
  },
  {
   "cell_type": "code",
   "execution_count": 30,
   "metadata": {},
   "outputs": [
    {
     "name": "stdout",
     "output_type": "stream",
     "text": [
      "-1.999000e+00\n",
      "-2.000000e+00\n",
      "5.002620e-04\n"
     ]
    }
   ],
   "source": [
    "from math import sin, cos\n",
    "def hamf(x):\n",
    "    value = (x*cos(x)-sin(x))/(x-sin(x))\n",
    "    return value\n",
    "\n",
    "print(format(hamf(0.1),'e'))\n",
    "\n",
    "def sinP(x):\n",
    "    return x - x**3/6  #+ x**5/120\n",
    "\n",
    "def cosP(x):\n",
    "    return 1 - x**2/2  #+ x**4/24\n",
    "\n",
    "x = 0.1\n",
    "value = (x*cosP(x)-sinP(x))/(x-sinP(x))\n",
    "\n",
    "print(format(value,'e'))\n",
    "\n",
    "delta_2 = abs((value-hamf(0.1))/hamf(0.1)) \n",
    "print(format(delta_2,'.6e'))"
   ]
  },
  {
   "cell_type": "code",
   "execution_count": 55,
   "metadata": {},
   "outputs": [
    {
     "name": "stdout",
     "output_type": "stream",
     "text": [
      "[1 2 3 4 5]\n",
      "do dai cua vector he so la --  5\n",
      "5\n",
      "4\n",
      "3\n",
      "2\n",
      "1\n"
     ]
    }
   ],
   "source": [
    "import numpy as np\n",
    "from numpy import array\n",
    "\n",
    "a = array([1, 2, 3, 4, 5])\n",
    "print(a)\n",
    "n = len(a)\n",
    "print(\"do dai cua vector he so la -- \",n)\n",
    "\n",
    "for i in range(1,n+1):\n",
    "    print(a[n-i])\n"
   ]
  },
  {
   "cell_type": "code",
   "execution_count": 59,
   "metadata": {},
   "outputs": [
    {
     "name": "stdout",
     "output_type": "stream",
     "text": [
      "32\n"
     ]
    }
   ],
   "source": [
    "# Horner's algorithm\n",
    "# import numpy as np\n",
    "def horner(a,x):\n",
    "    n = len(a)\n",
    "    s = a[n-1]\n",
    "    \n",
    "    for i in range(2,n+1):\n",
    "            s = s * x + a[n-i]\n",
    "    print(s)\n",
    "\n",
    "# test\n",
    "import numpy as np\n",
    "a = np.array([1, 5, 10, 10, 5, 1])\n",
    "len(a)\n",
    "horner(a,1)"
   ]
  },
  {
   "cell_type": "code",
   "execution_count": 19,
   "metadata": {},
   "outputs": [
    {
     "name": "stdout",
     "output_type": "stream",
     "text": [
      "0.7854068900437082\n",
      "0.707112952\n"
     ]
    }
   ],
   "source": [
    "from math import sin, pi\n",
    "\n",
    "x = pi/4 + pi/180 * 5e-4;\n",
    "print(x)\n",
    "r = sin(x)\n",
    "print(format(r,'.9f'))\n"
   ]
  },
  {
   "cell_type": "code",
   "execution_count": null,
   "metadata": {},
   "outputs": [],
   "source": [
    "def giai_tamthuc(A):\n",
    "    n = len(A)\n",
    "    if n!=3:\n",
    "        print(\"Loi 0 phai tam thuc\")\n",
    "    elif A[0]==0:\n",
    "        print(\"Khong phai tam thuc\")\n",
    "    else:\n",
    "        delta = A[1]**2 - 4 * A[0]*A[2];\n",
    "        x1 = b\n",
    "    "
   ]
  }
 ],
 "metadata": {
  "kernelspec": {
   "display_name": "Python 3",
   "language": "python",
   "name": "python3"
  },
  "language_info": {
   "codemirror_mode": {
    "name": "ipython",
    "version": 3
   },
   "file_extension": ".py",
   "mimetype": "text/x-python",
   "name": "python",
   "nbconvert_exporter": "python",
   "pygments_lexer": "ipython3",
   "version": "3.7.3"
  }
 },
 "nbformat": 4,
 "nbformat_minor": 2
}
